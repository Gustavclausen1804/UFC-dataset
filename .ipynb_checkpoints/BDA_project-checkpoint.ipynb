{
 "cells": [
  {
   "cell_type": "markdown",
   "metadata": {},
   "source": [
    "### READ ME\n",
    "This is a final project for the course 'Business Data Analytics, Quantitative Methods and Visualization' (2021, Copenhagen Business School).\n",
    "The goal of this project is to be able to predict the outcome of a certain UFC fight, more specifically to predict whether the Red or Blue fighter is more likely to win the match.\n",
    "\n",
    "We are going to do this through the following steps:\n",
    "1. __Importing necessary libraries and tools.__\n",
    "2. __Loading and cleaning the dataset.__\n",
    "3. __Exploratory Data Analysis.__\n",
    "4. __Data pre-processing.__\n",
    "5. __Machine Learning Models.__\n",
    "6. __Making a prediction.__\n",
    "7. __Showcasing results.__"
   ]
  },
  {
   "cell_type": "markdown",
   "metadata": {},
   "source": [
    "### Legend\n",
    "\n",
    "- ufc = the original dataset\n",
    "- column_names = list of column names\n",
    "- ufc_df = the dataset without NaNs\n",
    "- datatypes = dictionary with column names + their datatypes\n",
    "- ufc_ohe = one hot encoded dataset"
   ]
  },
  {
   "cell_type": "markdown",
   "metadata": {},
   "source": [
    "# 1. Importing necessary libraries and tools."
   ]
  },
  {
   "cell_type": "code",
   "execution_count": 1,
   "metadata": {},
   "outputs": [],
   "source": [
    "# libraries\n",
    "\n",
    "import pandas as pd #used\n",
    "import matplotlib.pyplot as plt #used\n",
    "import numpy as np #used\n",
    "import seaborn as sns #used\n",
    "\n",
    "# models\n",
    "\n",
    "from sklearn.neighbors import KNeighborsClassifier #used\n",
    "from sklearn.neural_network import MLPClassifier #used\n",
    "from sklearn.tree import DecisionTreeClassifier #used\n",
    "from sklearn.ensemble import RandomForestClassifier #used\n",
    "\n",
    "from sklearn.preprocessing import MinMaxScaler #used\n",
    "from sklearn.feature_selection import SelectKBest #used\n",
    "from sklearn.svm import LinearSVC\n",
    "from sklearn.linear_model import Lasso\n",
    "from sklearn.feature_extraction.text import CountVectorizer\n",
    "from sklearn.decomposition import PCA\n",
    "from sklearn.manifold import TSNE\n",
    "\n",
    "# other tools\n",
    "\n",
    "from sklearn.model_selection import train_test_split #used\n",
    "from sklearn.metrics import accuracy_score #used\n",
    "\n",
    "import warnings #used"
   ]
  },
  {
   "cell_type": "markdown",
   "metadata": {},
   "source": [
    "# 2. Loading and cleaning the dataset."
   ]
  },
  {
   "cell_type": "markdown",
   "metadata": {},
   "source": [
    "### 2.1 Load excel file (ufc.xlsx) and print out the first couple rows."
   ]
  },
  {
   "cell_type": "code",
   "execution_count": 2,
   "metadata": {},
   "outputs": [],
   "source": [
    "ufc = pd.read_excel('ufc.xlsx')"
   ]
  },
  {
   "cell_type": "markdown",
   "metadata": {},
   "source": [
    "### 2.2 Get number of rows and columns."
   ]
  },
  {
   "cell_type": "code",
   "execution_count": 5,
   "metadata": {},
   "outputs": [
    {
     "name": "stdout",
     "output_type": "stream",
     "text": [
      "Number of rows: 1194\n",
      "Number of columns: 76\n",
      "hello world\n"
     ]
    }
   ],
   "source": [
    "print('Number of rows:', ufc.shape[0])\n",
    "print('Number of columns:', ufc.shape[1])\n",
    "print(\"hello world\")"
   ]
  },
  {
   "cell_type": "markdown",
   "metadata": {},
   "source": [
    "### 2.3 Get the list of column names."
   ]
  },
  {
   "cell_type": "code",
   "execution_count": 4,
   "metadata": {},
   "outputs": [],
   "source": [
    "column_names = ufc.columns"
   ]
  },
  {
   "cell_type": "markdown",
   "metadata": {},
   "source": [
    "#### *We can call this list whenever we want to check the name of a column.*"
   ]
  },
  {
   "cell_type": "markdown",
   "metadata": {},
   "source": [
    "### 2.4 Check for missing data."
   ]
  },
  {
   "cell_type": "code",
   "execution_count": 6,
   "metadata": {},
   "outputs": [
    {
     "name": "stdout",
     "output_type": "stream",
     "text": [
      "<class 'pandas.core.frame.DataFrame'>\n",
      "RangeIndex: 4304 entries, 0 to 4303\n",
      "Data columns (total 81 columns):\n",
      " #   Column                        Non-Null Count  Dtype         \n",
      "---  ------                        --------------  -----         \n",
      " 0   R_fighter                     4304 non-null   object        \n",
      " 1   B_fighter                     4304 non-null   object        \n",
      " 2   R_odds_moneyline              4304 non-null   int64         \n",
      " 3   R_odds_decimal                4304 non-null   float64       \n",
      " 4   B_odds_moneyline              4304 non-null   int64         \n",
      " 5   B_odds_decimal                4304 non-null   float64       \n",
      " 6   R_ev                          4304 non-null   float64       \n",
      " 7   B_ev                          4304 non-null   float64       \n",
      " 8   date                          4304 non-null   datetime64[ns]\n",
      " 9   location                      4304 non-null   object        \n",
      " 10  country                       4304 non-null   object        \n",
      " 11  Winner                        4304 non-null   object        \n",
      " 12  title_bout                    4304 non-null   bool          \n",
      " 13  weight_class                  4304 non-null   object        \n",
      " 14  gender                        4304 non-null   object        \n",
      " 15  no_of_rounds                  4304 non-null   int64         \n",
      " 16  B_current_lose_streak         4304 non-null   int64         \n",
      " 17  B_current_win_streak          4304 non-null   int64         \n",
      " 18  B_draw                        4304 non-null   int64         \n",
      " 19  B_avg_SIG_STR_landed          3355 non-null   float64       \n",
      " 20  B_avg_SIG_STR_pct             3523 non-null   float64       \n",
      " 21  B_avg_SUB_ATT                 3456 non-null   float64       \n",
      " 22  B_avg_TD_landed               3455 non-null   float64       \n",
      " 23  B_avg_TD_pct                  3444 non-null   float64       \n",
      " 24  B_longest_win_streak          4304 non-null   int64         \n",
      " 25  B_losses                      4304 non-null   int64         \n",
      " 26  B_total_rounds_fought         4304 non-null   int64         \n",
      " 27  B_total_title_bouts           4304 non-null   int64         \n",
      " 28  B_win_by_Decision_Majority    4304 non-null   int64         \n",
      " 29  B_win_by_Decision_Split       4304 non-null   int64         \n",
      " 30  B_win_by_Decision_Unanimous   4304 non-null   int64         \n",
      " 31  B_win_by_KO/TKO               4304 non-null   int64         \n",
      " 32  B_win_by_Submission           4304 non-null   int64         \n",
      " 33  B_win_by_TKO_Doctor_Stoppage  4304 non-null   int64         \n",
      " 34  B_wins                        4304 non-null   int64         \n",
      " 35  B_Stance                      4304 non-null   object        \n",
      " 36  B_Height_cms                  4304 non-null   float64       \n",
      " 37  B_Reach_cms                   4304 non-null   float64       \n",
      " 38  B_Weight_lbs                  4304 non-null   int64         \n",
      " 39  R_current_lose_streak         4304 non-null   int64         \n",
      " 40  R_current_win_streak          4304 non-null   int64         \n",
      " 41  R_draw                        4304 non-null   int64         \n",
      " 42  R_avg_SIG_STR_landed          3842 non-null   float64       \n",
      " 43  R_avg_SIG_STR_pct             3943 non-null   float64       \n",
      " 44  R_avg_SUB_ATT                 3943 non-null   float64       \n",
      " 45  R_avg_TD_landed               3943 non-null   float64       \n",
      " 46  R_avg_TD_pct                  3931 non-null   float64       \n",
      " 47  R_longest_win_streak          4304 non-null   int64         \n",
      " 48  R_losses                      4304 non-null   int64         \n",
      " 49  R_total_rounds_fought         4304 non-null   int64         \n",
      " 50  R_total_title_bouts           4304 non-null   int64         \n",
      " 51  R_win_by_Decision_Majority    4304 non-null   int64         \n",
      " 52  R_win_by_Decision_Split       4304 non-null   int64         \n",
      " 53  R_win_by_Decision_Unanimous   4304 non-null   int64         \n",
      " 54  R_win_by_KO/TKO               4304 non-null   int64         \n",
      " 55  R_win_by_Submission           4304 non-null   int64         \n",
      " 56  R_win_by_TKO_Doctor_Stoppage  4304 non-null   int64         \n",
      " 57  R_wins                        4304 non-null   int64         \n",
      " 58  R_Stance                      4304 non-null   object        \n",
      " 59  R_Height_cms                  4304 non-null   float64       \n",
      " 60  R_Reach_cms                   4304 non-null   float64       \n",
      " 61  R_Weight_lbs                  4304 non-null   int64         \n",
      " 62  R_age                         4304 non-null   int64         \n",
      " 63  B_age                         4304 non-null   int64         \n",
      " 64  lose_streak_dif               4304 non-null   int64         \n",
      " 65  win_streak_dif                4304 non-null   int64         \n",
      " 66  longest_win_streak_dif        4304 non-null   int64         \n",
      " 67  win_dif                       4304 non-null   int64         \n",
      " 68  loss_dif                      4304 non-null   int64         \n",
      " 69  total_round_dif               4304 non-null   int64         \n",
      " 70  total_title_bout_dif          4304 non-null   int64         \n",
      " 71  ko_dif                        4304 non-null   int64         \n",
      " 72  sub_dif                       4304 non-null   int64         \n",
      " 73  height_dif                    4304 non-null   float64       \n",
      " 74  reach_dif                     4304 non-null   float64       \n",
      " 75  age_dif                       4304 non-null   int64         \n",
      " 76  sig_str_dif                   4304 non-null   float64       \n",
      " 77  avg_sub_att_dif               4304 non-null   float64       \n",
      " 78  avg_td_dif                    4304 non-null   float64       \n",
      " 79  empty_arena                   4304 non-null   int64         \n",
      " 80  constant_1                    4304 non-null   int64         \n",
      "dtypes: bool(1), datetime64[ns](1), float64(23), int64(47), object(9)\n",
      "memory usage: 2.6+ MB\n"
     ]
    }
   ],
   "source": [
    "ufc.info()"
   ]
  },
  {
   "cell_type": "markdown",
   "metadata": {},
   "source": [
    "#### As we can see, there are some NaNs in these columns that should later be taken care of:\n",
    "- B_avg_SIG_STR_landed\n",
    "- B_avg_SIG_STR_pct\n",
    "- B_avg_SUB_ATT     \n",
    "- B_avg_TD_landed      \n",
    "- B_avg_TD_pct\n",
    "- R_avg_SIG_STR_landed\n",
    "- R_avg_SIG_STR_pct\n",
    "- R_avg_SUB_ATT     \n",
    "- R_avg_TD_landed      \n",
    "- R_avg_TD_pct  "
   ]
  },
  {
   "cell_type": "markdown",
   "metadata": {},
   "source": [
    "### 2.5 Check for duplicates."
   ]
  },
  {
   "cell_type": "code",
   "execution_count": 7,
   "metadata": {},
   "outputs": [
    {
     "data": {
      "text/html": [
       "<div>\n",
       "<style scoped>\n",
       "    .dataframe tbody tr th:only-of-type {\n",
       "        vertical-align: middle;\n",
       "    }\n",
       "\n",
       "    .dataframe tbody tr th {\n",
       "        vertical-align: top;\n",
       "    }\n",
       "\n",
       "    .dataframe thead th {\n",
       "        text-align: right;\n",
       "    }\n",
       "</style>\n",
       "<table border=\"1\" class=\"dataframe\">\n",
       "  <thead>\n",
       "    <tr style=\"text-align: right;\">\n",
       "      <th></th>\n",
       "      <th>R_fighter</th>\n",
       "      <th>B_fighter</th>\n",
       "      <th>R_odds_moneyline</th>\n",
       "      <th>R_odds_decimal</th>\n",
       "      <th>B_odds_moneyline</th>\n",
       "      <th>B_odds_decimal</th>\n",
       "      <th>R_ev</th>\n",
       "      <th>B_ev</th>\n",
       "      <th>date</th>\n",
       "      <th>location</th>\n",
       "      <th>...</th>\n",
       "      <th>ko_dif</th>\n",
       "      <th>sub_dif</th>\n",
       "      <th>height_dif</th>\n",
       "      <th>reach_dif</th>\n",
       "      <th>age_dif</th>\n",
       "      <th>sig_str_dif</th>\n",
       "      <th>avg_sub_att_dif</th>\n",
       "      <th>avg_td_dif</th>\n",
       "      <th>empty_arena</th>\n",
       "      <th>constant_1</th>\n",
       "    </tr>\n",
       "  </thead>\n",
       "  <tbody>\n",
       "  </tbody>\n",
       "</table>\n",
       "<p>0 rows × 81 columns</p>\n",
       "</div>"
      ],
      "text/plain": [
       "Empty DataFrame\n",
       "Columns: [R_fighter, B_fighter, R_odds_moneyline, R_odds_decimal, B_odds_moneyline, B_odds_decimal, R_ev, B_ev, date, location, country, Winner, title_bout, weight_class, gender, no_of_rounds, B_current_lose_streak, B_current_win_streak, B_draw, B_avg_SIG_STR_landed, B_avg_SIG_STR_pct, B_avg_SUB_ATT, B_avg_TD_landed, B_avg_TD_pct, B_longest_win_streak, B_losses, B_total_rounds_fought, B_total_title_bouts, B_win_by_Decision_Majority, B_win_by_Decision_Split, B_win_by_Decision_Unanimous, B_win_by_KO/TKO, B_win_by_Submission, B_win_by_TKO_Doctor_Stoppage, B_wins, B_Stance, B_Height_cms, B_Reach_cms, B_Weight_lbs, R_current_lose_streak, R_current_win_streak, R_draw, R_avg_SIG_STR_landed, R_avg_SIG_STR_pct, R_avg_SUB_ATT, R_avg_TD_landed, R_avg_TD_pct, R_longest_win_streak, R_losses, R_total_rounds_fought, R_total_title_bouts, R_win_by_Decision_Majority, R_win_by_Decision_Split, R_win_by_Decision_Unanimous, R_win_by_KO/TKO, R_win_by_Submission, R_win_by_TKO_Doctor_Stoppage, R_wins, R_Stance, R_Height_cms, R_Reach_cms, R_Weight_lbs, R_age, B_age, lose_streak_dif, win_streak_dif, longest_win_streak_dif, win_dif, loss_dif, total_round_dif, total_title_bout_dif, ko_dif, sub_dif, height_dif, reach_dif, age_dif, sig_str_dif, avg_sub_att_dif, avg_td_dif, empty_arena, constant_1]\n",
       "Index: []\n",
       "\n",
       "[0 rows x 81 columns]"
      ]
     },
     "execution_count": 7,
     "metadata": {},
     "output_type": "execute_result"
    }
   ],
   "source": [
    "duplicates = ufc.duplicated()\n",
    "ufc[duplicates]"
   ]
  },
  {
   "cell_type": "markdown",
   "metadata": {},
   "source": [
    "#### *It seems that there are no duplicates, therefore, we only need to focus on NaN values.*"
   ]
  },
  {
   "cell_type": "markdown",
   "metadata": {},
   "source": [
    "### 2.6 Delete rows with at least 1 missing value (NaN)."
   ]
  },
  {
   "cell_type": "code",
   "execution_count": 8,
   "metadata": {},
   "outputs": [
    {
     "name": "stdout",
     "output_type": "stream",
     "text": [
      "Number of rows: 3243\n",
      "Number of columns: 81\n"
     ]
    }
   ],
   "source": [
    "ufc_df = ufc.dropna()\n",
    "\n",
    "print('Number of rows:', ufc_df.shape[0])\n",
    "print('Number of columns:', ufc_df.shape[1])"
   ]
  },
  {
   "cell_type": "markdown",
   "metadata": {},
   "source": [
    "#### *1062 rows got dropped.*"
   ]
  },
  {
   "cell_type": "markdown",
   "metadata": {},
   "source": [
    "### 2.7 Check if columns have the right datatype."
   ]
  },
  {
   "cell_type": "code",
   "execution_count": 9,
   "metadata": {},
   "outputs": [
    {
     "data": {
      "text/plain": [
       "{'R_fighter': dtype('O'),\n",
       " 'B_fighter': dtype('O'),\n",
       " 'R_odds_moneyline': dtype('int64'),\n",
       " 'R_odds_decimal': dtype('float64'),\n",
       " 'B_odds_moneyline': dtype('int64'),\n",
       " 'B_odds_decimal': dtype('float64'),\n",
       " 'R_ev': dtype('float64'),\n",
       " 'B_ev': dtype('float64'),\n",
       " 'date': dtype('<M8[ns]'),\n",
       " 'location': dtype('O'),\n",
       " 'country': dtype('O'),\n",
       " 'Winner': dtype('O'),\n",
       " 'title_bout': dtype('bool'),\n",
       " 'weight_class': dtype('O'),\n",
       " 'gender': dtype('O'),\n",
       " 'no_of_rounds': dtype('int64'),\n",
       " 'B_current_lose_streak': dtype('int64'),\n",
       " 'B_current_win_streak': dtype('int64'),\n",
       " 'B_draw': dtype('int64'),\n",
       " 'B_avg_SIG_STR_landed': dtype('float64'),\n",
       " 'B_avg_SIG_STR_pct': dtype('float64'),\n",
       " 'B_avg_SUB_ATT': dtype('float64'),\n",
       " 'B_avg_TD_landed': dtype('float64'),\n",
       " 'B_avg_TD_pct': dtype('float64'),\n",
       " 'B_longest_win_streak': dtype('int64'),\n",
       " 'B_losses': dtype('int64'),\n",
       " 'B_total_rounds_fought': dtype('int64'),\n",
       " 'B_total_title_bouts': dtype('int64'),\n",
       " 'B_win_by_Decision_Majority': dtype('int64'),\n",
       " 'B_win_by_Decision_Split': dtype('int64'),\n",
       " 'B_win_by_Decision_Unanimous': dtype('int64'),\n",
       " 'B_win_by_KO/TKO': dtype('int64'),\n",
       " 'B_win_by_Submission': dtype('int64'),\n",
       " 'B_win_by_TKO_Doctor_Stoppage': dtype('int64'),\n",
       " 'B_wins': dtype('int64'),\n",
       " 'B_Stance': dtype('O'),\n",
       " 'B_Height_cms': dtype('float64'),\n",
       " 'B_Reach_cms': dtype('float64'),\n",
       " 'B_Weight_lbs': dtype('int64'),\n",
       " 'R_current_lose_streak': dtype('int64'),\n",
       " 'R_current_win_streak': dtype('int64'),\n",
       " 'R_draw': dtype('int64'),\n",
       " 'R_avg_SIG_STR_landed': dtype('float64'),\n",
       " 'R_avg_SIG_STR_pct': dtype('float64'),\n",
       " 'R_avg_SUB_ATT': dtype('float64'),\n",
       " 'R_avg_TD_landed': dtype('float64'),\n",
       " 'R_avg_TD_pct': dtype('float64'),\n",
       " 'R_longest_win_streak': dtype('int64'),\n",
       " 'R_losses': dtype('int64'),\n",
       " 'R_total_rounds_fought': dtype('int64'),\n",
       " 'R_total_title_bouts': dtype('int64'),\n",
       " 'R_win_by_Decision_Majority': dtype('int64'),\n",
       " 'R_win_by_Decision_Split': dtype('int64'),\n",
       " 'R_win_by_Decision_Unanimous': dtype('int64'),\n",
       " 'R_win_by_KO/TKO': dtype('int64'),\n",
       " 'R_win_by_Submission': dtype('int64'),\n",
       " 'R_win_by_TKO_Doctor_Stoppage': dtype('int64'),\n",
       " 'R_wins': dtype('int64'),\n",
       " 'R_Stance': dtype('O'),\n",
       " 'R_Height_cms': dtype('float64'),\n",
       " 'R_Reach_cms': dtype('float64'),\n",
       " 'R_Weight_lbs': dtype('int64'),\n",
       " 'R_age': dtype('int64'),\n",
       " 'B_age': dtype('int64'),\n",
       " 'lose_streak_dif': dtype('int64'),\n",
       " 'win_streak_dif': dtype('int64'),\n",
       " 'longest_win_streak_dif': dtype('int64'),\n",
       " 'win_dif': dtype('int64'),\n",
       " 'loss_dif': dtype('int64'),\n",
       " 'total_round_dif': dtype('int64'),\n",
       " 'total_title_bout_dif': dtype('int64'),\n",
       " 'ko_dif': dtype('int64'),\n",
       " 'sub_dif': dtype('int64'),\n",
       " 'height_dif': dtype('float64'),\n",
       " 'reach_dif': dtype('float64'),\n",
       " 'age_dif': dtype('int64'),\n",
       " 'sig_str_dif': dtype('float64'),\n",
       " 'avg_sub_att_dif': dtype('float64'),\n",
       " 'avg_td_dif': dtype('float64'),\n",
       " 'empty_arena': dtype('int64'),\n",
       " 'constant_1': dtype('int64')}"
      ]
     },
     "execution_count": 9,
     "metadata": {},
     "output_type": "execute_result"
    }
   ],
   "source": [
    "datatypes = ufc_df.dtypes.to_dict()\n",
    "datatypes"
   ]
  },
  {
   "cell_type": "markdown",
   "metadata": {},
   "source": [
    "- O = object\n",
    "- int64 = integer\n",
    "- float64 = float\n",
    "- <M8[ns] = date (\"On a machine whose byte order is little endian, there is no difference between *np.dtype('datetime64[ns]')* and *np.dtype('<M8[ns]')*\")\n",
    "- bool = True/False"
   ]
  },
  {
   "cell_type": "markdown",
   "metadata": {},
   "source": [
    "### 2.8 Fix datatypes if necessary."
   ]
  },
  {
   "cell_type": "markdown",
   "metadata": {},
   "source": [
    "### 2.9 Use info() again to check missing values and datatypes."
   ]
  },
  {
   "cell_type": "markdown",
   "metadata": {},
   "source": [
    "# 3. Exploratory Data Analysis."
   ]
  },
  {
   "cell_type": "markdown",
   "metadata": {},
   "source": [
    "### 3.1 Use describe() for a better overview."
   ]
  },
  {
   "cell_type": "code",
   "execution_count": 10,
   "metadata": {},
   "outputs": [
    {
     "data": {
      "text/html": [
       "<div>\n",
       "<style scoped>\n",
       "    .dataframe tbody tr th:only-of-type {\n",
       "        vertical-align: middle;\n",
       "    }\n",
       "\n",
       "    .dataframe tbody tr th {\n",
       "        vertical-align: top;\n",
       "    }\n",
       "\n",
       "    .dataframe thead th {\n",
       "        text-align: right;\n",
       "    }\n",
       "</style>\n",
       "<table border=\"1\" class=\"dataframe\">\n",
       "  <thead>\n",
       "    <tr style=\"text-align: right;\">\n",
       "      <th></th>\n",
       "      <th>R_odds_moneyline</th>\n",
       "      <th>R_odds_decimal</th>\n",
       "      <th>B_odds_moneyline</th>\n",
       "      <th>B_odds_decimal</th>\n",
       "      <th>R_ev</th>\n",
       "      <th>B_ev</th>\n",
       "      <th>no_of_rounds</th>\n",
       "      <th>B_current_lose_streak</th>\n",
       "      <th>B_current_win_streak</th>\n",
       "      <th>B_draw</th>\n",
       "      <th>...</th>\n",
       "      <th>ko_dif</th>\n",
       "      <th>sub_dif</th>\n",
       "      <th>height_dif</th>\n",
       "      <th>reach_dif</th>\n",
       "      <th>age_dif</th>\n",
       "      <th>sig_str_dif</th>\n",
       "      <th>avg_sub_att_dif</th>\n",
       "      <th>avg_td_dif</th>\n",
       "      <th>empty_arena</th>\n",
       "      <th>constant_1</th>\n",
       "    </tr>\n",
       "  </thead>\n",
       "  <tbody>\n",
       "    <tr>\n",
       "      <th>count</th>\n",
       "      <td>3243.000000</td>\n",
       "      <td>3243.000000</td>\n",
       "      <td>3243.000000</td>\n",
       "      <td>3243.000000</td>\n",
       "      <td>3243.000000</td>\n",
       "      <td>3243.000000</td>\n",
       "      <td>3243.000000</td>\n",
       "      <td>3243.000000</td>\n",
       "      <td>3243.000000</td>\n",
       "      <td>3243.000000</td>\n",
       "      <td>...</td>\n",
       "      <td>3243.000000</td>\n",
       "      <td>3243.000000</td>\n",
       "      <td>3243.000000</td>\n",
       "      <td>3243.000000</td>\n",
       "      <td>3243.000000</td>\n",
       "      <td>3243.000000</td>\n",
       "      <td>3243.000000</td>\n",
       "      <td>3243.000000</td>\n",
       "      <td>3243.000000</td>\n",
       "      <td>3243.0</td>\n",
       "    </tr>\n",
       "    <tr>\n",
       "      <th>mean</th>\n",
       "      <td>-116.852914</td>\n",
       "      <td>1.948601</td>\n",
       "      <td>67.723096</td>\n",
       "      <td>2.681482</td>\n",
       "      <td>94.860131</td>\n",
       "      <td>168.148241</td>\n",
       "      <td>3.217391</td>\n",
       "      <td>0.566759</td>\n",
       "      <td>1.107925</td>\n",
       "      <td>0.003392</td>\n",
       "      <td>...</td>\n",
       "      <td>-0.466852</td>\n",
       "      <td>-0.269812</td>\n",
       "      <td>0.205988</td>\n",
       "      <td>-0.003454</td>\n",
       "      <td>0.432316</td>\n",
       "      <td>-0.378936</td>\n",
       "      <td>-0.014800</td>\n",
       "      <td>-0.103079</td>\n",
       "      <td>0.024052</td>\n",
       "      <td>1.0</td>\n",
       "    </tr>\n",
       "    <tr>\n",
       "      <th>std</th>\n",
       "      <td>266.096660</td>\n",
       "      <td>0.820072</td>\n",
       "      <td>246.088492</td>\n",
       "      <td>1.365648</td>\n",
       "      <td>82.007214</td>\n",
       "      <td>136.564754</td>\n",
       "      <td>0.622362</td>\n",
       "      <td>0.806416</td>\n",
       "      <td>1.403291</td>\n",
       "      <td>0.063233</td>\n",
       "      <td>...</td>\n",
       "      <td>2.164658</td>\n",
       "      <td>1.883638</td>\n",
       "      <td>6.386120</td>\n",
       "      <td>8.955480</td>\n",
       "      <td>5.168830</td>\n",
       "      <td>22.243205</td>\n",
       "      <td>0.837184</td>\n",
       "      <td>1.664815</td>\n",
       "      <td>0.153234</td>\n",
       "      <td>0.0</td>\n",
       "    </tr>\n",
       "    <tr>\n",
       "      <th>min</th>\n",
       "      <td>-1700.000000</td>\n",
       "      <td>1.058824</td>\n",
       "      <td>-900.000000</td>\n",
       "      <td>1.111111</td>\n",
       "      <td>5.882353</td>\n",
       "      <td>11.111111</td>\n",
       "      <td>3.000000</td>\n",
       "      <td>0.000000</td>\n",
       "      <td>0.000000</td>\n",
       "      <td>0.000000</td>\n",
       "      <td>...</td>\n",
       "      <td>-11.000000</td>\n",
       "      <td>-12.000000</td>\n",
       "      <td>-33.020000</td>\n",
       "      <td>-187.960000</td>\n",
       "      <td>-16.000000</td>\n",
       "      <td>-104.666667</td>\n",
       "      <td>-5.900000</td>\n",
       "      <td>-11.000000</td>\n",
       "      <td>0.000000</td>\n",
       "      <td>1.0</td>\n",
       "    </tr>\n",
       "    <tr>\n",
       "      <th>25%</th>\n",
       "      <td>-255.000000</td>\n",
       "      <td>1.392157</td>\n",
       "      <td>-145.000000</td>\n",
       "      <td>1.689655</td>\n",
       "      <td>39.215686</td>\n",
       "      <td>68.965517</td>\n",
       "      <td>3.000000</td>\n",
       "      <td>0.000000</td>\n",
       "      <td>0.000000</td>\n",
       "      <td>0.000000</td>\n",
       "      <td>...</td>\n",
       "      <td>-1.000000</td>\n",
       "      <td>-1.000000</td>\n",
       "      <td>-5.080000</td>\n",
       "      <td>-5.080000</td>\n",
       "      <td>-3.000000</td>\n",
       "      <td>-13.000000</td>\n",
       "      <td>-0.416667</td>\n",
       "      <td>-1.000000</td>\n",
       "      <td>0.000000</td>\n",
       "      <td>1.0</td>\n",
       "    </tr>\n",
       "    <tr>\n",
       "      <th>50%</th>\n",
       "      <td>-150.000000</td>\n",
       "      <td>1.666667</td>\n",
       "      <td>130.000000</td>\n",
       "      <td>2.300000</td>\n",
       "      <td>66.666667</td>\n",
       "      <td>130.000000</td>\n",
       "      <td>3.000000</td>\n",
       "      <td>0.000000</td>\n",
       "      <td>1.000000</td>\n",
       "      <td>0.000000</td>\n",
       "      <td>...</td>\n",
       "      <td>0.000000</td>\n",
       "      <td>0.000000</td>\n",
       "      <td>0.000000</td>\n",
       "      <td>0.000000</td>\n",
       "      <td>0.000000</td>\n",
       "      <td>-0.690000</td>\n",
       "      <td>0.000000</td>\n",
       "      <td>0.000000</td>\n",
       "      <td>0.000000</td>\n",
       "      <td>1.0</td>\n",
       "    </tr>\n",
       "    <tr>\n",
       "      <th>75%</th>\n",
       "      <td>130.000000</td>\n",
       "      <td>2.300000</td>\n",
       "      <td>220.000000</td>\n",
       "      <td>3.200000</td>\n",
       "      <td>130.000000</td>\n",
       "      <td>220.000000</td>\n",
       "      <td>3.000000</td>\n",
       "      <td>1.000000</td>\n",
       "      <td>2.000000</td>\n",
       "      <td>0.000000</td>\n",
       "      <td>...</td>\n",
       "      <td>0.000000</td>\n",
       "      <td>0.000000</td>\n",
       "      <td>5.080000</td>\n",
       "      <td>5.080000</td>\n",
       "      <td>4.000000</td>\n",
       "      <td>11.500000</td>\n",
       "      <td>0.333333</td>\n",
       "      <td>0.756710</td>\n",
       "      <td>0.000000</td>\n",
       "      <td>1.0</td>\n",
       "    </tr>\n",
       "    <tr>\n",
       "      <th>max</th>\n",
       "      <td>600.000000</td>\n",
       "      <td>7.000000</td>\n",
       "      <td>1150.000000</td>\n",
       "      <td>12.500000</td>\n",
       "      <td>600.000000</td>\n",
       "      <td>1150.000000</td>\n",
       "      <td>5.000000</td>\n",
       "      <td>6.000000</td>\n",
       "      <td>13.000000</td>\n",
       "      <td>2.000000</td>\n",
       "      <td>...</td>\n",
       "      <td>11.000000</td>\n",
       "      <td>10.000000</td>\n",
       "      <td>30.480000</td>\n",
       "      <td>30.480000</td>\n",
       "      <td>17.000000</td>\n",
       "      <td>128.222222</td>\n",
       "      <td>6.000000</td>\n",
       "      <td>10.000000</td>\n",
       "      <td>1.000000</td>\n",
       "      <td>1.0</td>\n",
       "    </tr>\n",
       "  </tbody>\n",
       "</table>\n",
       "<p>8 rows × 70 columns</p>\n",
       "</div>"
      ],
      "text/plain": [
       "       R_odds_moneyline  R_odds_decimal  B_odds_moneyline  B_odds_decimal  \\\n",
       "count       3243.000000     3243.000000       3243.000000     3243.000000   \n",
       "mean        -116.852914        1.948601         67.723096        2.681482   \n",
       "std          266.096660        0.820072        246.088492        1.365648   \n",
       "min        -1700.000000        1.058824       -900.000000        1.111111   \n",
       "25%         -255.000000        1.392157       -145.000000        1.689655   \n",
       "50%         -150.000000        1.666667        130.000000        2.300000   \n",
       "75%          130.000000        2.300000        220.000000        3.200000   \n",
       "max          600.000000        7.000000       1150.000000       12.500000   \n",
       "\n",
       "              R_ev         B_ev  no_of_rounds  B_current_lose_streak  \\\n",
       "count  3243.000000  3243.000000   3243.000000            3243.000000   \n",
       "mean     94.860131   168.148241      3.217391               0.566759   \n",
       "std      82.007214   136.564754      0.622362               0.806416   \n",
       "min       5.882353    11.111111      3.000000               0.000000   \n",
       "25%      39.215686    68.965517      3.000000               0.000000   \n",
       "50%      66.666667   130.000000      3.000000               0.000000   \n",
       "75%     130.000000   220.000000      3.000000               1.000000   \n",
       "max     600.000000  1150.000000      5.000000               6.000000   \n",
       "\n",
       "       B_current_win_streak       B_draw  ...       ko_dif      sub_dif  \\\n",
       "count           3243.000000  3243.000000  ...  3243.000000  3243.000000   \n",
       "mean               1.107925     0.003392  ...    -0.466852    -0.269812   \n",
       "std                1.403291     0.063233  ...     2.164658     1.883638   \n",
       "min                0.000000     0.000000  ...   -11.000000   -12.000000   \n",
       "25%                0.000000     0.000000  ...    -1.000000    -1.000000   \n",
       "50%                1.000000     0.000000  ...     0.000000     0.000000   \n",
       "75%                2.000000     0.000000  ...     0.000000     0.000000   \n",
       "max               13.000000     2.000000  ...    11.000000    10.000000   \n",
       "\n",
       "        height_dif    reach_dif      age_dif  sig_str_dif  avg_sub_att_dif  \\\n",
       "count  3243.000000  3243.000000  3243.000000  3243.000000      3243.000000   \n",
       "mean      0.205988    -0.003454     0.432316    -0.378936        -0.014800   \n",
       "std       6.386120     8.955480     5.168830    22.243205         0.837184   \n",
       "min     -33.020000  -187.960000   -16.000000  -104.666667        -5.900000   \n",
       "25%      -5.080000    -5.080000    -3.000000   -13.000000        -0.416667   \n",
       "50%       0.000000     0.000000     0.000000    -0.690000         0.000000   \n",
       "75%       5.080000     5.080000     4.000000    11.500000         0.333333   \n",
       "max      30.480000    30.480000    17.000000   128.222222         6.000000   \n",
       "\n",
       "        avg_td_dif  empty_arena  constant_1  \n",
       "count  3243.000000  3243.000000      3243.0  \n",
       "mean     -0.103079     0.024052         1.0  \n",
       "std       1.664815     0.153234         0.0  \n",
       "min     -11.000000     0.000000         1.0  \n",
       "25%      -1.000000     0.000000         1.0  \n",
       "50%       0.000000     0.000000         1.0  \n",
       "75%       0.756710     0.000000         1.0  \n",
       "max      10.000000     1.000000         1.0  \n",
       "\n",
       "[8 rows x 70 columns]"
      ]
     },
     "execution_count": 10,
     "metadata": {},
     "output_type": "execute_result"
    }
   ],
   "source": [
    "ufc_df.describe()"
   ]
  },
  {
   "cell_type": "markdown",
   "metadata": {},
   "source": [
    "### 3.2"
   ]
  },
  {
   "cell_type": "markdown",
   "metadata": {},
   "source": [
    "# 4. Data Pre-processing."
   ]
  },
  {
   "cell_type": "markdown",
   "metadata": {},
   "source": [
    "### 4.1 Drop unnecessary columns."
   ]
  },
  {
   "cell_type": "code",
   "execution_count": 11,
   "metadata": {},
   "outputs": [],
   "source": [
    "# Drop date too\n",
    "ufc_df = ufc_df.drop(labels = 'date', axis = 1)\n",
    "\n",
    "# As we are going to decide who the winner is based on the stats of the fighters, we don't need their names\n",
    "ufc_df = ufc_df.drop(labels = ['R_fighter', 'B_fighter'], axis = 1)\n",
    "\n",
    "\n",
    "# After creating the 2 columns for EU-odds, we don't need the US ones\n",
    "ufc_df = ufc_df.drop(labels = ['R_odds_moneyline', 'B_odds_moneyline'], axis = 1)"
   ]
  },
  {
   "cell_type": "markdown",
   "metadata": {},
   "source": [
    "### 4.2 Deal with nominal features."
   ]
  },
  {
   "cell_type": "code",
   "execution_count": 12,
   "metadata": {},
   "outputs": [
    {
     "data": {
      "text/html": [
       "<div>\n",
       "<style scoped>\n",
       "    .dataframe tbody tr th:only-of-type {\n",
       "        vertical-align: middle;\n",
       "    }\n",
       "\n",
       "    .dataframe tbody tr th {\n",
       "        vertical-align: top;\n",
       "    }\n",
       "\n",
       "    .dataframe thead th {\n",
       "        text-align: right;\n",
       "    }\n",
       "</style>\n",
       "<table border=\"1\" class=\"dataframe\">\n",
       "  <thead>\n",
       "    <tr style=\"text-align: right;\">\n",
       "      <th></th>\n",
       "      <th>R_odds_decimal</th>\n",
       "      <th>B_odds_decimal</th>\n",
       "      <th>R_ev</th>\n",
       "      <th>B_ev</th>\n",
       "      <th>Winner</th>\n",
       "      <th>title_bout</th>\n",
       "      <th>no_of_rounds</th>\n",
       "      <th>B_current_lose_streak</th>\n",
       "      <th>B_current_win_streak</th>\n",
       "      <th>B_draw</th>\n",
       "      <th>...</th>\n",
       "      <th>weight_class_Women's Featherweight</th>\n",
       "      <th>weight_class_Women's Flyweight</th>\n",
       "      <th>weight_class_Women's Strawweight</th>\n",
       "      <th>gender_MALE</th>\n",
       "      <th>R_Stance_Orthodox</th>\n",
       "      <th>R_Stance_Southpaw</th>\n",
       "      <th>R_Stance_Switch</th>\n",
       "      <th>B_Stance_Orthodox</th>\n",
       "      <th>B_Stance_Southpaw</th>\n",
       "      <th>B_Stance_Switch</th>\n",
       "    </tr>\n",
       "  </thead>\n",
       "  <tbody>\n",
       "    <tr>\n",
       "      <th>0</th>\n",
       "      <td>2.200000</td>\n",
       "      <td>1.769231</td>\n",
       "      <td>120.000000</td>\n",
       "      <td>76.923077</td>\n",
       "      <td>Blue</td>\n",
       "      <td>False</td>\n",
       "      <td>5</td>\n",
       "      <td>0</td>\n",
       "      <td>2</td>\n",
       "      <td>1</td>\n",
       "      <td>...</td>\n",
       "      <td>0</td>\n",
       "      <td>1</td>\n",
       "      <td>0</td>\n",
       "      <td>0</td>\n",
       "      <td>1</td>\n",
       "      <td>0</td>\n",
       "      <td>0</td>\n",
       "      <td>1</td>\n",
       "      <td>0</td>\n",
       "      <td>0</td>\n",
       "    </tr>\n",
       "    <tr>\n",
       "      <th>1</th>\n",
       "      <td>3.100000</td>\n",
       "      <td>1.434783</td>\n",
       "      <td>210.000000</td>\n",
       "      <td>43.478261</td>\n",
       "      <td>Blue</td>\n",
       "      <td>False</td>\n",
       "      <td>3</td>\n",
       "      <td>0</td>\n",
       "      <td>2</td>\n",
       "      <td>1</td>\n",
       "      <td>...</td>\n",
       "      <td>0</td>\n",
       "      <td>0</td>\n",
       "      <td>0</td>\n",
       "      <td>1</td>\n",
       "      <td>0</td>\n",
       "      <td>1</td>\n",
       "      <td>0</td>\n",
       "      <td>0</td>\n",
       "      <td>1</td>\n",
       "      <td>0</td>\n",
       "    </tr>\n",
       "    <tr>\n",
       "      <th>2</th>\n",
       "      <td>2.700000</td>\n",
       "      <td>1.540541</td>\n",
       "      <td>170.000000</td>\n",
       "      <td>54.054054</td>\n",
       "      <td>Red</td>\n",
       "      <td>False</td>\n",
       "      <td>3</td>\n",
       "      <td>2</td>\n",
       "      <td>0</td>\n",
       "      <td>0</td>\n",
       "      <td>...</td>\n",
       "      <td>0</td>\n",
       "      <td>0</td>\n",
       "      <td>0</td>\n",
       "      <td>1</td>\n",
       "      <td>0</td>\n",
       "      <td>0</td>\n",
       "      <td>1</td>\n",
       "      <td>1</td>\n",
       "      <td>0</td>\n",
       "      <td>0</td>\n",
       "    </tr>\n",
       "    <tr>\n",
       "      <th>3</th>\n",
       "      <td>1.454545</td>\n",
       "      <td>3.000000</td>\n",
       "      <td>45.454545</td>\n",
       "      <td>200.000000</td>\n",
       "      <td>Red</td>\n",
       "      <td>False</td>\n",
       "      <td>3</td>\n",
       "      <td>0</td>\n",
       "      <td>1</td>\n",
       "      <td>0</td>\n",
       "      <td>...</td>\n",
       "      <td>0</td>\n",
       "      <td>0</td>\n",
       "      <td>0</td>\n",
       "      <td>1</td>\n",
       "      <td>1</td>\n",
       "      <td>0</td>\n",
       "      <td>0</td>\n",
       "      <td>0</td>\n",
       "      <td>0</td>\n",
       "      <td>1</td>\n",
       "    </tr>\n",
       "    <tr>\n",
       "      <th>4</th>\n",
       "      <td>1.598802</td>\n",
       "      <td>2.570000</td>\n",
       "      <td>59.880240</td>\n",
       "      <td>157.000000</td>\n",
       "      <td>Red</td>\n",
       "      <td>False</td>\n",
       "      <td>3</td>\n",
       "      <td>3</td>\n",
       "      <td>0</td>\n",
       "      <td>0</td>\n",
       "      <td>...</td>\n",
       "      <td>0</td>\n",
       "      <td>0</td>\n",
       "      <td>0</td>\n",
       "      <td>1</td>\n",
       "      <td>1</td>\n",
       "      <td>0</td>\n",
       "      <td>0</td>\n",
       "      <td>1</td>\n",
       "      <td>0</td>\n",
       "      <td>0</td>\n",
       "    </tr>\n",
       "  </tbody>\n",
       "</table>\n",
       "<p>5 rows × 256 columns</p>\n",
       "</div>"
      ],
      "text/plain": [
       "   R_odds_decimal  B_odds_decimal        R_ev        B_ev Winner  title_bout  \\\n",
       "0        2.200000        1.769231  120.000000   76.923077   Blue       False   \n",
       "1        3.100000        1.434783  210.000000   43.478261   Blue       False   \n",
       "2        2.700000        1.540541  170.000000   54.054054    Red       False   \n",
       "3        1.454545        3.000000   45.454545  200.000000    Red       False   \n",
       "4        1.598802        2.570000   59.880240  157.000000    Red       False   \n",
       "\n",
       "   no_of_rounds  B_current_lose_streak  B_current_win_streak  B_draw  ...  \\\n",
       "0             5                      0                     2       1  ...   \n",
       "1             3                      0                     2       1  ...   \n",
       "2             3                      2                     0       0  ...   \n",
       "3             3                      0                     1       0  ...   \n",
       "4             3                      3                     0       0  ...   \n",
       "\n",
       "   weight_class_Women's Featherweight  weight_class_Women's Flyweight  \\\n",
       "0                                   0                               1   \n",
       "1                                   0                               0   \n",
       "2                                   0                               0   \n",
       "3                                   0                               0   \n",
       "4                                   0                               0   \n",
       "\n",
       "   weight_class_Women's Strawweight  gender_MALE  R_Stance_Orthodox  \\\n",
       "0                                 0            0                  1   \n",
       "1                                 0            1                  0   \n",
       "2                                 0            1                  0   \n",
       "3                                 0            1                  1   \n",
       "4                                 0            1                  1   \n",
       "\n",
       "   R_Stance_Southpaw  R_Stance_Switch  B_Stance_Orthodox  B_Stance_Southpaw  \\\n",
       "0                  0                0                  1                  0   \n",
       "1                  1                0                  0                  1   \n",
       "2                  0                1                  1                  0   \n",
       "3                  0                0                  0                  0   \n",
       "4                  0                0                  1                  0   \n",
       "\n",
       "   B_Stance_Switch  \n",
       "0                0  \n",
       "1                0  \n",
       "2                0  \n",
       "3                1  \n",
       "4                0  \n",
       "\n",
       "[5 rows x 256 columns]"
      ]
     },
     "execution_count": 12,
     "metadata": {},
     "output_type": "execute_result"
    }
   ],
   "source": [
    "# one hot encoding\n",
    "onehot_columns = ['location', 'country', 'weight_class', 'gender', 'R_Stance', 'B_Stance']\n",
    "\n",
    "ufc_ohe = pd.get_dummies(ufc_df, columns = onehot_columns, drop_first=True)\n",
    "ufc_ohe.head()"
   ]
  },
  {
   "cell_type": "markdown",
   "metadata": {},
   "source": [
    "### 4.3 Set data (X) and target (y)."
   ]
  },
  {
   "cell_type": "code",
   "execution_count": 13,
   "metadata": {},
   "outputs": [
    {
     "name": "stdout",
     "output_type": "stream",
     "text": [
      "X shape: (3243, 255)\n",
      "y shape: (3243,)\n"
     ]
    }
   ],
   "source": [
    "X = ufc_ohe.loc[:, ufc_ohe.columns != 'Winner']\n",
    "y = ufc_ohe['Winner']\n",
    "\n",
    "print('X shape:', X.shape)\n",
    "print('y shape:', y.shape)"
   ]
  },
  {
   "cell_type": "markdown",
   "metadata": {},
   "source": [
    "### 4.4 Get train and test sets."
   ]
  },
  {
   "cell_type": "code",
   "execution_count": 14,
   "metadata": {},
   "outputs": [],
   "source": [
    "X_train, X_test, y_train, y_test = train_test_split(X, y, random_state=0)"
   ]
  },
  {
   "cell_type": "markdown",
   "metadata": {},
   "source": [
    "### 4.5 Deal with numerical features."
   ]
  },
  {
   "cell_type": "code",
   "execution_count": 15,
   "metadata": {},
   "outputs": [
    {
     "name": "stderr",
     "output_type": "stream",
     "text": [
      "<ipython-input-15-e8001f7df68a>:16: SettingWithCopyWarning: \n",
      "A value is trying to be set on a copy of a slice from a DataFrame.\n",
      "Try using .loc[row_indexer,col_indexer] = value instead\n",
      "\n",
      "See the caveats in the documentation: https://pandas.pydata.org/pandas-docs/stable/user_guide/indexing.html#returning-a-view-versus-a-copy\n",
      "  X_train[scale_columns] = scaler.fit_transform(X_train[scale_columns])\n",
      "D:\\Programmes\\conda\\lib\\site-packages\\pandas\\core\\indexing.py:1736: SettingWithCopyWarning: \n",
      "A value is trying to be set on a copy of a slice from a DataFrame.\n",
      "Try using .loc[row_indexer,col_indexer] = value instead\n",
      "\n",
      "See the caveats in the documentation: https://pandas.pydata.org/pandas-docs/stable/user_guide/indexing.html#returning-a-view-versus-a-copy\n",
      "  isetter(loc, value[:, i].tolist())\n",
      "<ipython-input-15-e8001f7df68a>:18: SettingWithCopyWarning: \n",
      "A value is trying to be set on a copy of a slice from a DataFrame.\n",
      "Try using .loc[row_indexer,col_indexer] = value instead\n",
      "\n",
      "See the caveats in the documentation: https://pandas.pydata.org/pandas-docs/stable/user_guide/indexing.html#returning-a-view-versus-a-copy\n",
      "  X_test[scale_columns] = scaler.transform(X_test[scale_columns])\n",
      "D:\\Programmes\\conda\\lib\\site-packages\\pandas\\core\\indexing.py:1736: SettingWithCopyWarning: \n",
      "A value is trying to be set on a copy of a slice from a DataFrame.\n",
      "Try using .loc[row_indexer,col_indexer] = value instead\n",
      "\n",
      "See the caveats in the documentation: https://pandas.pydata.org/pandas-docs/stable/user_guide/indexing.html#returning-a-view-versus-a-copy\n",
      "  isetter(loc, value[:, i].tolist())\n"
     ]
    }
   ],
   "source": [
    "scale_columns = ['R_odds_decimal', 'B_odds_decimal', 'R_ev', 'B_ev', 'no_of_rounds', 'B_current_lose_streak', 'B_current_win_streak', \n",
    "                'B_draw', 'B_avg_SIG_STR_landed', 'B_avg_SIG_STR_pct', 'B_avg_SUB_ATT', 'B_avg_TD_landed', 'B_avg_TD_pct', \n",
    "                'B_longest_win_streak', 'B_losses', 'B_total_rounds_fought', 'B_total_title_bouts', 'B_win_by_Decision_Majority',\n",
    "               'B_win_by_Decision_Split', 'B_win_by_Decision_Unanimous', 'B_win_by_KO/TKO', 'B_win_by_Submission',\n",
    "                'B_win_by_TKO_Doctor_Stoppage', 'B_wins', 'B_Height_cms', 'B_Reach_cms', 'B_Weight_lbs', 'R_current_win_streak', \n",
    "                'R_draw', 'R_avg_SIG_STR_landed', 'R_avg_SIG_STR_pct', 'R_avg_SUB_ATT', 'R_avg_TD_landed', 'R_avg_TD_pct', \n",
    "                'R_longest_win_streak', 'R_losses', 'R_total_rounds_fought', 'R_total_title_bouts', 'R_win_by_Decision_Majority',\n",
    "               'R_win_by_Decision_Split', 'R_win_by_Decision_Unanimous', 'R_win_by_KO/TKO', 'R_win_by_Submission',\n",
    "                'R_win_by_TKO_Doctor_Stoppage', 'R_wins', 'R_Height_cms', 'R_Reach_cms', 'R_Weight_lbs', 'R_age', 'B_age',\n",
    "                'lose_streak_dif', 'win_streak_dif', 'longest_win_streak_dif', 'win_dif', 'loss_dif', 'total_round_dif',\n",
    "               'total_title_bout_dif', 'ko_dif', 'sub_dif', 'height_dif', 'reach_dif', 'age_dif', 'sig_str_dif', 'avg_sub_att_dif',\n",
    "               'avg_td_dif']\n",
    "\n",
    "scaler = MinMaxScaler()\n",
    "\n",
    "X_train[scale_columns] = scaler.fit_transform(X_train[scale_columns])\n",
    "\n",
    "X_test[scale_columns] = scaler.transform(X_test[scale_columns])\n",
    "\n",
    "warnings.filterwarnings(\"ignore\")"
   ]
  },
  {
   "cell_type": "markdown",
   "metadata": {},
   "source": [
    "### 4.6 Show correlations on a heatmap."
   ]
  },
  {
   "cell_type": "code",
   "execution_count": 16,
   "metadata": {},
   "outputs": [
    {
     "data": {
      "text/plain": [
       "<AxesSubplot:>"
      ]
     },
     "execution_count": 16,
     "metadata": {},
     "output_type": "execute_result"
    },
    {
     "data": {
      "image/png": "[encoded data removed]",
      "text/plain": [
       "<Figure size 1152x864 with 2 Axes>"
      ]
     },
     "metadata": {
      "needs_background": "light"
     },
     "output_type": "display_data"
    }
   ],
   "source": [
    "# correlation heatmap\n",
    "numerical_features_with_target = ['Winner'] + scale_columns\n",
    "corr = ufc_ohe[numerical_features_with_target].corr(method='pearson')\n",
    "\n",
    "f, ax = plt.subplots(figsize=(16, 12))\n",
    "sns.heatmap(corr, square= True)"
   ]
  },
  {
   "cell_type": "markdown",
   "metadata": {},
   "source": [
    "### 4.7 Select the 20 most influential features."
   ]
  },
  {
   "cell_type": "code",
   "execution_count": 17,
   "metadata": {},
   "outputs": [
    {
     "name": "stdout",
     "output_type": "stream",
     "text": [
      "(3243, 255)\n",
      "(2432, 20)\n",
      "Index(['R_odds_decimal', 'B_odds_decimal', 'R_ev', 'B_ev',\n",
      "       'B_current_win_streak', 'R_avg_SIG_STR_pct', 'R_avg_TD_landed',\n",
      "       'R_losses', 'R_win_by_Decision_Split', 'R_age', 'B_age',\n",
      "       'lose_streak_dif', 'win_streak_dif', 'loss_dif', 'total_round_dif',\n",
      "       'reach_dif', 'age_dif', 'avg_td_dif',\n",
      "       'location_Gold Coast, Queensland, Australia', 'country_USA'],\n",
      "      dtype='object')\n"
     ]
    }
   ],
   "source": [
    "# selecting best features\n",
    "print(X.shape)\n",
    "\n",
    "k_best = SelectKBest(k = 20)\n",
    "k_best.fit(X_train, y_train)\n",
    "X_train_k_best = k_best.transform(X_train)\n",
    "X_test_k_best = k_best.transform(X_test)\n",
    "\n",
    "print(X_train_k_best.shape)\n",
    "print(X.columns[k_best.get_support()])\n",
    "\n",
    "best_features = X.columns[k_best.get_support()]\n",
    "\n",
    "warnings.filterwarnings(\"ignore\")"
   ]
  },
  {
   "cell_type": "markdown",
   "metadata": {},
   "source": [
    "### 4.8 Set X but only with the best features."
   ]
  },
  {
   "cell_type": "code",
   "execution_count": 19,
   "metadata": {},
   "outputs": [
    {
     "name": "stdout",
     "output_type": "stream",
     "text": [
      "X shape: (3243, 20)\n",
      "y shape: (3243,)\n"
     ]
    }
   ],
   "source": [
    "X = ufc_ohe[best_features]\n",
    "y = ufc_ohe['Winner']\n",
    "\n",
    "print('X shape:', X.shape)\n",
    "print('y shape:', y.shape)"
   ]
  },
  {
   "cell_type": "markdown",
   "metadata": {},
   "source": [
    "# 5. Machine Learning Models."
   ]
  },
  {
   "cell_type": "markdown",
   "metadata": {},
   "source": [
    "### 5.1 Build models."
   ]
  },
  {
   "cell_type": "code",
   "execution_count": 20,
   "metadata": {},
   "outputs": [],
   "source": [
    "# knn\n",
    "knn = KNeighborsClassifier()\n",
    "\n",
    "# neural network\n",
    "mpl = MLPClassifier()\n",
    "\n",
    "# decision tree\n",
    "tree = DecisionTreeClassifier()\n",
    "\n",
    "# random forest\n",
    "forest = RandomForestClassifier()\n",
    "\n",
    "classifiers = (knn, mpl, tree, forest)"
   ]
  },
  {
   "cell_type": "markdown",
   "metadata": {},
   "source": [
    "### 5.2 Build the 'applyModel' function."
   ]
  },
  {
   "cell_type": "code",
   "execution_count": 21,
   "metadata": {},
   "outputs": [],
   "source": [
    "def applyModel(model,name,X_train, y_train, X_test, y_test):\n",
    "    m = model.fit(X_train,y_train)\n",
    "    print(name, '- Training accuracy:', m.score(X_train, y_train))\n",
    "    print(name, '- Testing accuracy:', m.score(X_test, y_test))"
   ]
  },
  {
   "cell_type": "markdown",
   "metadata": {},
   "source": [
    "### 5.3 Train and test with the different models."
   ]
  },
  {
   "cell_type": "code",
   "execution_count": 22,
   "metadata": {},
   "outputs": [
    {
     "name": "stdout",
     "output_type": "stream",
     "text": [
      "KNeighborsClassifier() - Training accuracy: 0.6916118421052632\n",
      "KNeighborsClassifier() - Testing accuracy: 0.5154130702836005\n",
      "\n",
      "MLPClassifier() - Training accuracy: 0.9847861842105263\n",
      "MLPClassifier() - Testing accuracy: 0.5782983970406905\n",
      "\n",
      "DecisionTreeClassifier() - Training accuracy: 1.0\n",
      "DecisionTreeClassifier() - Testing accuracy: 0.5548705302096177\n",
      "\n",
      "RandomForestClassifier() - Training accuracy: 1.0\n",
      "RandomForestClassifier() - Testing accuracy: 0.6214549938347719\n",
      "\n"
     ]
    }
   ],
   "source": [
    "for c in classifiers:\n",
    "    n = str(c)\n",
    "    applyModel(c, n, X_train, y_train, X_test, y_test)\n",
    "    print('')\n",
    "    \n",
    "warnings.filterwarnings(\"ignore\")"
   ]
  },
  {
   "cell_type": "markdown",
   "metadata": {},
   "source": [
    "### 5.4 Play around with KNN."
   ]
  },
  {
   "cell_type": "code",
   "execution_count": 23,
   "metadata": {},
   "outputs": [
    {
     "name": "stdout",
     "output_type": "stream",
     "text": [
      "Top 5 results, sorted by test accuracy:\n",
      "\n",
      "(54, 'uniform', 0.610608552631579, 0.594327990135635)\n",
      "(28, 'uniform', 0.6291118421052632, 0.593094944512947)\n",
      "(53, 'uniform', 0.6101973684210527, 0.591861898890259)\n",
      "(69, 'uniform', 0.6007401315789473, 0.591861898890259)\n",
      "(58, 'uniform', 0.6040296052631579, 0.5906288532675709)\n"
     ]
    }
   ],
   "source": [
    "training_accuracy = []\n",
    "testing_accuracy = []\n",
    "number_of_neighbors =[]\n",
    "weighting_choice = []\n",
    "\n",
    "weight_values = ['distance', 'uniform']\n",
    "\n",
    "for n_neighbors in range(1,100):\n",
    "    for weights in weight_values:\n",
    "        clf = KNeighborsClassifier(n_neighbors = n_neighbors, weights = weights)\n",
    "        clf.fit(X_train, y_train)\n",
    "        training_accuracy.append(clf.score(X_train, y_train))\n",
    "        testing_accuracy.append(clf.score(X_test, y_test))\n",
    "        number_of_neighbors.append(n_neighbors)\n",
    "        weighting_choice.append(weights)\n",
    "      \n",
    "     \n",
    "combinations_sorted_knn = sorted(list(zip(number_of_neighbors, weighting_choice, training_accuracy, testing_accuracy)), key = lambda e:e[3], reverse = True)\n",
    "\n",
    "print('Top 5 results, sorted by test accuracy:\\n')\n",
    "print(*combinations_sorted_knn[0:5], sep = \"\\n\")\n",
    "\n",
    "# save the best variables\n",
    "knn_best_n_neighbors = combinations_sorted_knn[0][0]\n",
    "knn_best_weights = combinations_sorted_knn[0][1]"
   ]
  },
  {
   "cell_type": "markdown",
   "metadata": {},
   "source": [
    "### 5.5 Play around with Neural Network."
   ]
  },
  {
   "cell_type": "code",
   "execution_count": 24,
   "metadata": {},
   "outputs": [
    {
     "name": "stdout",
     "output_type": "stream",
     "text": [
      "Top 5 results, sorted by test accuracy:\n",
      "\n",
      "(5, 'adaptive', 0.6476151315789473, 0.625154130702836)\n",
      "(1, 'adaptive', 0.703125, 0.6177558569667078)\n",
      "(1, 'invscaling', 0.7162828947368421, 0.6165228113440198)\n",
      "(5, 'invscaling', 0.641858552631579, 0.6165228113440198)\n",
      "(5, 'constant', 0.6361019736842105, 0.6128236744759556)\n"
     ]
    }
   ],
   "source": [
    "train_acc = []\n",
    "test_acc = []\n",
    "alpha_value = []\n",
    "learning_rate_value = []\n",
    "\n",
    "\n",
    "alphas = (0.0001, 0.001, 0.1, 0, 1, 5, 100)\n",
    "learning_rates = ('constant', 'invscaling', 'adaptive')\n",
    "\n",
    "for a in alphas:\n",
    "    for l in learning_rates:\n",
    "        mpl = MLPClassifier(alpha=a, learning_rate = l)\n",
    "        mpl.fit(X_train, y_train)\n",
    "        train_acc.append(accuracy_score(mpl.predict(X_train), y_train))\n",
    "        test_acc.append(accuracy_score(mpl.predict(X_test), y_test))\n",
    "        alpha_value.append(a)\n",
    "        learning_rate_value.append(l)\n",
    "        \n",
    "\n",
    "combinations_sorted_mpl = sorted(list(zip(alpha_value, learning_rate_value, train_acc, test_acc)), key = lambda e:e[3], reverse = True)\n",
    "\n",
    "print('Top 5 results, sorted by test accuracy:\\n')\n",
    "print(*combinations_sorted_mpl[0:5], sep = \"\\n\")\n",
    "\n",
    "# save the best variables\n",
    "mpl_best_alpha = combinations_sorted_knn[0][0]\n",
    "mpl_best_learning_rate = combinations_sorted_knn[0][1]"
   ]
  },
  {
   "cell_type": "markdown",
   "metadata": {},
   "source": [
    "### 5.6 Play around with Decision Tree."
   ]
  },
  {
   "cell_type": "code",
   "execution_count": 25,
   "metadata": {},
   "outputs": [
    {
     "name": "stdout",
     "output_type": "stream",
     "text": [
      "Top 5 results, sorted by test accuracy:\n",
      "   (Values: depth, training accracy, test accuracy)\n",
      "\n",
      "(1, 0.6192434210526315, 0.6140567200986436)\n",
      "(3, 0.6414473684210527, 0.6128236744759556)\n",
      "(2, 0.6336348684210527, 0.6041923551171393)\n",
      "(6, 0.727796052631579, 0.6004932182490752)\n",
      "(5, 0.678453947368421, 0.5967940813810111)\n"
     ]
    }
   ],
   "source": [
    "train_acc = []\n",
    "test_acc = []\n",
    "max_depth_value = []\n",
    "\n",
    "for i in range(1,30):\n",
    "    dt = DecisionTreeClassifier(max_depth = i, random_state=0)\n",
    "    dt.fit(X_train, y_train)\n",
    "    train_acc.append(accuracy_score(dt.predict(X_train), y_train))\n",
    "    test_acc.append(accuracy_score(dt.predict(X_test), y_test))\n",
    "    max_depth_value.append(i)\n",
    "\n",
    "combinations_sorted_tree = sorted(list(zip(max_depth_value, train_acc, test_acc)), key = lambda e:e[2], reverse = True)\n",
    "\n",
    "print('Top 5 results, sorted by test accuracy:\\n   (Values: depth, training accracy, test accuracy)\\n')\n",
    "print(*combinations_sorted_tree[0:5], sep = \"\\n\")\n",
    "\n",
    "# save the best variable\n",
    "tree_best_max_depth = combinations_sorted_tree[0][0]"
   ]
  },
  {
   "cell_type": "markdown",
   "metadata": {},
   "source": [
    "### 5.7 Play around with Random Forest."
   ]
  },
  {
   "cell_type": "code",
   "execution_count": 26,
   "metadata": {},
   "outputs": [
    {
     "name": "stdout",
     "output_type": "stream",
     "text": [
      "Top 5 results, sorted by test accuracy:\n",
      "   (Values: depth, training accracy, test accuracy)\n",
      "\n",
      "(5, 'entropy', 8, 0.7430098684210527, 0.591861898890259)\n",
      "(4, 'gini', 8, 0.7405427631578947, 0.5967940813810111)\n",
      "(5, 'gini', 8, 0.7376644736842105, 0.591861898890259)\n",
      "(4, 'entropy', 8, 0.7249177631578947, 0.5955610357583231)\n",
      "(5, 'entropy', 7, 0.7129934210526315, 0.5906288532675709)\n"
     ]
    }
   ],
   "source": [
    "train_acc = []\n",
    "test_acc = []\n",
    "max_depth_value = []\n",
    "criterion_value = []\n",
    "max_features_value = []\n",
    "\n",
    "criterions = ('gini', 'entropy')\n",
    "number_of_features = range(1,6)\n",
    "\n",
    "for i in range(1,9):\n",
    "    for c in criterions:\n",
    "        for f in number_of_features:\n",
    "                rf = RandomForestClassifier(criterion = c, max_depth = i, max_features = f, random_state=0)\n",
    "                rf.fit(X_train, y_train)\n",
    "                train_acc.append(accuracy_score(rf.predict(X_train), y_train))\n",
    "                test_acc.append(accuracy_score(rf.predict(X_test), y_test))\n",
    "                max_depth_value.append(i)\n",
    "                criterion_value.append(c)\n",
    "                max_features_value.append(f)\n",
    "\n",
    "combinations_sorted_forest = sorted(list(zip(max_features_value, criterion_value, max_depth_value, train_acc, test_acc)), key = lambda e:e[3], reverse = True)\n",
    "\n",
    "print('Top 5 results, sorted by test accuracy:\\n   (Values: depth, training accracy, test accuracy)\\n')\n",
    "print(*combinations_sorted_forest[0:5], sep = \"\\n\")\n",
    "\n",
    "# save the best variable\n"
   ]
  },
  {
   "cell_type": "markdown",
   "metadata": {},
   "source": [
    "### 5.8 Look at the best combinations with each model."
   ]
  },
  {
   "cell_type": "code",
   "execution_count": 27,
   "metadata": {},
   "outputs": [
    {
     "name": "stdout",
     "output_type": "stream",
     "text": [
      "KNN: (54, 'uniform', 0.610608552631579, 0.594327990135635)\n",
      "Neural Network: (5, 'adaptive', 0.6476151315789473, 0.625154130702836)\n",
      "Decision Tree: (1, 0.6192434210526315, 0.6140567200986436)\n",
      "Random Forest: (5, 'entropy', 8, 0.7430098684210527, 0.591861898890259)\n"
     ]
    }
   ],
   "source": [
    "print('KNN:', combinations_sorted_knn[0])\n",
    "print('Neural Network:', combinations_sorted_mpl[0])\n",
    "print('Decision Tree:', combinations_sorted_tree[0])\n",
    "print('Random Forest:', combinations_sorted_forest[0])\n",
    "\n",
    "# for now, the KNN model has the highest test accuracy"
   ]
  },
  {
   "cell_type": "markdown",
   "metadata": {},
   "source": [
    "# 6. Making a prediction."
   ]
  },
  {
   "cell_type": "markdown",
   "metadata": {},
   "source": [
    "### 6.1 Getting a prediction set."
   ]
  },
  {
   "cell_type": "code",
   "execution_count": 28,
   "metadata": {},
   "outputs": [
    {
     "name": "stdout",
     "output_type": "stream",
     "text": [
      "R_Height_cms :\n",
      "2\n",
      "\n",
      "B_Height_cms :\n",
      "2\n",
      "\n",
      "R_Reach_cms :\n",
      "2\n",
      "\n",
      "B_Reach_cms :\n",
      "2\n",
      "\n",
      "R_Weight_lbs :\n",
      "2\n",
      "\n",
      "B_Weight_lbs :\n",
      "2\n",
      "\n",
      "R_age :\n",
      "2\n",
      "\n",
      "B_age :\n",
      "2\n",
      "\n",
      "R_current_win_streak :\n",
      "2\n",
      "\n",
      "B_current_win_streak :\n",
      "2\n",
      "\n",
      "R_avg_SIG_STR_landed :\n",
      "2\n",
      "\n",
      "B_avg_SIG_STR_landed :\n",
      "2\n",
      "\n"
     ]
    }
   ],
   "source": [
    "# not working right now because all features are used in the training set. that means that the user should enter all ~250 values here, too\n",
    "# once we decide what features are the most influential, we can make this work, too\n",
    "\n",
    "user_inputs = []\n",
    "input_names = ['R_Height_cms', 'B_Height_cms', 'R_Reach_cms', 'B_Reach_cms', 'R_Weight_lbs', 'B_Weight_lbs', 'R_age', 'B_age', 'R_current_win_streak', 'B_current_win_streak', 'R_avg_SIG_STR_landed', 'B_avg_SIG_STR_landed']\n",
    "\n",
    "\n",
    "for i in input_names:\n",
    "    print(i, ':')\n",
    "    user_inputs.append(input())\n",
    "    print('')"
   ]
  }
 ],
 "metadata": {
  "kernelspec": {
   "display_name": "Python 3",
   "language": "python",
   "name": "python3"
  },
  "language_info": {
   "codemirror_mode": {
    "name": "ipython",
    "version": 3
   },
   "file_extension": ".py",
   "mimetype": "text/x-python",
   "name": "python",
   "nbconvert_exporter": "python",
   "pygments_lexer": "ipython3",
   "version": "3.8.5"
  }
 },
 "nbformat": 4,
 "nbformat_minor": 4
}
