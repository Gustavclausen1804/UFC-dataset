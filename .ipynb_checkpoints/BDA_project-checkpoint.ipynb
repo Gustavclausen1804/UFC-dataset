{
 "cells": [
  {
   "cell_type": "markdown",
   "metadata": {},
   "source": [
    "### READ ME\n",
    "This is a final project for the course 'Business Data Analytics, Quantitative Methods and Visualization' (2021, Copenhagen Business School).\n",
    "The goal of this project is to be able to predict the outcome of a certain UFC fight, more specifically to predict whether the Red or Blue fighter is more likely to win the match.\n",
    "\n",
    "We are going to do this through the following steps:\n",
    "1. __Importing necessary libraries and tools.__\n",
    "2. __Loading, Cleaning & Exploring the dataset.__\n",
    "3. __Data pre-processing.__\n",
    "4. __Machine Learning Models.__\n",
    "5. __Making a prediction.__\n",
    "6. __Showcasing results.__"
   ]
  },
  {
   "cell_type": "markdown",
   "metadata": {},
   "source": [
    "### Legend\n",
    "\n",
    "- ufc = the original dataset\n",
    "- column_names = list of column names\n",
    "- ufc_df = the dataset without NaNs\n",
    "- datatypes = dictionary with column names + their datatypes\n",
    "- ufc_ohe = one hot encoded dataset"
   ]
  },
  {
   "cell_type": "markdown",
   "metadata": {},
   "source": [
    "# 1. Importing necessary libraries and tools."
   ]
  },
  {
   "cell_type": "code",
   "execution_count": 2,
   "metadata": {},
   "outputs": [],
   "source": [
    "# libraries\n",
    "\n",
    "import pandas as pd #used\n",
    "import matplotlib.pyplot as plt #used\n",
    "import numpy as np #used\n",
    "import seaborn as sns #used\n",
    "\n",
    "# models\n",
    "\n",
    "from sklearn.neighbors import KNeighborsClassifier #used\n",
    "from sklearn.neural_network import MLPClassifier #used\n",
    "from sklearn.tree import DecisionTreeClassifier #used\n",
    "from sklearn.ensemble import RandomForestClassifier #used\n",
    "\n",
    "from sklearn.preprocessing import MinMaxScaler #used\n",
    "from sklearn.feature_selection import SelectKBest #used\n",
    "from sklearn.linear_model import Lasso\n",
    "from sklearn.feature_extraction.text import CountVectorizer\n",
    "from sklearn.decomposition import PCA\n",
    "from sklearn.manifold import TSNE\n",
    "\n",
    "# use cross validation with grid search as well. \n",
    "from sklearn.model_selection import GridSearchCV\n",
    "\n",
    "# other tools\n",
    "\n",
    "from sklearn.model_selection import train_test_split #used\n",
    "from sklearn.metrics import accuracy_score #used\n",
    "\n",
    "import warnings #used"
   ]
  },
  {
   "cell_type": "markdown",
   "metadata": {},
   "source": [
    "# 2. Loading, Cleaning & Exploring the dataset."
   ]
  },
  {
   "cell_type": "markdown",
   "metadata": {},
   "source": [
    "### 2.1 Load excel file (ufc.xlsx) and print out the first couple rows."
   ]
  },
  {
   "cell_type": "code",
   "execution_count": 3,
   "metadata": {},
   "outputs": [],
   "source": [
    "ufc = pd.read_excel('newestdataset.xlsx')"
   ]
  },
  {
   "cell_type": "markdown",
   "metadata": {},
   "source": [
    "### 2.2 Get number of rows and columns."
   ]
  },
  {
   "cell_type": "code",
   "execution_count": 4,
   "metadata": {},
   "outputs": [
    {
     "name": "stdout",
     "output_type": "stream",
     "text": [
      "Number of rows: 5144\n",
      "Number of columns: 78\n"
     ]
    }
   ],
   "source": [
    "print('Number of rows:', ufc.shape[0])\n",
    "print('Number of columns:', ufc.shape[1])"
   ]
  },
  {
   "cell_type": "markdown",
   "metadata": {},
   "source": [
    "### 2.3 Get the list of column names."
   ]
  },
  {
   "cell_type": "code",
   "execution_count": 5,
   "metadata": {},
   "outputs": [],
   "source": [
    "column_names = ufc.columns"
   ]
  },
  {
   "cell_type": "markdown",
   "metadata": {},
   "source": [
    "#### *We can call this list whenever we want to check the name of a column.*"
   ]
  },
  {
   "cell_type": "markdown",
   "metadata": {},
   "source": [
    "### 2.4 Check for missing data."
   ]
  },
  {
   "cell_type": "code",
   "execution_count": 6,
   "metadata": {},
   "outputs": [
    {
     "name": "stdout",
     "output_type": "stream",
     "text": [
      "<class 'pandas.core.frame.DataFrame'>\n",
      "RangeIndex: 5144 entries, 0 to 5143\n",
      "Data columns (total 78 columns):\n",
      " #   Column                                Non-Null Count  Dtype  \n",
      "---  ------                                --------------  -----  \n",
      " 0   Unnamed: 0                            5144 non-null   int64  \n",
      " 1   R_odds_dec                            3856 non-null   float64\n",
      " 2   B_odds_dec                            3856 non-null   float64\n",
      " 3   R_fighter                             5144 non-null   object \n",
      " 4   B_fighter                             5144 non-null   object \n",
      " 5   Referee                               5121 non-null   object \n",
      " 6   date                                  5144 non-null   object \n",
      " 7   location                              5144 non-null   object \n",
      " 8   Winner                                5144 non-null   object \n",
      " 9   title_bout                            5144 non-null   bool   \n",
      " 10  weight_class                          5144 non-null   object \n",
      " 11  no_of_rounds                          5144 non-null   int64  \n",
      " 12  B_current_lose_streak                 5144 non-null   int64  \n",
      " 13  B_current_win_streak                  5144 non-null   int64  \n",
      " 14  B_avg_KD                              3879 non-null   float64\n",
      " 15  B_SLpM                                3879 non-null   float64\n",
      " 16  B_SApM                                3879 non-null   float64\n",
      " 17  B_Sd                                  3879 non-null   float64\n",
      " 18  B_total_SIG_STR_landed                5144 non-null   float64\n",
      " 19  B_avg_SIG_STR_landed_per_fight        3879 non-null   float64\n",
      " 20  B_losses                              5144 non-null   int64  \n",
      " 21  B_avg_SIG_STR_absorberd_per_fight     3879 non-null   float64\n",
      " 22  B_total_SIG_STR_absorbed              5144 non-null   float64\n",
      " 23  B_avg_opp_TOTAL_STR_landed            3879 non-null   float64\n",
      " 24  B_total_rounds_fought                 5144 non-null   int64  \n",
      " 25  B_total_time_fought(minutes)          5144 non-null   float64\n",
      " 26  B_total_time_fought(seconds)          5144 non-null   float64\n",
      " 27  B_avg_time_fought_per_fight(seconds)  3879 non-null   float64\n",
      " 28  B_total_title_bouts                   5144 non-null   int64  \n",
      " 29  B_win_by_Decision_Majority            5144 non-null   int64  \n",
      " 30  B_win_by_Decision_Split               5144 non-null   int64  \n",
      " 31  B_win_by_Decision_Unanimous           5144 non-null   int64  \n",
      " 32  B_win_by_KO/TKO                       5144 non-null   int64  \n",
      " 33  B_win_by_Submission                   5144 non-null   int64  \n",
      " 34  B_win_by_TKO_Doctor_Stoppage          5144 non-null   int64  \n",
      " 35  B_wins                                5144 non-null   int64  \n",
      " 36  B_Stance                              4985 non-null   object \n",
      " 37  B_Height_cms                          5136 non-null   float64\n",
      " 38  B_Reach_ins                           5144 non-null   float64\n",
      " 39  B_UFC_fights                          5144 non-null   int64  \n",
      " 40  B_age                                 4972 non-null   float64\n",
      " 41  B_Reach_cms                           4478 non-null   float64\n",
      " 42  B_Weight_lbs                          5138 non-null   float64\n",
      " 43  R_current_lose_streak                 5144 non-null   int64  \n",
      " 44  R_current_win_streak                  5144 non-null   int64  \n",
      " 45  R_avg_KD                              4494 non-null   float64\n",
      " 46  R_SLpM                                4494 non-null   float64\n",
      " 47  R_SApM                                4494 non-null   float64\n",
      " 48  R_Sd                                  4494 non-null   float64\n",
      " 49  R_total_SIG_STR_absorbed              5144 non-null   float64\n",
      " 50  R_total_SIG_STR_landed                5144 non-null   float64\n",
      " 51  R_avg_SIG_STR_landed_per_fight        4494 non-null   float64\n",
      " 52  R_losses                              5144 non-null   int64  \n",
      " 53  R_avg_SIG_STR_absorbed_per_fight      4494 non-null   float64\n",
      " 54  R_avg_opp_TOTAL_STR_landed            4494 non-null   float64\n",
      " 55  R_total_rounds_fought                 5144 non-null   int64  \n",
      " 56  R_total_time_fought(minutes)          5144 non-null   float64\n",
      " 57  R_total_time_fought(seconds)          5144 non-null   float64\n",
      " 58  R_avg_time_fought_per_fight(seconds)  4494 non-null   float64\n",
      " 59  R_total_title_bouts                   5144 non-null   int64  \n",
      " 60  R_win_by_Decision_Majority            5144 non-null   int64  \n",
      " 61  R_win_by_Decision_Split               5144 non-null   int64  \n",
      " 62  R_win_by_Decision_Unanimous           5144 non-null   int64  \n",
      " 63  R_win_by_KO/TKO                       5144 non-null   int64  \n",
      " 64  R_win_by_Submission                   5144 non-null   int64  \n",
      " 65  R_win_by_TKO_Doctor_Stoppage          5144 non-null   int64  \n",
      " 66  R_wins                                5144 non-null   int64  \n",
      " 67  R_Stance                              5010 non-null   object \n",
      " 68  R_Height_cms                          5140 non-null   float64\n",
      " 69  R_Reach_ins                           5144 non-null   float64\n",
      " 70  R_Reach_cms                           4828 non-null   float64\n",
      " 71  R_Weight_lbs                          5141 non-null   float64\n",
      " 72  R_UFC_fights                          5144 non-null   int64  \n",
      " 73  R_age                                 5080 non-null   float64\n",
      " 74  Reach_diff_ins                        5144 non-null   float64\n",
      " 75  Age_diff                              5144 non-null   int64  \n",
      " 76  R_odds                                3856 non-null   float64\n",
      " 77  B_odds                                3856 non-null   float64\n",
      "dtypes: bool(1), float64(39), int64(29), object(9)\n",
      "memory usage: 3.0+ MB\n"
     ]
    }
   ],
   "source": [
    "ufc.info()"
   ]
  },
  {
   "cell_type": "markdown",
   "metadata": {},
   "source": [
    "#### As we can see, there are some NaNs in these columns that should later be taken care of:\n",
    "- B_avg_SIG_STR_landed\n",
    "- B_avg_SIG_STR_pct\n",
    "- B_avg_SUB_ATT     \n",
    "- B_avg_TD_landed      \n",
    "- B_avg_TD_pct\n",
    "- R_avg_SIG_STR_landed\n",
    "- R_avg_SIG_STR_pct\n",
    "- R_avg_SUB_ATT     \n",
    "- R_avg_TD_landed      \n",
    "- R_avg_TD_pct  "
   ]
  },
  {
   "cell_type": "markdown",
   "metadata": {},
   "source": [
    "### 2.5 Check for duplicates."
   ]
  },
  {
   "cell_type": "code",
   "execution_count": 7,
   "metadata": {},
   "outputs": [
    {
     "data": {
      "text/html": [
       "<div>\n",
       "<style scoped>\n",
       "    .dataframe tbody tr th:only-of-type {\n",
       "        vertical-align: middle;\n",
       "    }\n",
       "\n",
       "    .dataframe tbody tr th {\n",
       "        vertical-align: top;\n",
       "    }\n",
       "\n",
       "    .dataframe thead th {\n",
       "        text-align: right;\n",
       "    }\n",
       "</style>\n",
       "<table border=\"1\" class=\"dataframe\">\n",
       "  <thead>\n",
       "    <tr style=\"text-align: right;\">\n",
       "      <th></th>\n",
       "      <th>Unnamed: 0</th>\n",
       "      <th>R_odds_dec</th>\n",
       "      <th>B_odds_dec</th>\n",
       "      <th>R_fighter</th>\n",
       "      <th>B_fighter</th>\n",
       "      <th>Referee</th>\n",
       "      <th>date</th>\n",
       "      <th>location</th>\n",
       "      <th>Winner</th>\n",
       "      <th>title_bout</th>\n",
       "      <th>...</th>\n",
       "      <th>R_Height_cms</th>\n",
       "      <th>R_Reach_ins</th>\n",
       "      <th>R_Reach_cms</th>\n",
       "      <th>R_Weight_lbs</th>\n",
       "      <th>R_UFC_fights</th>\n",
       "      <th>R_age</th>\n",
       "      <th>Reach_diff_ins</th>\n",
       "      <th>Age_diff</th>\n",
       "      <th>R_odds</th>\n",
       "      <th>B_odds</th>\n",
       "    </tr>\n",
       "  </thead>\n",
       "  <tbody>\n",
       "  </tbody>\n",
       "</table>\n",
       "<p>0 rows × 78 columns</p>\n",
       "</div>"
      ],
      "text/plain": [
       "Empty DataFrame\n",
       "Columns: [Unnamed: 0, R_odds_dec, B_odds_dec, R_fighter, B_fighter, Referee, date, location, Winner, title_bout, weight_class, no_of_rounds, B_current_lose_streak, B_current_win_streak, B_avg_KD, B_SLpM, B_SApM, B_Sd, B_total_SIG_STR_landed, B_avg_SIG_STR_landed_per_fight, B_losses, B_avg_SIG_STR_absorberd_per_fight, B_total_SIG_STR_absorbed, B_avg_opp_TOTAL_STR_landed, B_total_rounds_fought, B_total_time_fought(minutes), B_total_time_fought(seconds), B_avg_time_fought_per_fight(seconds), B_total_title_bouts, B_win_by_Decision_Majority, B_win_by_Decision_Split, B_win_by_Decision_Unanimous, B_win_by_KO/TKO, B_win_by_Submission, B_win_by_TKO_Doctor_Stoppage, B_wins, B_Stance, B_Height_cms, B_Reach_ins, B_UFC_fights, B_age, B_Reach_cms, B_Weight_lbs, R_current_lose_streak, R_current_win_streak, R_avg_KD, R_SLpM, R_SApM, R_Sd, R_total_SIG_STR_absorbed, R_total_SIG_STR_landed, R_avg_SIG_STR_landed_per_fight, R_losses, R_avg_SIG_STR_absorbed_per_fight, R_avg_opp_TOTAL_STR_landed, R_total_rounds_fought, R_total_time_fought(minutes), R_total_time_fought(seconds), R_avg_time_fought_per_fight(seconds), R_total_title_bouts, R_win_by_Decision_Majority, R_win_by_Decision_Split, R_win_by_Decision_Unanimous, R_win_by_KO/TKO, R_win_by_Submission, R_win_by_TKO_Doctor_Stoppage, R_wins, R_Stance, R_Height_cms, R_Reach_ins, R_Reach_cms, R_Weight_lbs, R_UFC_fights, R_age, Reach_diff_ins, Age_diff, R_odds, B_odds]\n",
       "Index: []\n",
       "\n",
       "[0 rows x 78 columns]"
      ]
     },
     "execution_count": 7,
     "metadata": {},
     "output_type": "execute_result"
    }
   ],
   "source": [
    "duplicates = ufc.duplicated()\n",
    "ufc[duplicates]"
   ]
  },
  {
   "cell_type": "markdown",
   "metadata": {},
   "source": [
    "#### *It seems that there are no duplicates, therefore, we only need to focus on NaN values.*"
   ]
  },
  {
   "cell_type": "markdown",
   "metadata": {},
   "source": [
    "### 2.6 Delete rows with at least 1 missing value (NaN)."
   ]
  },
  {
   "cell_type": "code",
   "execution_count": 8,
   "metadata": {},
   "outputs": [
    {
     "name": "stdout",
     "output_type": "stream",
     "text": [
      "Number of rows: 2697\n",
      "Number of columns: 78\n"
     ]
    }
   ],
   "source": [
    "ufc_df = ufc.dropna()\n",
    "\n",
    "print('Number of rows:', ufc_df.shape[0])\n",
    "print('Number of columns:', ufc_df.shape[1])"
   ]
  },
  {
   "cell_type": "markdown",
   "metadata": {},
   "source": [
    "#### *1062 rows got dropped.*"
   ]
  },
  {
   "cell_type": "markdown",
   "metadata": {},
   "source": [
    "### 2.7 Check if columns have the right datatype."
   ]
  },
  {
   "cell_type": "code",
   "execution_count": 9,
   "metadata": {},
   "outputs": [
    {
     "data": {
      "text/plain": [
       "{'Unnamed: 0': dtype('int64'),\n",
       " 'R_odds_dec': dtype('float64'),\n",
       " 'B_odds_dec': dtype('float64'),\n",
       " 'R_fighter': dtype('O'),\n",
       " 'B_fighter': dtype('O'),\n",
       " 'Referee': dtype('O'),\n",
       " 'date': dtype('O'),\n",
       " 'location': dtype('O'),\n",
       " 'Winner': dtype('O'),\n",
       " 'title_bout': dtype('bool'),\n",
       " 'weight_class': dtype('O'),\n",
       " 'no_of_rounds': dtype('int64'),\n",
       " 'B_current_lose_streak': dtype('int64'),\n",
       " 'B_current_win_streak': dtype('int64'),\n",
       " 'B_avg_KD': dtype('float64'),\n",
       " 'B_SLpM': dtype('float64'),\n",
       " 'B_SApM': dtype('float64'),\n",
       " 'B_Sd': dtype('float64'),\n",
       " 'B_total_SIG_STR_landed': dtype('float64'),\n",
       " 'B_avg_SIG_STR_landed_per_fight': dtype('float64'),\n",
       " 'B_losses': dtype('int64'),\n",
       " 'B_avg_SIG_STR_absorberd_per_fight': dtype('float64'),\n",
       " 'B_total_SIG_STR_absorbed': dtype('float64'),\n",
       " 'B_avg_opp_TOTAL_STR_landed': dtype('float64'),\n",
       " 'B_total_rounds_fought': dtype('int64'),\n",
       " 'B_total_time_fought(minutes)': dtype('float64'),\n",
       " 'B_total_time_fought(seconds)': dtype('float64'),\n",
       " 'B_avg_time_fought_per_fight(seconds)': dtype('float64'),\n",
       " 'B_total_title_bouts': dtype('int64'),\n",
       " 'B_win_by_Decision_Majority': dtype('int64'),\n",
       " 'B_win_by_Decision_Split': dtype('int64'),\n",
       " 'B_win_by_Decision_Unanimous': dtype('int64'),\n",
       " 'B_win_by_KO/TKO': dtype('int64'),\n",
       " 'B_win_by_Submission': dtype('int64'),\n",
       " 'B_win_by_TKO_Doctor_Stoppage': dtype('int64'),\n",
       " 'B_wins': dtype('int64'),\n",
       " 'B_Stance': dtype('O'),\n",
       " 'B_Height_cms': dtype('float64'),\n",
       " 'B_Reach_ins': dtype('float64'),\n",
       " 'B_UFC_fights': dtype('int64'),\n",
       " 'B_age': dtype('float64'),\n",
       " 'B_Reach_cms': dtype('float64'),\n",
       " 'B_Weight_lbs': dtype('float64'),\n",
       " 'R_current_lose_streak': dtype('int64'),\n",
       " 'R_current_win_streak': dtype('int64'),\n",
       " 'R_avg_KD': dtype('float64'),\n",
       " 'R_SLpM': dtype('float64'),\n",
       " 'R_SApM': dtype('float64'),\n",
       " 'R_Sd': dtype('float64'),\n",
       " 'R_total_SIG_STR_absorbed': dtype('float64'),\n",
       " 'R_total_SIG_STR_landed': dtype('float64'),\n",
       " 'R_avg_SIG_STR_landed_per_fight': dtype('float64'),\n",
       " 'R_losses': dtype('int64'),\n",
       " 'R_avg_SIG_STR_absorbed_per_fight': dtype('float64'),\n",
       " 'R_avg_opp_TOTAL_STR_landed': dtype('float64'),\n",
       " 'R_total_rounds_fought': dtype('int64'),\n",
       " 'R_total_time_fought(minutes)': dtype('float64'),\n",
       " 'R_total_time_fought(seconds)': dtype('float64'),\n",
       " 'R_avg_time_fought_per_fight(seconds)': dtype('float64'),\n",
       " 'R_total_title_bouts': dtype('int64'),\n",
       " 'R_win_by_Decision_Majority': dtype('int64'),\n",
       " 'R_win_by_Decision_Split': dtype('int64'),\n",
       " 'R_win_by_Decision_Unanimous': dtype('int64'),\n",
       " 'R_win_by_KO/TKO': dtype('int64'),\n",
       " 'R_win_by_Submission': dtype('int64'),\n",
       " 'R_win_by_TKO_Doctor_Stoppage': dtype('int64'),\n",
       " 'R_wins': dtype('int64'),\n",
       " 'R_Stance': dtype('O'),\n",
       " 'R_Height_cms': dtype('float64'),\n",
       " 'R_Reach_ins': dtype('float64'),\n",
       " 'R_Reach_cms': dtype('float64'),\n",
       " 'R_Weight_lbs': dtype('float64'),\n",
       " 'R_UFC_fights': dtype('int64'),\n",
       " 'R_age': dtype('float64'),\n",
       " 'Reach_diff_ins': dtype('float64'),\n",
       " 'Age_diff': dtype('int64'),\n",
       " 'R_odds': dtype('float64'),\n",
       " 'B_odds': dtype('float64')}"
      ]
     },
     "execution_count": 9,
     "metadata": {},
     "output_type": "execute_result"
    }
   ],
   "source": [
    "datatypes = ufc_df.dtypes.to_dict()\n",
    "datatypes"
   ]
  },
  {
   "cell_type": "markdown",
   "metadata": {},
   "source": [
    "- O = object\n",
    "- int64 = integer\n",
    "- float64 = float\n",
    "- <M8[ns] = date (\"On a machine whose byte order is little endian, there is no difference between *np.dtype('datetime64[ns]')* and *np.dtype('<M8[ns]')*\")\n",
    "- bool = True/False"
   ]
  },
  {
   "cell_type": "markdown",
   "metadata": {},
   "source": [
    "### 2.8 Fix datatypes if necessary."
   ]
  },
  {
   "cell_type": "markdown",
   "metadata": {},
   "source": [
    "### 2.9 Use info() again to check missing values and datatypes."
   ]
  },
  {
   "cell_type": "markdown",
   "metadata": {},
   "source": [
    "### 2.10 Create a dataframes for visualizations."
   ]
  },
  {
   "cell_type": "code",
   "execution_count": 10,
   "metadata": {},
   "outputs": [],
   "source": [
    "# General features\n",
    "ufc_gen = ufc_df[['R_odds_dec', 'B_odds_dec', 'date', 'location', 'Winner', 'weight_class', 'Reach_diff_ins', 'Age_diff']]\n",
    "\n",
    "# Red features\n",
    "ufc_R = ufc_df[['R_odds_dec', 'R_current_lose_streak', 'R_current_win_streak', 'R_total_SIG_STR_landed',\n",
    "       'R_losses', 'R_total_rounds_fought', 'R_total_time_fought(minutes)',\n",
    "       'R_total_title_bouts', 'R_win_by_Decision_Majority',\n",
    "       'R_win_by_Decision_Split', 'R_win_by_Decision_Unanimous',\n",
    "       'R_win_by_KO/TKO', 'R_win_by_Submission',\n",
    "       'R_win_by_TKO_Doctor_Stoppage', 'R_wins', 'R_Stance', 'R_Height_cms',\n",
    "        'R_Reach_cms', 'R_Weight_lbs', 'R_UFC_fights', 'R_age']]\n",
    "\n",
    "# Blue features\n",
    "ufc_B = ufc_df[['B_odds_dec', 'B_current_lose_streak',\n",
    "       'B_current_win_streak', \n",
    "       'B_total_SIG_STR_landed', 'B_losses',\n",
    "       'B_total_rounds_fought',\n",
    "       'B_total_time_fought(minutes)', 'B_total_title_bouts',\n",
    "       'B_win_by_Decision_Majority', 'B_win_by_Decision_Split',\n",
    "       'B_win_by_Decision_Unanimous', 'B_win_by_KO/TKO', 'B_win_by_Submission',\n",
    "       'B_win_by_TKO_Doctor_Stoppage', 'B_wins', 'B_Stance', 'B_Height_cms',\n",
    "       'B_UFC_fights', 'B_age', 'B_Reach_cms', 'B_Weight_lbs']]"
   ]
  },
  {
   "cell_type": "markdown",
   "metadata": {},
   "source": [
    "### 2.11 Use head() for a better overview."
   ]
  },
  {
   "cell_type": "code",
   "execution_count": 11,
   "metadata": {},
   "outputs": [
    {
     "data": {
      "text/html": [
       "<div>\n",
       "<style scoped>\n",
       "    .dataframe tbody tr th:only-of-type {\n",
       "        vertical-align: middle;\n",
       "    }\n",
       "\n",
       "    .dataframe tbody tr th {\n",
       "        vertical-align: top;\n",
       "    }\n",
       "\n",
       "    .dataframe thead th {\n",
       "        text-align: right;\n",
       "    }\n",
       "</style>\n",
       "<table border=\"1\" class=\"dataframe\">\n",
       "  <thead>\n",
       "    <tr style=\"text-align: right;\">\n",
       "      <th></th>\n",
       "      <th>R_odds_dec</th>\n",
       "      <th>B_odds_dec</th>\n",
       "      <th>date</th>\n",
       "      <th>location</th>\n",
       "      <th>Winner</th>\n",
       "      <th>weight_class</th>\n",
       "      <th>Reach_diff_ins</th>\n",
       "      <th>Age_diff</th>\n",
       "    </tr>\n",
       "  </thead>\n",
       "  <tbody>\n",
       "    <tr>\n",
       "      <th>0</th>\n",
       "      <td>2.450000</td>\n",
       "      <td>1.606061</td>\n",
       "      <td>2019-06-08</td>\n",
       "      <td>Chicago, Illinois, USA</td>\n",
       "      <td>Red</td>\n",
       "      <td>Bantamweight</td>\n",
       "      <td>3.0</td>\n",
       "      <td>1</td>\n",
       "    </tr>\n",
       "    <tr>\n",
       "      <th>1</th>\n",
       "      <td>1.090909</td>\n",
       "      <td>8.000000</td>\n",
       "      <td>2019-06-08</td>\n",
       "      <td>Chicago, Illinois, USA</td>\n",
       "      <td>Red</td>\n",
       "      <td>Women's Flyweight</td>\n",
       "      <td>0.0</td>\n",
       "      <td>1</td>\n",
       "    </tr>\n",
       "    <tr>\n",
       "      <th>2</th>\n",
       "      <td>1.476190</td>\n",
       "      <td>2.750000</td>\n",
       "      <td>2019-06-08</td>\n",
       "      <td>Chicago, Illinois, USA</td>\n",
       "      <td>Red</td>\n",
       "      <td>Lightweight</td>\n",
       "      <td>3.0</td>\n",
       "      <td>1</td>\n",
       "    </tr>\n",
       "    <tr>\n",
       "      <th>3</th>\n",
       "      <td>4.000000</td>\n",
       "      <td>1.277778</td>\n",
       "      <td>2019-06-08</td>\n",
       "      <td>Chicago, Illinois, USA</td>\n",
       "      <td>Blue</td>\n",
       "      <td>Bantamweight</td>\n",
       "      <td>1.0</td>\n",
       "      <td>3</td>\n",
       "    </tr>\n",
       "    <tr>\n",
       "      <th>4</th>\n",
       "      <td>1.625000</td>\n",
       "      <td>2.400000</td>\n",
       "      <td>2019-06-08</td>\n",
       "      <td>Chicago, Illinois, USA</td>\n",
       "      <td>Blue</td>\n",
       "      <td>Heavyweight</td>\n",
       "      <td>2.0</td>\n",
       "      <td>6</td>\n",
       "    </tr>\n",
       "  </tbody>\n",
       "</table>\n",
       "</div>"
      ],
      "text/plain": [
       "   R_odds_dec  B_odds_dec        date                location Winner  \\\n",
       "0    2.450000    1.606061  2019-06-08  Chicago, Illinois, USA    Red   \n",
       "1    1.090909    8.000000  2019-06-08  Chicago, Illinois, USA    Red   \n",
       "2    1.476190    2.750000  2019-06-08  Chicago, Illinois, USA    Red   \n",
       "3    4.000000    1.277778  2019-06-08  Chicago, Illinois, USA   Blue   \n",
       "4    1.625000    2.400000  2019-06-08  Chicago, Illinois, USA   Blue   \n",
       "\n",
       "        weight_class  Reach_diff_ins  Age_diff  \n",
       "0       Bantamweight             3.0         1  \n",
       "1  Women's Flyweight             0.0         1  \n",
       "2        Lightweight             3.0         1  \n",
       "3       Bantamweight             1.0         3  \n",
       "4        Heavyweight             2.0         6  "
      ]
     },
     "execution_count": 11,
     "metadata": {},
     "output_type": "execute_result"
    }
   ],
   "source": [
    "ufc_gen.head()"
   ]
  },
  {
   "cell_type": "code",
   "execution_count": 12,
   "metadata": {},
   "outputs": [
    {
     "data": {
      "text/html": [
       "<div>\n",
       "<style scoped>\n",
       "    .dataframe tbody tr th:only-of-type {\n",
       "        vertical-align: middle;\n",
       "    }\n",
       "\n",
       "    .dataframe tbody tr th {\n",
       "        vertical-align: top;\n",
       "    }\n",
       "\n",
       "    .dataframe thead th {\n",
       "        text-align: right;\n",
       "    }\n",
       "</style>\n",
       "<table border=\"1\" class=\"dataframe\">\n",
       "  <thead>\n",
       "    <tr style=\"text-align: right;\">\n",
       "      <th></th>\n",
       "      <th>R_odds_dec</th>\n",
       "      <th>R_current_lose_streak</th>\n",
       "      <th>R_current_win_streak</th>\n",
       "      <th>R_total_SIG_STR_landed</th>\n",
       "      <th>R_losses</th>\n",
       "      <th>R_total_rounds_fought</th>\n",
       "      <th>R_total_time_fought(minutes)</th>\n",
       "      <th>R_total_title_bouts</th>\n",
       "      <th>R_win_by_Decision_Majority</th>\n",
       "      <th>R_win_by_Decision_Split</th>\n",
       "      <th>...</th>\n",
       "      <th>R_win_by_KO/TKO</th>\n",
       "      <th>R_win_by_Submission</th>\n",
       "      <th>R_win_by_TKO_Doctor_Stoppage</th>\n",
       "      <th>R_wins</th>\n",
       "      <th>R_Stance</th>\n",
       "      <th>R_Height_cms</th>\n",
       "      <th>R_Reach_cms</th>\n",
       "      <th>R_Weight_lbs</th>\n",
       "      <th>R_UFC_fights</th>\n",
       "      <th>R_age</th>\n",
       "    </tr>\n",
       "  </thead>\n",
       "  <tbody>\n",
       "    <tr>\n",
       "      <th>0</th>\n",
       "      <td>2.450000</td>\n",
       "      <td>0</td>\n",
       "      <td>4</td>\n",
       "      <td>440.0</td>\n",
       "      <td>2</td>\n",
       "      <td>27</td>\n",
       "      <td>123.766667</td>\n",
       "      <td>3</td>\n",
       "      <td>0</td>\n",
       "      <td>2</td>\n",
       "      <td>...</td>\n",
       "      <td>2</td>\n",
       "      <td>0</td>\n",
       "      <td>0</td>\n",
       "      <td>8</td>\n",
       "      <td>Orthodox</td>\n",
       "      <td>162.56</td>\n",
       "      <td>162.56</td>\n",
       "      <td>135.0</td>\n",
       "      <td>10</td>\n",
       "      <td>32.0</td>\n",
       "    </tr>\n",
       "    <tr>\n",
       "      <th>1</th>\n",
       "      <td>1.090909</td>\n",
       "      <td>0</td>\n",
       "      <td>2</td>\n",
       "      <td>416.0</td>\n",
       "      <td>2</td>\n",
       "      <td>25</td>\n",
       "      <td>123.900000</td>\n",
       "      <td>2</td>\n",
       "      <td>0</td>\n",
       "      <td>1</td>\n",
       "      <td>...</td>\n",
       "      <td>0</td>\n",
       "      <td>2</td>\n",
       "      <td>0</td>\n",
       "      <td>5</td>\n",
       "      <td>Southpaw</td>\n",
       "      <td>165.10</td>\n",
       "      <td>167.64</td>\n",
       "      <td>125.0</td>\n",
       "      <td>7</td>\n",
       "      <td>31.0</td>\n",
       "    </tr>\n",
       "    <tr>\n",
       "      <th>2</th>\n",
       "      <td>1.476190</td>\n",
       "      <td>0</td>\n",
       "      <td>11</td>\n",
       "      <td>832.0</td>\n",
       "      <td>1</td>\n",
       "      <td>33</td>\n",
       "      <td>151.100000</td>\n",
       "      <td>2</td>\n",
       "      <td>0</td>\n",
       "      <td>1</td>\n",
       "      <td>...</td>\n",
       "      <td>3</td>\n",
       "      <td>6</td>\n",
       "      <td>1</td>\n",
       "      <td>14</td>\n",
       "      <td>Orthodox</td>\n",
       "      <td>180.34</td>\n",
       "      <td>193.04</td>\n",
       "      <td>155.0</td>\n",
       "      <td>15</td>\n",
       "      <td>35.0</td>\n",
       "    </tr>\n",
       "    <tr>\n",
       "      <th>3</th>\n",
       "      <td>4.000000</td>\n",
       "      <td>1</td>\n",
       "      <td>0</td>\n",
       "      <td>366.0</td>\n",
       "      <td>2</td>\n",
       "      <td>20</td>\n",
       "      <td>92.033333</td>\n",
       "      <td>0</td>\n",
       "      <td>0</td>\n",
       "      <td>1</td>\n",
       "      <td>...</td>\n",
       "      <td>1</td>\n",
       "      <td>0</td>\n",
       "      <td>0</td>\n",
       "      <td>6</td>\n",
       "      <td>Orthodox</td>\n",
       "      <td>162.56</td>\n",
       "      <td>172.72</td>\n",
       "      <td>135.0</td>\n",
       "      <td>8</td>\n",
       "      <td>29.0</td>\n",
       "    </tr>\n",
       "    <tr>\n",
       "      <th>4</th>\n",
       "      <td>1.625000</td>\n",
       "      <td>1</td>\n",
       "      <td>0</td>\n",
       "      <td>130.0</td>\n",
       "      <td>1</td>\n",
       "      <td>7</td>\n",
       "      <td>29.383333</td>\n",
       "      <td>0</td>\n",
       "      <td>0</td>\n",
       "      <td>0</td>\n",
       "      <td>...</td>\n",
       "      <td>2</td>\n",
       "      <td>0</td>\n",
       "      <td>0</td>\n",
       "      <td>3</td>\n",
       "      <td>Southpaw</td>\n",
       "      <td>187.96</td>\n",
       "      <td>190.50</td>\n",
       "      <td>264.0</td>\n",
       "      <td>4</td>\n",
       "      <td>26.0</td>\n",
       "    </tr>\n",
       "  </tbody>\n",
       "</table>\n",
       "<p>5 rows × 21 columns</p>\n",
       "</div>"
      ],
      "text/plain": [
       "   R_odds_dec  R_current_lose_streak  R_current_win_streak  \\\n",
       "0    2.450000                      0                     4   \n",
       "1    1.090909                      0                     2   \n",
       "2    1.476190                      0                    11   \n",
       "3    4.000000                      1                     0   \n",
       "4    1.625000                      1                     0   \n",
       "\n",
       "   R_total_SIG_STR_landed  R_losses  R_total_rounds_fought  \\\n",
       "0                   440.0         2                     27   \n",
       "1                   416.0         2                     25   \n",
       "2                   832.0         1                     33   \n",
       "3                   366.0         2                     20   \n",
       "4                   130.0         1                      7   \n",
       "\n",
       "   R_total_time_fought(minutes)  R_total_title_bouts  \\\n",
       "0                    123.766667                    3   \n",
       "1                    123.900000                    2   \n",
       "2                    151.100000                    2   \n",
       "3                     92.033333                    0   \n",
       "4                     29.383333                    0   \n",
       "\n",
       "   R_win_by_Decision_Majority  R_win_by_Decision_Split  ...  R_win_by_KO/TKO  \\\n",
       "0                           0                        2  ...                2   \n",
       "1                           0                        1  ...                0   \n",
       "2                           0                        1  ...                3   \n",
       "3                           0                        1  ...                1   \n",
       "4                           0                        0  ...                2   \n",
       "\n",
       "   R_win_by_Submission  R_win_by_TKO_Doctor_Stoppage  R_wins  R_Stance  \\\n",
       "0                    0                             0       8  Orthodox   \n",
       "1                    2                             0       5  Southpaw   \n",
       "2                    6                             1      14  Orthodox   \n",
       "3                    0                             0       6  Orthodox   \n",
       "4                    0                             0       3  Southpaw   \n",
       "\n",
       "  R_Height_cms  R_Reach_cms  R_Weight_lbs  R_UFC_fights  R_age  \n",
       "0       162.56       162.56         135.0            10   32.0  \n",
       "1       165.10       167.64         125.0             7   31.0  \n",
       "2       180.34       193.04         155.0            15   35.0  \n",
       "3       162.56       172.72         135.0             8   29.0  \n",
       "4       187.96       190.50         264.0             4   26.0  \n",
       "\n",
       "[5 rows x 21 columns]"
      ]
     },
     "execution_count": 12,
     "metadata": {},
     "output_type": "execute_result"
    }
   ],
   "source": [
    "ufc_R.head()"
   ]
  },
  {
   "cell_type": "code",
   "execution_count": 13,
   "metadata": {},
   "outputs": [
    {
     "data": {
      "text/html": [
       "<div>\n",
       "<style scoped>\n",
       "    .dataframe tbody tr th:only-of-type {\n",
       "        vertical-align: middle;\n",
       "    }\n",
       "\n",
       "    .dataframe tbody tr th {\n",
       "        vertical-align: top;\n",
       "    }\n",
       "\n",
       "    .dataframe thead th {\n",
       "        text-align: right;\n",
       "    }\n",
       "</style>\n",
       "<table border=\"1\" class=\"dataframe\">\n",
       "  <thead>\n",
       "    <tr style=\"text-align: right;\">\n",
       "      <th></th>\n",
       "      <th>B_odds_dec</th>\n",
       "      <th>B_current_lose_streak</th>\n",
       "      <th>B_current_win_streak</th>\n",
       "      <th>B_total_SIG_STR_landed</th>\n",
       "      <th>B_losses</th>\n",
       "      <th>B_total_rounds_fought</th>\n",
       "      <th>B_total_time_fought(minutes)</th>\n",
       "      <th>B_total_title_bouts</th>\n",
       "      <th>B_win_by_Decision_Majority</th>\n",
       "      <th>B_win_by_Decision_Split</th>\n",
       "      <th>...</th>\n",
       "      <th>B_win_by_KO/TKO</th>\n",
       "      <th>B_win_by_Submission</th>\n",
       "      <th>B_win_by_TKO_Doctor_Stoppage</th>\n",
       "      <th>B_wins</th>\n",
       "      <th>B_Stance</th>\n",
       "      <th>B_Height_cms</th>\n",
       "      <th>B_UFC_fights</th>\n",
       "      <th>B_age</th>\n",
       "      <th>B_Reach_cms</th>\n",
       "      <th>B_Weight_lbs</th>\n",
       "    </tr>\n",
       "  </thead>\n",
       "  <tbody>\n",
       "    <tr>\n",
       "      <th>0</th>\n",
       "      <td>1.606061</td>\n",
       "      <td>0</td>\n",
       "      <td>4</td>\n",
       "      <td>113.0</td>\n",
       "      <td>1</td>\n",
       "      <td>9</td>\n",
       "      <td>34.950000</td>\n",
       "      <td>0</td>\n",
       "      <td>0</td>\n",
       "      <td>1</td>\n",
       "      <td>...</td>\n",
       "      <td>2</td>\n",
       "      <td>1</td>\n",
       "      <td>0</td>\n",
       "      <td>4</td>\n",
       "      <td>Orthodox</td>\n",
       "      <td>167.64</td>\n",
       "      <td>5</td>\n",
       "      <td>31.0</td>\n",
       "      <td>170.18</td>\n",
       "      <td>135.0</td>\n",
       "    </tr>\n",
       "    <tr>\n",
       "      <th>1</th>\n",
       "      <td>8.000000</td>\n",
       "      <td>0</td>\n",
       "      <td>3</td>\n",
       "      <td>513.0</td>\n",
       "      <td>6</td>\n",
       "      <td>29</td>\n",
       "      <td>141.500000</td>\n",
       "      <td>0</td>\n",
       "      <td>0</td>\n",
       "      <td>2</td>\n",
       "      <td>...</td>\n",
       "      <td>0</td>\n",
       "      <td>0</td>\n",
       "      <td>1</td>\n",
       "      <td>4</td>\n",
       "      <td>Orthodox</td>\n",
       "      <td>167.64</td>\n",
       "      <td>10</td>\n",
       "      <td>32.0</td>\n",
       "      <td>167.64</td>\n",
       "      <td>125.0</td>\n",
       "    </tr>\n",
       "    <tr>\n",
       "      <th>2</th>\n",
       "      <td>2.750000</td>\n",
       "      <td>0</td>\n",
       "      <td>3</td>\n",
       "      <td>1450.0</td>\n",
       "      <td>8</td>\n",
       "      <td>68</td>\n",
       "      <td>300.633333</td>\n",
       "      <td>1</td>\n",
       "      <td>0</td>\n",
       "      <td>0</td>\n",
       "      <td>...</td>\n",
       "      <td>10</td>\n",
       "      <td>6</td>\n",
       "      <td>0</td>\n",
       "      <td>23</td>\n",
       "      <td>Orthodox</td>\n",
       "      <td>185.42</td>\n",
       "      <td>31</td>\n",
       "      <td>36.0</td>\n",
       "      <td>185.42</td>\n",
       "      <td>155.0</td>\n",
       "    </tr>\n",
       "    <tr>\n",
       "      <th>3</th>\n",
       "      <td>1.277778</td>\n",
       "      <td>0</td>\n",
       "      <td>4</td>\n",
       "      <td>281.0</td>\n",
       "      <td>0</td>\n",
       "      <td>9</td>\n",
       "      <td>43.466667</td>\n",
       "      <td>0</td>\n",
       "      <td>0</td>\n",
       "      <td>0</td>\n",
       "      <td>...</td>\n",
       "      <td>2</td>\n",
       "      <td>0</td>\n",
       "      <td>0</td>\n",
       "      <td>4</td>\n",
       "      <td>Switch</td>\n",
       "      <td>170.18</td>\n",
       "      <td>4</td>\n",
       "      <td>26.0</td>\n",
       "      <td>170.18</td>\n",
       "      <td>135.0</td>\n",
       "    </tr>\n",
       "    <tr>\n",
       "      <th>4</th>\n",
       "      <td>2.400000</td>\n",
       "      <td>0</td>\n",
       "      <td>1</td>\n",
       "      <td>123.0</td>\n",
       "      <td>1</td>\n",
       "      <td>8</td>\n",
       "      <td>40.000000</td>\n",
       "      <td>0</td>\n",
       "      <td>0</td>\n",
       "      <td>0</td>\n",
       "      <td>...</td>\n",
       "      <td>0</td>\n",
       "      <td>0</td>\n",
       "      <td>0</td>\n",
       "      <td>1</td>\n",
       "      <td>Southpaw</td>\n",
       "      <td>180.34</td>\n",
       "      <td>2</td>\n",
       "      <td>32.0</td>\n",
       "      <td>185.42</td>\n",
       "      <td>250.0</td>\n",
       "    </tr>\n",
       "  </tbody>\n",
       "</table>\n",
       "<p>5 rows × 21 columns</p>\n",
       "</div>"
      ],
      "text/plain": [
       "   B_odds_dec  B_current_lose_streak  B_current_win_streak  \\\n",
       "0    1.606061                      0                     4   \n",
       "1    8.000000                      0                     3   \n",
       "2    2.750000                      0                     3   \n",
       "3    1.277778                      0                     4   \n",
       "4    2.400000                      0                     1   \n",
       "\n",
       "   B_total_SIG_STR_landed  B_losses  B_total_rounds_fought  \\\n",
       "0                   113.0         1                      9   \n",
       "1                   513.0         6                     29   \n",
       "2                  1450.0         8                     68   \n",
       "3                   281.0         0                      9   \n",
       "4                   123.0         1                      8   \n",
       "\n",
       "   B_total_time_fought(minutes)  B_total_title_bouts  \\\n",
       "0                     34.950000                    0   \n",
       "1                    141.500000                    0   \n",
       "2                    300.633333                    1   \n",
       "3                     43.466667                    0   \n",
       "4                     40.000000                    0   \n",
       "\n",
       "   B_win_by_Decision_Majority  B_win_by_Decision_Split  ...  B_win_by_KO/TKO  \\\n",
       "0                           0                        1  ...                2   \n",
       "1                           0                        2  ...                0   \n",
       "2                           0                        0  ...               10   \n",
       "3                           0                        0  ...                2   \n",
       "4                           0                        0  ...                0   \n",
       "\n",
       "   B_win_by_Submission  B_win_by_TKO_Doctor_Stoppage  B_wins  B_Stance  \\\n",
       "0                    1                             0       4  Orthodox   \n",
       "1                    0                             1       4  Orthodox   \n",
       "2                    6                             0      23  Orthodox   \n",
       "3                    0                             0       4    Switch   \n",
       "4                    0                             0       1  Southpaw   \n",
       "\n",
       "  B_Height_cms  B_UFC_fights  B_age  B_Reach_cms  B_Weight_lbs  \n",
       "0       167.64             5   31.0       170.18         135.0  \n",
       "1       167.64            10   32.0       167.64         125.0  \n",
       "2       185.42            31   36.0       185.42         155.0  \n",
       "3       170.18             4   26.0       170.18         135.0  \n",
       "4       180.34             2   32.0       185.42         250.0  \n",
       "\n",
       "[5 rows x 21 columns]"
      ]
     },
     "execution_count": 13,
     "metadata": {},
     "output_type": "execute_result"
    }
   ],
   "source": [
    "ufc_B.head()"
   ]
  },
  {
   "cell_type": "markdown",
   "metadata": {},
   "source": [
    "### 2.12 General features."
   ]
  },
  {
   "cell_type": "markdown",
   "metadata": {},
   "source": [
    "#### 2.12.1 Odds."
   ]
  },
  {
   "cell_type": "code",
   "execution_count": 14,
   "metadata": {},
   "outputs": [
    {
     "data": {
      "text/plain": [
       "(array([[1.976e+03, 5.350e+02, 1.300e+02, 4.000e+01, 1.300e+01, 3.000e+00,\n",
       "         0.000e+00, 0.000e+00, 0.000e+00, 0.000e+00],\n",
       "        [1.241e+03, 8.100e+02, 3.810e+02, 1.550e+02, 6.300e+01, 2.500e+01,\n",
       "         1.500e+01, 3.000e+00, 1.000e+00, 3.000e+00]]),\n",
       " array([ 1.05882353,  2.20294118,  3.34705882,  4.49117647,  5.63529412,\n",
       "         6.77941176,  7.92352941,  9.06764706, 10.21176471, 11.35588235,\n",
       "        12.5       ]),\n",
       " <a list of 2 BarContainer objects>)"
      ]
     },
     "execution_count": 14,
     "metadata": {},
     "output_type": "execute_result"
    },
    {
     "data": {
      "image/png": "[encoded data removed]",
      "text/plain": [
       "<Figure size 432x288 with 1 Axes>"
      ]
     },
     "metadata": {
      "needs_background": "light"
     },
     "output_type": "display_data"
    }
   ],
   "source": [
    "plt.hist(ufc_gen[['R_odds_dec', 'B_odds_dec']], color = ['Red', 'Blue'])"
   ]
  },
  {
   "cell_type": "markdown",
   "metadata": {},
   "source": [
    "#### 2.12.2 Location."
   ]
  },
  {
   "cell_type": "code",
   "execution_count": 15,
   "metadata": {},
   "outputs": [
    {
     "data": {
      "text/plain": [
       "<AxesSubplot:>"
      ]
     },
     "execution_count": 15,
     "metadata": {},
     "output_type": "execute_result"
    },
    {
     "data": {
      "image/png": "[encoded data removed]",
      "text/plain": [
       "<Figure size 432x288 with 1 Axes>"
      ]
     },
     "metadata": {
      "needs_background": "light"
     },
     "output_type": "display_data"
    }
   ],
   "source": [
    "ufc_gen['location'].value_counts().head(10).plot(kind = 'barh', color = 'Lightgrey')"
   ]
  },
  {
   "cell_type": "markdown",
   "metadata": {},
   "source": [
    "#### *Seems skewed, it's worth considering leaving location out.*"
   ]
  },
  {
   "cell_type": "markdown",
   "metadata": {},
   "source": [
    "#### 2.12.3 Winner."
   ]
  },
  {
   "cell_type": "code",
   "execution_count": 16,
   "metadata": {},
   "outputs": [
    {
     "name": "stderr",
     "output_type": "stream",
     "text": [
      "D:\\Programmes\\conda\\lib\\site-packages\\seaborn\\_decorators.py:36: FutureWarning: Pass the following variable as a keyword arg: x. From version 0.12, the only valid positional argument will be `data`, and passing other arguments without an explicit keyword will result in an error or misinterpretation.\n",
      "  warnings.warn(\n"
     ]
    },
    {
     "data": {
      "image/png": "[encoded data removed]",
      "text/plain": [
       "<Figure size 432x288 with 1 Axes>"
      ]
     },
     "metadata": {
      "needs_background": "light"
     },
     "output_type": "display_data"
    }
   ],
   "source": [
    "ax = sns.countplot(ufc_gen['Winner'], palette = ['Red', 'Blue', 'Lightgrey'])\n",
    "\n",
    "for rect in ax.patches:\n",
    "    ax.text (rect.get_x() + rect.get_width()  / 2,rect.get_height()+ 0.75,rect.get_height(), ha = 'center', va = 'baseline', color = 'black', size = 12\n",
    "            )"
   ]
  },
  {
   "cell_type": "code",
   "execution_count": 17,
   "metadata": {},
   "outputs": [
    {
     "data": {
      "text/plain": [
       "<AxesSubplot:ylabel='Winner'>"
      ]
     },
     "execution_count": 17,
     "metadata": {},
     "output_type": "execute_result"
    },
    {
     "data": {
      "image/png": "[encoded data removed]",
      "text/plain": [
       "<Figure size 504x504 with 1 Axes>"
      ]
     },
     "metadata": {},
     "output_type": "display_data"
    }
   ],
   "source": [
    "ufc_gen['Winner'].value_counts().plot.pie(colors = ['Red', 'Blue', 'Lightgrey'], labels=['Red won', 'Blue won', 'Draw'], autopct='%.2f', figsize = (7,7))"
   ]
  },
  {
   "cell_type": "markdown",
   "metadata": {},
   "source": [
    "#### 2.12.4 Weight class."
   ]
  },
  {
   "cell_type": "code",
   "execution_count": 18,
   "metadata": {},
   "outputs": [
    {
     "data": {
      "text/plain": [
       "<AxesSubplot:xlabel='weight_class'>"
      ]
     },
     "execution_count": 18,
     "metadata": {},
     "output_type": "execute_result"
    },
    {
     "data": {
      "image/png": "[encoded data removed]",
      "text/plain": [
       "<Figure size 1440x360 with 1 Axes>"
      ]
     },
     "metadata": {
      "needs_background": "light"
     },
     "output_type": "display_data"
    }
   ],
   "source": [
    "# would be nice to divide it to two graphs by gender\n",
    "\n",
    "ufc_gen.groupby('weight_class').mean().plot.bar(figsize=(20,5), color = ['Red', 'Blue', 'Lightgrey', 'Grey', 'Black'])"
   ]
  },
  {
   "cell_type": "markdown",
   "metadata": {},
   "source": [
    "#### *We can see that the features included in this visualization highly depend on what weight class we are talking about, therefore, we should definetely include 'weight_class' in our most important features.*"
   ]
  },
  {
   "cell_type": "markdown",
   "metadata": {},
   "source": [
    "#### 2.12.5 Reach & Age Difference."
   ]
  },
  {
   "cell_type": "markdown",
   "metadata": {},
   "source": [
    "# 3. Data Pre-processing."
   ]
  },
  {
   "cell_type": "markdown",
   "metadata": {},
   "source": [
    "### 4.1 Drop unnecessary columns."
   ]
  },
  {
   "cell_type": "code",
   "execution_count": null,
   "metadata": {},
   "outputs": [],
   "source": [
    "# Drop date too\n",
    "ufc_df = ufc_df.drop(labels = 'date', axis = 1)\n",
    "\n",
    "# As we are going to decide who the winner is based on the stats of the fighters, we don't need their names\n",
    "ufc_df = ufc_df.drop(labels = ['R_fighter', 'B_fighter'], axis = 1)\n",
    "\n",
    "\n",
    "# After creating the 2 columns for EU-odds, we don't need the US ones\n",
    "ufc_df = ufc_df.drop(labels = ['R_odds_moneyline', 'B_odds_moneyline'], axis = 1)"
   ]
  },
  {
   "cell_type": "markdown",
   "metadata": {},
   "source": [
    "### 4.2 Deal with nominal features."
   ]
  },
  {
   "cell_type": "code",
   "execution_count": null,
   "metadata": {},
   "outputs": [],
   "source": [
    "# one hot encoding\n",
    "onehot_columns = ['location', 'country', 'weight_class', 'gender', 'R_Stance', 'B_Stance']\n",
    "\n",
    "ufc_ohe = pd.get_dummies(ufc_df, columns = onehot_columns, drop_first=True)\n",
    "ufc_ohe.head()"
   ]
  },
  {
   "cell_type": "markdown",
   "metadata": {},
   "source": [
    "### 4.3 Set data (X) and target (y)."
   ]
  },
  {
   "cell_type": "code",
   "execution_count": null,
   "metadata": {},
   "outputs": [],
   "source": [
    "X = ufc_ohe.loc[:, ufc_ohe.columns != 'Winner']\n",
    "y = ufc_ohe['Winner']\n",
    "\n",
    "print('X shape:', X.shape)\n",
    "print('y shape:', y.shape)"
   ]
  },
  {
   "cell_type": "markdown",
   "metadata": {},
   "source": [
    "### 4.4 Get train and test sets."
   ]
  },
  {
   "cell_type": "code",
   "execution_count": null,
   "metadata": {},
   "outputs": [],
   "source": [
    "X_train, X_test, y_train, y_test = train_test_split(X, y, random_state=0)"
   ]
  },
  {
   "cell_type": "markdown",
   "metadata": {},
   "source": [
    "### 4.5 Deal with numerical features."
   ]
  },
  {
   "cell_type": "code",
   "execution_count": null,
   "metadata": {},
   "outputs": [],
   "source": [
    "scale_columns = ['R_odds_decimal', 'B_odds_decimal', 'R_ev', 'B_ev', 'no_of_rounds', 'B_current_lose_streak', 'B_current_win_streak', \n",
    "                'B_draw', 'B_avg_SIG_STR_landed', 'B_avg_SIG_STR_pct', 'B_avg_SUB_ATT', 'B_avg_TD_landed', 'B_avg_TD_pct', \n",
    "                'B_longest_win_streak', 'B_losses', 'B_total_rounds_fought', 'B_total_title_bouts', 'B_win_by_Decision_Majority',\n",
    "               'B_win_by_Decision_Split', 'B_win_by_Decision_Unanimous', 'B_win_by_KO/TKO', 'B_win_by_Submission',\n",
    "                'B_win_by_TKO_Doctor_Stoppage', 'B_wins', 'B_Height_cms', 'B_Reach_cms', 'B_Weight_lbs', 'R_current_win_streak', \n",
    "                'R_draw', 'R_avg_SIG_STR_landed', 'R_avg_SIG_STR_pct', 'R_avg_SUB_ATT', 'R_avg_TD_landed', 'R_avg_TD_pct', \n",
    "                'R_longest_win_streak', 'R_losses', 'R_total_rounds_fought', 'R_total_title_bouts', 'R_win_by_Decision_Majority',\n",
    "               'R_win_by_Decision_Split', 'R_win_by_Decision_Unanimous', 'R_win_by_KO/TKO', 'R_win_by_Submission',\n",
    "                'R_win_by_TKO_Doctor_Stoppage', 'R_wins', 'R_Height_cms', 'R_Reach_cms', 'R_Weight_lbs', 'R_age', 'B_age',\n",
    "                'lose_streak_dif', 'win_streak_dif', 'longest_win_streak_dif', 'win_dif', 'loss_dif', 'total_round_dif',\n",
    "               'total_title_bout_dif', 'ko_dif', 'sub_dif', 'height_dif', 'reach_dif', 'age_dif', 'sig_str_dif', 'avg_sub_att_dif',\n",
    "               'avg_td_dif']\n",
    "\n",
    "scaler = MinMaxScaler()\n",
    "\n",
    "X_train[scale_columns] = scaler.fit_transform(X_train[scale_columns])\n",
    "\n",
    "X_test[scale_columns] = scaler.transform(X_test[scale_columns])\n",
    "\n",
    "warnings.filterwarnings(\"ignore\")"
   ]
  },
  {
   "cell_type": "markdown",
   "metadata": {},
   "source": [
    "### 4.6 Show correlations on a heatmap."
   ]
  },
  {
   "cell_type": "code",
   "execution_count": null,
   "metadata": {},
   "outputs": [],
   "source": [
    "# correlation heatmap\n",
    "numerical_features_with_target = ['Winner'] + scale_columns\n",
    "corr = ufc_ohe[numerical_features_with_target].corr(method='pearson')\n",
    "\n",
    "f, ax = plt.subplots(figsize=(16, 12))\n",
    "sns.heatmap(corr, square= True)"
   ]
  },
  {
   "cell_type": "markdown",
   "metadata": {},
   "source": [
    "### 4.7 Select the 20 most influential features."
   ]
  },
  {
   "cell_type": "code",
   "execution_count": null,
   "metadata": {},
   "outputs": [],
   "source": [
    "# selecting best features\n",
    "print(X.shape)\n",
    "\n",
    "k_best = SelectKBest(k = 20)\n",
    "k_best.fit(X_train, y_train)\n",
    "X_train_k_best = k_best.transform(X_train)\n",
    "X_test_k_best = k_best.transform(X_test)\n",
    "\n",
    "print(X_train_k_best.shape)\n",
    "print(X.columns[k_best.get_support()])\n",
    "\n",
    "best_features = X.columns[k_best.get_support()]\n",
    "\n",
    "warnings.filterwarnings(\"ignore\")"
   ]
  },
  {
   "cell_type": "markdown",
   "metadata": {},
   "source": [
    "### 4.8 Set X but only with the best features."
   ]
  },
  {
   "cell_type": "code",
   "execution_count": null,
   "metadata": {},
   "outputs": [],
   "source": [
    "X = ufc_ohe[best_features]\n",
    "y = ufc_ohe['Winner']\n",
    "\n",
    "print('X shape:', X.shape)\n",
    "print('y shape:', y.shape)"
   ]
  },
  {
   "cell_type": "markdown",
   "metadata": {},
   "source": [
    "# 5. Machine Learning Models."
   ]
  },
  {
   "cell_type": "markdown",
   "metadata": {},
   "source": [
    "### 5.1 Build models."
   ]
  },
  {
   "cell_type": "code",
   "execution_count": null,
   "metadata": {},
   "outputs": [],
   "source": [
    "# knn\n",
    "knn = KNeighborsClassifier()\n",
    "\n",
    "# neural network\n",
    "mpl = MLPClassifier()\n",
    "\n",
    "# decision tree\n",
    "tree = DecisionTreeClassifier()\n",
    "\n",
    "# random forest\n",
    "forest = RandomForestClassifier()\n",
    "\n",
    "classifiers = (knn, mpl, tree, forest)"
   ]
  },
  {
   "cell_type": "markdown",
   "metadata": {},
   "source": [
    "### 5.2 Build the 'applyModel' function."
   ]
  },
  {
   "cell_type": "code",
   "execution_count": null,
   "metadata": {},
   "outputs": [],
   "source": [
    "def applyModel(model,name,X_train, y_train, X_test, y_test):\n",
    "    m = model.fit(X_train,y_train)\n",
    "    print(name, '- Training accuracy:', m.score(X_train, y_train))\n",
    "    print(name, '- Testing accuracy:', m.score(X_test, y_test))"
   ]
  },
  {
   "cell_type": "markdown",
   "metadata": {},
   "source": [
    "### 5.3 Train and test with the different models."
   ]
  },
  {
   "cell_type": "code",
   "execution_count": null,
   "metadata": {},
   "outputs": [],
   "source": [
    "for c in classifiers:\n",
    "    n = str(c)\n",
    "    applyModel(c, n, X_train, y_train, X_test, y_test)\n",
    "    print('')\n",
    "    \n",
    "warnings.filterwarnings(\"ignore\")"
   ]
  },
  {
   "cell_type": "markdown",
   "metadata": {},
   "source": [
    "### 5.4 Play around with KNN."
   ]
  },
  {
   "cell_type": "code",
   "execution_count": null,
   "metadata": {},
   "outputs": [],
   "source": [
    "training_accuracy = []\n",
    "testing_accuracy = []\n",
    "number_of_neighbors =[]\n",
    "weighting_choice = []\n",
    "\n",
    "weight_values = ['distance', 'uniform']\n",
    "\n",
    "for n_neighbors in range(1,100):\n",
    "    for weights in weight_values:\n",
    "        clf = KNeighborsClassifier(n_neighbors = n_neighbors, weights = weights)\n",
    "        clf.fit(X_train, y_train)\n",
    "        training_accuracy.append(clf.score(X_train, y_train))\n",
    "        testing_accuracy.append(clf.score(X_test, y_test))\n",
    "        number_of_neighbors.append(n_neighbors)\n",
    "        weighting_choice.append(weights)\n",
    "      \n",
    "     \n",
    "combinations_sorted_knn = sorted(list(zip(number_of_neighbors, weighting_choice, training_accuracy, testing_accuracy)), key = lambda e:e[3], reverse = True)\n",
    "\n",
    "print('Top 5 results, sorted by test accuracy:\\n')\n",
    "print(*combinations_sorted_knn[0:5], sep = \"\\n\")\n",
    "\n",
    "# save the best variables\n",
    "knn_best_n_neighbors = combinations_sorted_knn[0][0]\n",
    "knn_best_weights = combinations_sorted_knn[0][1]"
   ]
  },
  {
   "cell_type": "markdown",
   "metadata": {},
   "source": [
    "#### 5.4.1 KNN - Cross validation"
   ]
  },
  {
   "cell_type": "code",
   "execution_count": null,
   "metadata": {},
   "outputs": [],
   "source": [
    "#We define the parameters which want to test for the KNN model\n",
    "param_grid = {\n",
    "    \"n_neighbors\": [32,54,74,100], \"weights\": [\"uniform\", \"distance\"], \"metric\": [\"euclidean\", \"manhatten\"], \"leaf_size\": [10,30,60]\n",
    "}\n",
    "\n",
    "#We make the model with cross validation and grid search\n",
    "grid_search = GridSearchCV(KNeighborsClassifier(), param_grid, cv=10)\n",
    "\n",
    "#We fit the model, with the best parameters: \n",
    "gs_result = grid_search.fit(X_train, y_train)\n",
    "\n",
    "#print the results: \n",
    "\n",
    "print(\n",
    "    \"\\n Training score: \", gs_result.best_score_, \n",
    "    \"\\n Best estimator: \", gs_result.best_estimator_\n",
    "    # ,\"\\n best parameters: \", gs_result.best_params_\n",
    ")\n",
    "\n",
    "print(\"Test score: \", grid_search.score(X_test,y_test))\n"
   ]
  },
  {
   "cell_type": "markdown",
   "metadata": {},
   "source": [
    "### 5.5 Play around with Neural Network."
   ]
  },
  {
   "cell_type": "code",
   "execution_count": null,
   "metadata": {},
   "outputs": [],
   "source": [
    "train_acc = []\n",
    "test_acc = []\n",
    "alpha_value = []\n",
    "learning_rate_value = []\n",
    "\n",
    "\n",
    "alphas = (0.0001, 0.001, 0.1, 0, 1, 5, 100)\n",
    "learning_rates = ('constant', 'invscaling', 'adaptive')\n",
    "\n",
    "for a in alphas:\n",
    "    for l in learning_rates:\n",
    "        mpl = MLPClassifier(alpha=a, learning_rate = l)\n",
    "        mpl.fit(X_train, y_train)\n",
    "        train_acc.append(accuracy_score(mpl.predict(X_train), y_train))\n",
    "        test_acc.append(accuracy_score(mpl.predict(X_test), y_test))\n",
    "        alpha_value.append(a)\n",
    "        learning_rate_value.append(l)\n",
    "        \n",
    "\n",
    "combinations_sorted_mpl = sorted(list(zip(alpha_value, learning_rate_value, train_acc, test_acc)), key = lambda e:e[3], reverse = True)\n",
    "\n",
    "print('Top 5 results, sorted by test accuracy:\\n')\n",
    "print(*combinations_sorted_mpl[0:5], sep = \"\\n\")\n",
    "\n",
    "# save the best variables\n",
    "mpl_best_alpha = combinations_sorted_knn[0][0]\n",
    "mpl_best_learning_rate = combinations_sorted_knn[0][1]"
   ]
  },
  {
   "cell_type": "markdown",
   "metadata": {},
   "source": [
    "#### Neural Network - Cross validation"
   ]
  },
  {
   "cell_type": "code",
   "execution_count": null,
   "metadata": {},
   "outputs": [],
   "source": [
    "#We define the parameters which want to test for the decision tree model\n",
    "param_grid = {\"learning_rate\":[\"constant\", \"invscaling\", \"adaptive\"], \"alpha\":[0.01,0.01,1,5,10,15]}\n",
    "\n",
    "#We make the model with cross validation and grid search\n",
    "grid_search = GridSearchCV(MLPClassifier(), param_grid, cv=10)\n",
    "\n",
    "#We fit the model, with the best parameters: \n",
    "gs_result = grid_search.fit(X_train, y_train)\n",
    "\n",
    "#print the results: \n",
    "\n",
    "print(\n",
    "    \"\\n Training score: \", gs_result.best_score_, \n",
    "    \"\\n Best estimator: \", gs_result.best_estimator_,\n",
    "    \"\\n best parameters: \", gs_result.best_params_,\n",
    "    \"Test score: \", grid_search.score(X_test,y_test)\n",
    ")"
   ]
  },
  {
   "cell_type": "markdown",
   "metadata": {},
   "source": [
    "### 5.6 Play around with Decision Tree."
   ]
  },
  {
   "cell_type": "code",
   "execution_count": null,
   "metadata": {},
   "outputs": [],
   "source": [
    "train_acc = []\n",
    "test_acc = []\n",
    "max_depth_value = []\n",
    "\n",
    "for i in range(1,30):\n",
    "    dt = DecisionTreeClassifier(max_depth = i, random_state=0)\n",
    "    dt.fit(X_train, y_train)\n",
    "    train_acc.append(accuracy_score(dt.predict(X_train), y_train))\n",
    "    test_acc.append(accuracy_score(dt.predict(X_test), y_test))\n",
    "    max_depth_value.append(i)\n",
    "\n",
    "combinations_sorted_tree = sorted(list(zip(max_depth_value, train_acc, test_acc)), key = lambda e:e[2], reverse = True)\n",
    "\n",
    "print('Top 5 results, sorted by test accuracy:\\n   (Values: depth, training accracy, test accuracy)\\n')\n",
    "print(*combinations_sorted_tree[0:5], sep = \"\\n\")\n",
    "\n",
    "# save the best variable\n",
    "tree_best_max_depth = combinations_sorted_tree[0][0]"
   ]
  },
  {
   "cell_type": "markdown",
   "metadata": {},
   "source": [
    "##### 5.6.1 Decision Tree - Cross validation"
   ]
  },
  {
   "cell_type": "code",
   "execution_count": null,
   "metadata": {},
   "outputs": [],
   "source": [
    "#We define the parameters which want to test for the decision tree model\n",
    "param_grid = {'criterion':['gini','entropy'],'max_depth':[1,2,3,4,5,6,7,8,9,10,12,15,20]}\n",
    "\n",
    "#We make the model with cross validation and grid search\n",
    "grid_search = GridSearchCV(DecisionTreeClassifier(), param_grid, cv=10)\n",
    "\n",
    "#We fit the model, with the best parameters: \n",
    "gs_result = grid_search.fit(X_train, y_train)\n",
    "\n",
    "#print the results: \n",
    "\n",
    "print(\n",
    "    \"\\n Training score: \", gs_result.best_score_, \n",
    "    \"\\n Best estimator: \", gs_result.best_estimator_,\n",
    "    \"\\n best parameters: \", gs_result.best_params_,\n",
    "    \"Test score: \", grid_search.score(X_test,y_test)\n",
    ")"
   ]
  },
  {
   "cell_type": "markdown",
   "metadata": {},
   "source": [
    "### 5.7 Play around with Random Forest."
   ]
  },
  {
   "cell_type": "code",
   "execution_count": null,
   "metadata": {},
   "outputs": [],
   "source": [
    "train_acc = []\n",
    "test_acc = []\n",
    "max_depth_value = []\n",
    "criterion_value = []\n",
    "max_features_value = []\n",
    "\n",
    "criterions = ('gini', 'entropy')\n",
    "number_of_features = range(1,6)\n",
    "\n",
    "for i in range(1,9):\n",
    "    for c in criterions:\n",
    "        for f in number_of_features:\n",
    "                rf = RandomForestClassifier(criterion = c, max_depth = i, max_features = f, random_state=0)\n",
    "                rf.fit(X_train, y_train)\n",
    "                train_acc.append(accuracy_score(rf.predict(X_train), y_train))\n",
    "                test_acc.append(accuracy_score(rf.predict(X_test), y_test))\n",
    "                max_depth_value.append(i)\n",
    "                criterion_value.append(c)\n",
    "                max_features_value.append(f)\n",
    "\n",
    "combinations_sorted_forest = sorted(list(zip(max_features_value, criterion_value, max_depth_value, train_acc, test_acc)), key = lambda e:e[3], reverse = True)\n",
    "\n",
    "print('Top 5 results, sorted by test accuracy:\\n   (Values: depth, training accracy, test accuracy)\\n')\n",
    "print(*combinations_sorted_forest[0:5], sep = \"\\n\")\n",
    "\n",
    "# save the best variable\n"
   ]
  },
  {
   "cell_type": "markdown",
   "metadata": {},
   "source": [
    "#### Random forest - Cross validation "
   ]
  },
  {
   "cell_type": "code",
   "execution_count": null,
   "metadata": {},
   "outputs": [],
   "source": [
    "#We define the parameters which want to test for the decision tree model\n",
    "param_grid = {\n",
    "    \"max_features\":[2,4,6,8,10,12,20,40], 'max_depth':[1,2,3,4,5,6,7,8,9,10,12,15,20], \"criterion\":['gini', 'entropy']\n",
    "             }\n",
    "\n",
    "#We make the model with cross validation and grid search\n",
    "grid_search = GridSearchCV(RandomForestClassifier(), param_grid, cv=10)\n",
    "\n",
    "#We fit the model, with the best parameters: \n",
    "gs_result = grid_search.fit(X_train, y_train)\n",
    "\n",
    "#print the results: \n",
    "\n",
    "print(\n",
    "    \"\\n Training score: \", gs_result.best_score_, \n",
    "    \"\\n Best estimator: \", gs_result.best_estimator_,\n",
    "    \"\\n best parameters: \", gs_result.best_params_,\n",
    "    \"Test score: \", grid_search.score(X_test,y_test)\n",
    ")"
   ]
  },
  {
   "cell_type": "markdown",
   "metadata": {},
   "source": [
    "### 5.8 Look at the best combinations with each model."
   ]
  },
  {
   "cell_type": "code",
   "execution_count": null,
   "metadata": {},
   "outputs": [],
   "source": [
    "print('KNN:', combinations_sorted_knn[0])\n",
    "print('Neural Network:', combinations_sorted_mpl[0])\n",
    "print('Decision Tree:', combinations_sorted_tree[0])\n",
    "print('Random Forest:', combinations_sorted_forest[0])\n",
    "\n",
    "# for now, the KNN model has the highest test accuracy"
   ]
  },
  {
   "cell_type": "markdown",
   "metadata": {},
   "source": [
    "# 6. Making a prediction."
   ]
  },
  {
   "cell_type": "markdown",
   "metadata": {},
   "source": [
    "### 6.1 Getting a prediction set."
   ]
  },
  {
   "cell_type": "code",
   "execution_count": null,
   "metadata": {},
   "outputs": [],
   "source": [
    "# not working right now because all features are used in the training set. that means that the user should enter all ~250 values here, too\n",
    "# once we decide what features are the most influential, we can make this work, too\n",
    "\n",
    "user_inputs = []\n",
    "input_names = ['R_Height_cms', 'B_Height_cms', 'R_Reach_cms', 'B_Reach_cms', 'R_Weight_lbs', 'B_Weight_lbs', 'R_age', 'B_age', 'R_current_win_streak', 'B_current_win_streak', 'R_avg_SIG_STR_landed', 'B_avg_SIG_STR_landed']\n",
    "\n",
    "\n",
    "for i in input_names:\n",
    "    print(i, ':')\n",
    "    user_inputs.append(input())\n",
    "    print('')"
   ]
  }
 ],
 "metadata": {
  "kernelspec": {
   "display_name": "Python 3",
   "language": "python",
   "name": "python3"
  },
  "language_info": {
   "codemirror_mode": {
    "name": "ipython",
    "version": 3
   },
   "file_extension": ".py",
   "mimetype": "text/x-python",
   "name": "python",
   "nbconvert_exporter": "python",
   "pygments_lexer": "ipython3",
   "version": "3.8.5"
  }
 },
 "nbformat": 4,
 "nbformat_minor": 4
}
