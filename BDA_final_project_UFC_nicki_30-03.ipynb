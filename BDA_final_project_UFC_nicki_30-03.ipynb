{
 "cells": [
  {
   "cell_type": "markdown",
   "metadata": {
    "id": "P285uz9yHwJz"
   },
   "source": [
    "## Import"
   ]
  },
  {
   "cell_type": "code",
   "execution_count": 1,
   "metadata": {
    "id": "4j_CwgWfHwJ6"
   },
   "outputs": [],
   "source": [
    "# libraries\n",
    "\n",
    "import pandas as pd\n",
    "import numpy as np\n",
    "\n",
    "# models\n",
    "\n",
    "from sklearn.neighbors import KNeighborsClassifier\n",
    "from sklearn.neural_network import MLPClassifier\n",
    "from sklearn.tree import DecisionTreeClassifier\n",
    "from sklearn.ensemble import RandomForestClassifier\n",
    "\n",
    "from sklearn.svm import LinearSVC\n",
    "from sklearn.linear_model import Lasso\n",
    "from sklearn.feature_extraction.text import CountVectorizer\n",
    "from sklearn.decomposition import PCA\n",
    "from sklearn.manifold import TSNE\n",
    "\n",
    "#XG boost\n",
    "from sklearn import datasets\n",
    "import xgboost as xgb\n",
    "\n",
    "# other tools\n",
    "\n",
    "from sklearn.model_selection import train_test_split\n",
    "from sklearn.metrics import accuracy_score\n",
    "from sklearn.preprocessing import StandardScaler  \n",
    "\n",
    "import warnings\n",
    "\n",
    "# visualization\n",
    "import seaborn as sns\n",
    "import matplotlib.pyplot as plt"
   ]
  },
  {
   "cell_type": "markdown",
   "metadata": {
    "id": "foI6yhy2HwJ9"
   },
   "source": [
    "## Load excel file (ufc.xlsx) and print out the first couple rows"
   ]
  },
  {
   "cell_type": "code",
   "execution_count": 2,
   "metadata": {
    "colab": {
     "base_uri": "https://localhost:8080/",
     "height": 467
    },
    "id": "QOmbbzKiHwJ-",
    "outputId": "32ae8f40-1993-4526-b615-9d07cfdea44d"
   },
   "outputs": [
    {
     "data": {
      "text/html": [
       "<div>\n",
       "<style scoped>\n",
       "    .dataframe tbody tr th:only-of-type {\n",
       "        vertical-align: middle;\n",
       "    }\n",
       "\n",
       "    .dataframe tbody tr th {\n",
       "        vertical-align: top;\n",
       "    }\n",
       "\n",
       "    .dataframe thead th {\n",
       "        text-align: right;\n",
       "    }\n",
       "</style>\n",
       "<table border=\"1\" class=\"dataframe\">\n",
       "  <thead>\n",
       "    <tr style=\"text-align: right;\">\n",
       "      <th></th>\n",
       "      <th>R_fighter</th>\n",
       "      <th>B_fighter</th>\n",
       "      <th>R_odds</th>\n",
       "      <th>B_odds</th>\n",
       "      <th>R_ev</th>\n",
       "      <th>B_ev</th>\n",
       "      <th>date</th>\n",
       "      <th>location</th>\n",
       "      <th>country</th>\n",
       "      <th>Winner</th>\n",
       "      <th>...</th>\n",
       "      <th>ko_dif</th>\n",
       "      <th>sub_dif</th>\n",
       "      <th>height_dif</th>\n",
       "      <th>reach_dif</th>\n",
       "      <th>age_dif</th>\n",
       "      <th>sig_str_dif</th>\n",
       "      <th>avg_sub_att_dif</th>\n",
       "      <th>avg_td_dif</th>\n",
       "      <th>empty_arena</th>\n",
       "      <th>constant_1</th>\n",
       "    </tr>\n",
       "  </thead>\n",
       "  <tbody>\n",
       "    <tr>\n",
       "      <th>0</th>\n",
       "      <td>Jessica Eye</td>\n",
       "      <td>Cynthia Calvillo</td>\n",
       "      <td>120</td>\n",
       "      <td>-130</td>\n",
       "      <td>120.000000</td>\n",
       "      <td>76.923077</td>\n",
       "      <td>2020-06-13</td>\n",
       "      <td>Las Vegas, Nevada, USA</td>\n",
       "      <td>USA</td>\n",
       "      <td>Blue</td>\n",
       "      <td>...</td>\n",
       "      <td>-1</td>\n",
       "      <td>3</td>\n",
       "      <td>-5.08</td>\n",
       "      <td>-5.08</td>\n",
       "      <td>-1</td>\n",
       "      <td>0.33</td>\n",
       "      <td>0.9</td>\n",
       "      <td>1.37</td>\n",
       "      <td>1</td>\n",
       "      <td>1</td>\n",
       "    </tr>\n",
       "    <tr>\n",
       "      <th>1</th>\n",
       "      <td>Karl Roberson</td>\n",
       "      <td>Marvin Vettori</td>\n",
       "      <td>210</td>\n",
       "      <td>-230</td>\n",
       "      <td>210.000000</td>\n",
       "      <td>43.478261</td>\n",
       "      <td>2020-06-13</td>\n",
       "      <td>Las Vegas, Nevada, USA</td>\n",
       "      <td>USA</td>\n",
       "      <td>Blue</td>\n",
       "      <td>...</td>\n",
       "      <td>0</td>\n",
       "      <td>-1</td>\n",
       "      <td>-2.54</td>\n",
       "      <td>0.00</td>\n",
       "      <td>-3</td>\n",
       "      <td>0.89</td>\n",
       "      <td>-0.2</td>\n",
       "      <td>0.36</td>\n",
       "      <td>1</td>\n",
       "      <td>1</td>\n",
       "    </tr>\n",
       "    <tr>\n",
       "      <th>2</th>\n",
       "      <td>Charles Rosa</td>\n",
       "      <td>Kevin Aguilar</td>\n",
       "      <td>170</td>\n",
       "      <td>-185</td>\n",
       "      <td>170.000000</td>\n",
       "      <td>54.054054</td>\n",
       "      <td>2020-06-13</td>\n",
       "      <td>Las Vegas, Nevada, USA</td>\n",
       "      <td>USA</td>\n",
       "      <td>Red</td>\n",
       "      <td>...</td>\n",
       "      <td>0</td>\n",
       "      <td>-2</td>\n",
       "      <td>-5.08</td>\n",
       "      <td>10.16</td>\n",
       "      <td>-2</td>\n",
       "      <td>0.52</td>\n",
       "      <td>-1.0</td>\n",
       "      <td>-2.11</td>\n",
       "      <td>1</td>\n",
       "      <td>1</td>\n",
       "    </tr>\n",
       "    <tr>\n",
       "      <th>3</th>\n",
       "      <td>Andre Fili</td>\n",
       "      <td>Charles Jourdain</td>\n",
       "      <td>-220</td>\n",
       "      <td>200</td>\n",
       "      <td>45.454545</td>\n",
       "      <td>200.000000</td>\n",
       "      <td>2020-06-13</td>\n",
       "      <td>Las Vegas, Nevada, USA</td>\n",
       "      <td>USA</td>\n",
       "      <td>Red</td>\n",
       "      <td>...</td>\n",
       "      <td>-2</td>\n",
       "      <td>0</td>\n",
       "      <td>-5.08</td>\n",
       "      <td>-12.70</td>\n",
       "      <td>-5</td>\n",
       "      <td>0.85</td>\n",
       "      <td>-0.2</td>\n",
       "      <td>-2.49</td>\n",
       "      <td>1</td>\n",
       "      <td>1</td>\n",
       "    </tr>\n",
       "    <tr>\n",
       "      <th>4</th>\n",
       "      <td>Jordan Espinosa</td>\n",
       "      <td>Mark De La Rosa</td>\n",
       "      <td>-167</td>\n",
       "      <td>157</td>\n",
       "      <td>59.880240</td>\n",
       "      <td>157.000000</td>\n",
       "      <td>2020-06-13</td>\n",
       "      <td>Las Vegas, Nevada, USA</td>\n",
       "      <td>USA</td>\n",
       "      <td>Red</td>\n",
       "      <td>...</td>\n",
       "      <td>0</td>\n",
       "      <td>1</td>\n",
       "      <td>0.00</td>\n",
       "      <td>-10.16</td>\n",
       "      <td>-5</td>\n",
       "      <td>-0.97</td>\n",
       "      <td>-0.2</td>\n",
       "      <td>-0.19</td>\n",
       "      <td>1</td>\n",
       "      <td>1</td>\n",
       "    </tr>\n",
       "  </tbody>\n",
       "</table>\n",
       "<p>5 rows × 79 columns</p>\n",
       "</div>"
      ],
      "text/plain": [
       "         R_fighter         B_fighter  R_odds  B_odds        R_ev        B_ev  \\\n",
       "0      Jessica Eye  Cynthia Calvillo     120    -130  120.000000   76.923077   \n",
       "1    Karl Roberson    Marvin Vettori     210    -230  210.000000   43.478261   \n",
       "2     Charles Rosa     Kevin Aguilar     170    -185  170.000000   54.054054   \n",
       "3       Andre Fili  Charles Jourdain    -220     200   45.454545  200.000000   \n",
       "4  Jordan Espinosa   Mark De La Rosa    -167     157   59.880240  157.000000   \n",
       "\n",
       "        date                location country Winner  ...  ko_dif sub_dif  \\\n",
       "0 2020-06-13  Las Vegas, Nevada, USA     USA   Blue  ...      -1       3   \n",
       "1 2020-06-13  Las Vegas, Nevada, USA     USA   Blue  ...       0      -1   \n",
       "2 2020-06-13  Las Vegas, Nevada, USA     USA    Red  ...       0      -2   \n",
       "3 2020-06-13  Las Vegas, Nevada, USA     USA    Red  ...      -2       0   \n",
       "4 2020-06-13  Las Vegas, Nevada, USA     USA    Red  ...       0       1   \n",
       "\n",
       "  height_dif  reach_dif  age_dif  sig_str_dif  avg_sub_att_dif  avg_td_dif  \\\n",
       "0      -5.08      -5.08       -1         0.33              0.9        1.37   \n",
       "1      -2.54       0.00       -3         0.89             -0.2        0.36   \n",
       "2      -5.08      10.16       -2         0.52             -1.0       -2.11   \n",
       "3      -5.08     -12.70       -5         0.85             -0.2       -2.49   \n",
       "4       0.00     -10.16       -5        -0.97             -0.2       -0.19   \n",
       "\n",
       "   empty_arena  constant_1  \n",
       "0            1           1  \n",
       "1            1           1  \n",
       "2            1           1  \n",
       "3            1           1  \n",
       "4            1           1  \n",
       "\n",
       "[5 rows x 79 columns]"
      ]
     },
     "execution_count": 2,
     "metadata": {},
     "output_type": "execute_result"
    }
   ],
   "source": [
    "ufc = pd.read_excel('ufc-master.xlsx')\n",
    "ufc.head(5)"
   ]
  },
  {
   "cell_type": "markdown",
   "metadata": {
    "id": "wI361Ix0HwKD"
   },
   "source": [
    "## Get number of rows and columns"
   ]
  },
  {
   "cell_type": "code",
   "execution_count": 3,
   "metadata": {
    "colab": {
     "base_uri": "https://localhost:8080/"
    },
    "id": "3RDyONPeHwKE",
    "outputId": "1a825bda-e64d-4e65-adcf-c13de70a802b"
   },
   "outputs": [
    {
     "name": "stdout",
     "output_type": "stream",
     "text": [
      "Number of rows: 4304\n",
      "Number of columns: 79\n"
     ]
    }
   ],
   "source": [
    "print('Number of rows:', ufc.shape[0])\n",
    "print('Number of columns:', ufc.shape[1])"
   ]
  },
  {
   "cell_type": "markdown",
   "metadata": {
    "id": "Vw2O2H_yHwKF"
   },
   "source": [
    "## Check for missing data"
   ]
  },
  {
   "cell_type": "code",
   "execution_count": 4,
   "metadata": {
    "colab": {
     "base_uri": "https://localhost:8080/"
    },
    "id": "li-5XxuOHwKG",
    "outputId": "8df0996c-e996-4365-bd68-73feca0bacbb"
   },
   "outputs": [
    {
     "name": "stdout",
     "output_type": "stream",
     "text": [
      "<class 'pandas.core.frame.DataFrame'>\n",
      "RangeIndex: 4304 entries, 0 to 4303\n",
      "Data columns (total 79 columns):\n",
      " #   Column                        Non-Null Count  Dtype         \n",
      "---  ------                        --------------  -----         \n",
      " 0   R_fighter                     4304 non-null   object        \n",
      " 1   B_fighter                     4304 non-null   object        \n",
      " 2   R_odds                        4304 non-null   int64         \n",
      " 3   B_odds                        4304 non-null   int64         \n",
      " 4   R_ev                          4304 non-null   float64       \n",
      " 5   B_ev                          4304 non-null   float64       \n",
      " 6   date                          4304 non-null   datetime64[ns]\n",
      " 7   location                      4304 non-null   object        \n",
      " 8   country                       4304 non-null   object        \n",
      " 9   Winner                        4304 non-null   object        \n",
      " 10  title_bout                    4304 non-null   bool          \n",
      " 11  weight_class                  4304 non-null   object        \n",
      " 12  gender                        4304 non-null   object        \n",
      " 13  no_of_rounds                  4304 non-null   int64         \n",
      " 14  B_current_lose_streak         4304 non-null   int64         \n",
      " 15  B_current_win_streak          4304 non-null   int64         \n",
      " 16  B_draw                        4304 non-null   int64         \n",
      " 17  B_avg_SIG_STR_landed          3355 non-null   float64       \n",
      " 18  B_avg_SIG_STR_pct             3523 non-null   float64       \n",
      " 19  B_avg_SUB_ATT                 3456 non-null   float64       \n",
      " 20  B_avg_TD_landed               3455 non-null   float64       \n",
      " 21  B_avg_TD_pct                  3444 non-null   float64       \n",
      " 22  B_longest_win_streak          4304 non-null   int64         \n",
      " 23  B_losses                      4304 non-null   int64         \n",
      " 24  B_total_rounds_fought         4304 non-null   int64         \n",
      " 25  B_total_title_bouts           4304 non-null   int64         \n",
      " 26  B_win_by_Decision_Majority    4304 non-null   int64         \n",
      " 27  B_win_by_Decision_Split       4304 non-null   int64         \n",
      " 28  B_win_by_Decision_Unanimous   4304 non-null   int64         \n",
      " 29  B_win_by_KO/TKO               4304 non-null   int64         \n",
      " 30  B_win_by_Submission           4304 non-null   int64         \n",
      " 31  B_win_by_TKO_Doctor_Stoppage  4304 non-null   int64         \n",
      " 32  B_wins                        4304 non-null   int64         \n",
      " 33  B_Stance                      4304 non-null   object        \n",
      " 34  B_Height_cms                  4304 non-null   float64       \n",
      " 35  B_Reach_cms                   4304 non-null   float64       \n",
      " 36  B_Weight_lbs                  4304 non-null   int64         \n",
      " 37  R_current_lose_streak         4304 non-null   int64         \n",
      " 38  R_current_win_streak          4304 non-null   int64         \n",
      " 39  R_draw                        4304 non-null   int64         \n",
      " 40  R_avg_SIG_STR_landed          3842 non-null   float64       \n",
      " 41  R_avg_SIG_STR_pct             3943 non-null   float64       \n",
      " 42  R_avg_SUB_ATT                 3943 non-null   float64       \n",
      " 43  R_avg_TD_landed               3943 non-null   float64       \n",
      " 44  R_avg_TD_pct                  3931 non-null   float64       \n",
      " 45  R_longest_win_streak          4304 non-null   int64         \n",
      " 46  R_losses                      4304 non-null   int64         \n",
      " 47  R_total_rounds_fought         4304 non-null   int64         \n",
      " 48  R_total_title_bouts           4304 non-null   int64         \n",
      " 49  R_win_by_Decision_Majority    4304 non-null   int64         \n",
      " 50  R_win_by_Decision_Split       4304 non-null   int64         \n",
      " 51  R_win_by_Decision_Unanimous   4304 non-null   int64         \n",
      " 52  R_win_by_KO/TKO               4304 non-null   int64         \n",
      " 53  R_win_by_Submission           4304 non-null   int64         \n",
      " 54  R_win_by_TKO_Doctor_Stoppage  4304 non-null   int64         \n",
      " 55  R_wins                        4304 non-null   int64         \n",
      " 56  R_Stance                      4304 non-null   object        \n",
      " 57  R_Height_cms                  4304 non-null   float64       \n",
      " 58  R_Reach_cms                   4304 non-null   float64       \n",
      " 59  R_Weight_lbs                  4304 non-null   int64         \n",
      " 60  R_age                         4304 non-null   int64         \n",
      " 61  B_age                         4304 non-null   int64         \n",
      " 62  lose_streak_dif               4304 non-null   int64         \n",
      " 63  win_streak_dif                4304 non-null   int64         \n",
      " 64  longest_win_streak_dif        4304 non-null   int64         \n",
      " 65  win_dif                       4304 non-null   int64         \n",
      " 66  loss_dif                      4304 non-null   int64         \n",
      " 67  total_round_dif               4304 non-null   int64         \n",
      " 68  total_title_bout_dif          4304 non-null   int64         \n",
      " 69  ko_dif                        4304 non-null   int64         \n",
      " 70  sub_dif                       4304 non-null   int64         \n",
      " 71  height_dif                    4304 non-null   float64       \n",
      " 72  reach_dif                     4304 non-null   float64       \n",
      " 73  age_dif                       4304 non-null   int64         \n",
      " 74  sig_str_dif                   4304 non-null   float64       \n",
      " 75  avg_sub_att_dif               4304 non-null   float64       \n",
      " 76  avg_td_dif                    4304 non-null   float64       \n",
      " 77  empty_arena                   4304 non-null   int64         \n",
      " 78  constant_1                    4304 non-null   int64         \n",
      "dtypes: bool(1), datetime64[ns](1), float64(21), int64(47), object(9)\n",
      "memory usage: 2.6+ MB\n"
     ]
    }
   ],
   "source": [
    "ufc.info()"
   ]
  },
  {
   "cell_type": "markdown",
   "metadata": {
    "id": "P4D-SMllHwKI"
   },
   "source": [
    "## Check for duplicates"
   ]
  },
  {
   "cell_type": "code",
   "execution_count": 5,
   "metadata": {
    "colab": {
     "base_uri": "https://localhost:8080/",
     "height": 96
    },
    "id": "2oKOJbOKHwKI",
    "outputId": "be5864cd-135c-4d13-bd5f-75f32d7c06b5"
   },
   "outputs": [
    {
     "data": {
      "text/html": [
       "<div>\n",
       "<style scoped>\n",
       "    .dataframe tbody tr th:only-of-type {\n",
       "        vertical-align: middle;\n",
       "    }\n",
       "\n",
       "    .dataframe tbody tr th {\n",
       "        vertical-align: top;\n",
       "    }\n",
       "\n",
       "    .dataframe thead th {\n",
       "        text-align: right;\n",
       "    }\n",
       "</style>\n",
       "<table border=\"1\" class=\"dataframe\">\n",
       "  <thead>\n",
       "    <tr style=\"text-align: right;\">\n",
       "      <th></th>\n",
       "      <th>R_fighter</th>\n",
       "      <th>B_fighter</th>\n",
       "      <th>R_odds</th>\n",
       "      <th>B_odds</th>\n",
       "      <th>R_ev</th>\n",
       "      <th>B_ev</th>\n",
       "      <th>date</th>\n",
       "      <th>location</th>\n",
       "      <th>country</th>\n",
       "      <th>Winner</th>\n",
       "      <th>...</th>\n",
       "      <th>ko_dif</th>\n",
       "      <th>sub_dif</th>\n",
       "      <th>height_dif</th>\n",
       "      <th>reach_dif</th>\n",
       "      <th>age_dif</th>\n",
       "      <th>sig_str_dif</th>\n",
       "      <th>avg_sub_att_dif</th>\n",
       "      <th>avg_td_dif</th>\n",
       "      <th>empty_arena</th>\n",
       "      <th>constant_1</th>\n",
       "    </tr>\n",
       "  </thead>\n",
       "  <tbody>\n",
       "  </tbody>\n",
       "</table>\n",
       "<p>0 rows × 79 columns</p>\n",
       "</div>"
      ],
      "text/plain": [
       "Empty DataFrame\n",
       "Columns: [R_fighter, B_fighter, R_odds, B_odds, R_ev, B_ev, date, location, country, Winner, title_bout, weight_class, gender, no_of_rounds, B_current_lose_streak, B_current_win_streak, B_draw, B_avg_SIG_STR_landed, B_avg_SIG_STR_pct, B_avg_SUB_ATT, B_avg_TD_landed, B_avg_TD_pct, B_longest_win_streak, B_losses, B_total_rounds_fought, B_total_title_bouts, B_win_by_Decision_Majority, B_win_by_Decision_Split, B_win_by_Decision_Unanimous, B_win_by_KO/TKO, B_win_by_Submission, B_win_by_TKO_Doctor_Stoppage, B_wins, B_Stance, B_Height_cms, B_Reach_cms, B_Weight_lbs, R_current_lose_streak, R_current_win_streak, R_draw, R_avg_SIG_STR_landed, R_avg_SIG_STR_pct, R_avg_SUB_ATT, R_avg_TD_landed, R_avg_TD_pct, R_longest_win_streak, R_losses, R_total_rounds_fought, R_total_title_bouts, R_win_by_Decision_Majority, R_win_by_Decision_Split, R_win_by_Decision_Unanimous, R_win_by_KO/TKO, R_win_by_Submission, R_win_by_TKO_Doctor_Stoppage, R_wins, R_Stance, R_Height_cms, R_Reach_cms, R_Weight_lbs, R_age, B_age, lose_streak_dif, win_streak_dif, longest_win_streak_dif, win_dif, loss_dif, total_round_dif, total_title_bout_dif, ko_dif, sub_dif, height_dif, reach_dif, age_dif, sig_str_dif, avg_sub_att_dif, avg_td_dif, empty_arena, constant_1]\n",
       "Index: []\n",
       "\n",
       "[0 rows x 79 columns]"
      ]
     },
     "execution_count": 5,
     "metadata": {},
     "output_type": "execute_result"
    }
   ],
   "source": [
    "duplicates = ufc.duplicated()\n",
    "ufc[duplicates]\n",
    "\n",
    "# turns out: no duplicates"
   ]
  },
  {
   "cell_type": "markdown",
   "metadata": {
    "id": "OeX18dkvHwKK"
   },
   "source": [
    "## Delete rows with at least 1 missing value (NaN), then check shape again"
   ]
  },
  {
   "cell_type": "code",
   "execution_count": 6,
   "metadata": {
    "colab": {
     "base_uri": "https://localhost:8080/"
    },
    "id": "afodxVT9HwKL",
    "outputId": "e711359c-8128-4cc5-e90b-28a1f620985f"
   },
   "outputs": [
    {
     "name": "stdout",
     "output_type": "stream",
     "text": [
      "Number of rows: 3243\n",
      "Number of columns: 79\n"
     ]
    }
   ],
   "source": [
    "ufc_df = ufc.dropna()\n",
    "\n",
    "print('Number of rows:', ufc_df.shape[0])\n",
    "print('Number of columns:', ufc_df.shape[1])"
   ]
  },
  {
   "cell_type": "markdown",
   "metadata": {
    "id": "vkh7ZqNTHwKN"
   },
   "source": [
    "## Check for missing data again"
   ]
  },
  {
   "cell_type": "code",
   "execution_count": 7,
   "metadata": {
    "colab": {
     "base_uri": "https://localhost:8080/"
    },
    "id": "0rxd8P57HwKN",
    "outputId": "46578b4b-31dd-4a19-aab8-b1a0ebe43b27"
   },
   "outputs": [
    {
     "name": "stdout",
     "output_type": "stream",
     "text": [
      "<class 'pandas.core.frame.DataFrame'>\n",
      "Int64Index: 3243 entries, 0 to 4303\n",
      "Data columns (total 79 columns):\n",
      " #   Column                        Non-Null Count  Dtype         \n",
      "---  ------                        --------------  -----         \n",
      " 0   R_fighter                     3243 non-null   object        \n",
      " 1   B_fighter                     3243 non-null   object        \n",
      " 2   R_odds                        3243 non-null   int64         \n",
      " 3   B_odds                        3243 non-null   int64         \n",
      " 4   R_ev                          3243 non-null   float64       \n",
      " 5   B_ev                          3243 non-null   float64       \n",
      " 6   date                          3243 non-null   datetime64[ns]\n",
      " 7   location                      3243 non-null   object        \n",
      " 8   country                       3243 non-null   object        \n",
      " 9   Winner                        3243 non-null   object        \n",
      " 10  title_bout                    3243 non-null   bool          \n",
      " 11  weight_class                  3243 non-null   object        \n",
      " 12  gender                        3243 non-null   object        \n",
      " 13  no_of_rounds                  3243 non-null   int64         \n",
      " 14  B_current_lose_streak         3243 non-null   int64         \n",
      " 15  B_current_win_streak          3243 non-null   int64         \n",
      " 16  B_draw                        3243 non-null   int64         \n",
      " 17  B_avg_SIG_STR_landed          3243 non-null   float64       \n",
      " 18  B_avg_SIG_STR_pct             3243 non-null   float64       \n",
      " 19  B_avg_SUB_ATT                 3243 non-null   float64       \n",
      " 20  B_avg_TD_landed               3243 non-null   float64       \n",
      " 21  B_avg_TD_pct                  3243 non-null   float64       \n",
      " 22  B_longest_win_streak          3243 non-null   int64         \n",
      " 23  B_losses                      3243 non-null   int64         \n",
      " 24  B_total_rounds_fought         3243 non-null   int64         \n",
      " 25  B_total_title_bouts           3243 non-null   int64         \n",
      " 26  B_win_by_Decision_Majority    3243 non-null   int64         \n",
      " 27  B_win_by_Decision_Split       3243 non-null   int64         \n",
      " 28  B_win_by_Decision_Unanimous   3243 non-null   int64         \n",
      " 29  B_win_by_KO/TKO               3243 non-null   int64         \n",
      " 30  B_win_by_Submission           3243 non-null   int64         \n",
      " 31  B_win_by_TKO_Doctor_Stoppage  3243 non-null   int64         \n",
      " 32  B_wins                        3243 non-null   int64         \n",
      " 33  B_Stance                      3243 non-null   object        \n",
      " 34  B_Height_cms                  3243 non-null   float64       \n",
      " 35  B_Reach_cms                   3243 non-null   float64       \n",
      " 36  B_Weight_lbs                  3243 non-null   int64         \n",
      " 37  R_current_lose_streak         3243 non-null   int64         \n",
      " 38  R_current_win_streak          3243 non-null   int64         \n",
      " 39  R_draw                        3243 non-null   int64         \n",
      " 40  R_avg_SIG_STR_landed          3243 non-null   float64       \n",
      " 41  R_avg_SIG_STR_pct             3243 non-null   float64       \n",
      " 42  R_avg_SUB_ATT                 3243 non-null   float64       \n",
      " 43  R_avg_TD_landed               3243 non-null   float64       \n",
      " 44  R_avg_TD_pct                  3243 non-null   float64       \n",
      " 45  R_longest_win_streak          3243 non-null   int64         \n",
      " 46  R_losses                      3243 non-null   int64         \n",
      " 47  R_total_rounds_fought         3243 non-null   int64         \n",
      " 48  R_total_title_bouts           3243 non-null   int64         \n",
      " 49  R_win_by_Decision_Majority    3243 non-null   int64         \n",
      " 50  R_win_by_Decision_Split       3243 non-null   int64         \n",
      " 51  R_win_by_Decision_Unanimous   3243 non-null   int64         \n",
      " 52  R_win_by_KO/TKO               3243 non-null   int64         \n",
      " 53  R_win_by_Submission           3243 non-null   int64         \n",
      " 54  R_win_by_TKO_Doctor_Stoppage  3243 non-null   int64         \n",
      " 55  R_wins                        3243 non-null   int64         \n",
      " 56  R_Stance                      3243 non-null   object        \n",
      " 57  R_Height_cms                  3243 non-null   float64       \n",
      " 58  R_Reach_cms                   3243 non-null   float64       \n",
      " 59  R_Weight_lbs                  3243 non-null   int64         \n",
      " 60  R_age                         3243 non-null   int64         \n",
      " 61  B_age                         3243 non-null   int64         \n",
      " 62  lose_streak_dif               3243 non-null   int64         \n",
      " 63  win_streak_dif                3243 non-null   int64         \n",
      " 64  longest_win_streak_dif        3243 non-null   int64         \n",
      " 65  win_dif                       3243 non-null   int64         \n",
      " 66  loss_dif                      3243 non-null   int64         \n",
      " 67  total_round_dif               3243 non-null   int64         \n",
      " 68  total_title_bout_dif          3243 non-null   int64         \n",
      " 69  ko_dif                        3243 non-null   int64         \n",
      " 70  sub_dif                       3243 non-null   int64         \n",
      " 71  height_dif                    3243 non-null   float64       \n",
      " 72  reach_dif                     3243 non-null   float64       \n",
      " 73  age_dif                       3243 non-null   int64         \n",
      " 74  sig_str_dif                   3243 non-null   float64       \n",
      " 75  avg_sub_att_dif               3243 non-null   float64       \n",
      " 76  avg_td_dif                    3243 non-null   float64       \n",
      " 77  empty_arena                   3243 non-null   int64         \n",
      " 78  constant_1                    3243 non-null   int64         \n",
      "dtypes: bool(1), datetime64[ns](1), float64(21), int64(47), object(9)\n",
      "memory usage: 2.0+ MB\n"
     ]
    }
   ],
   "source": [
    "ufc_df.info()\n",
    "\n",
    "# we have 3244 non-null value in every column --> no missing data"
   ]
  },
  {
   "cell_type": "markdown",
   "metadata": {
    "id": "r67ZNX78HwKP"
   },
   "source": [
    "## Set data (X) and target (y)"
   ]
  },
  {
   "cell_type": "code",
   "execution_count": null,
   "metadata": {
    "colab": {
     "base_uri": "https://localhost:8080/"
    },
    "id": "Cwxx-DGSHwKP",
    "outputId": "44025966-1fc8-46bd-fdc3-5e9a11bb9a1c"
   },
   "outputs": [],
   "source": [
    "X = ufc_df[['R_Height_cms', 'B_Height_cms', 'R_Reach_cms', 'B_Reach_cms', 'R_Weight_lbs', 'B_Weight_lbs', 'R_age', 'B_age', 'R_current_win_streak', 'B_current_win_streak', 'R_avg_SIG_STR_landed', 'B_avg_SIG_STR_landed']]\n",
    "y = ufc_df['Winner']\n",
    "\n",
    "print('X shape:', X.shape)\n",
    "print('y shape:', y.shape)\n",
    "\n",
    "# now we have 3243 instances instead of 4304"
   ]
  },
  {
   "cell_type": "markdown",
   "metadata": {
    "id": "epbPwd-cHwKQ"
   },
   "source": [
    "## Get training and testing sets"
   ]
  },
  {
   "cell_type": "code",
   "execution_count": null,
   "metadata": {
    "colab": {
     "base_uri": "https://localhost:8080/"
    },
    "id": "P5Bg3F3JHwKR",
    "outputId": "d31c0f5a-9c6f-4708-b79f-44ac346435de"
   },
   "outputs": [],
   "source": [
    "X_train, X_test, y_train, y_test = train_test_split(X, y, random_state=0)\n",
    "\n",
    "print(\"X_train has shape\", X_train.shape)\n",
    "print(\"X_test has shape\", X_test.shape)\n",
    "print(\"y_train has shape\", y_train.shape)\n",
    "print(\"y_test has shape\", y_test.shape)"
   ]
  },
  {
   "cell_type": "markdown",
   "metadata": {
    "id": "m-cIV56uHwKS"
   },
   "source": [
    "## Get prediction set "
   ]
  },
  {
   "cell_type": "code",
   "execution_count": null,
   "metadata": {
    "colab": {
     "base_uri": "https://localhost:8080/"
    },
    "id": "T9jIAhUHHwKS",
    "outputId": "dd6fa59a-30c6-41d7-afd7-8c278a084322"
   },
   "outputs": [],
   "source": [
    "user_inputs = []\n",
    "input_names = ['R_Height_cms', 'B_Height_cms', 'R_Reach_cms', 'B_Reach_cms', 'R_Weight_lbs', 'B_Weight_lbs', 'R_age', 'B_age', 'R_current_win_streak', 'B_current_win_streak', 'R_avg_SIG_STR_landed', 'B_avg_SIG_STR_landed']\n",
    "\n",
    "\n",
    "for i in input_names:\n",
    "    print(i, ':')\n",
    "    user_inputs.append(input())\n",
    "    print('')"
   ]
  },
  {
   "cell_type": "code",
   "execution_count": null,
   "metadata": {
    "id": "lj7kRVeYHwKT"
   },
   "outputs": [],
   "source": []
  },
  {
   "cell_type": "markdown",
   "metadata": {
    "id": "r43JJEqLHwKU"
   },
   "source": [
    "## Build models"
   ]
  },
  {
   "cell_type": "code",
   "execution_count": null,
   "metadata": {
    "id": "Cg8eeLTKHwKV"
   },
   "outputs": [],
   "source": [
    "# knn\n",
    "knn = KNeighborsClassifier()\n",
    "\n",
    "# neural network\n",
    "mpl = MLPClassifier()\n",
    "\n",
    "# decision tree\n",
    "tree = DecisionTreeClassifier()\n",
    "\n",
    "# random forest\n",
    "forest = RandomForestClassifier()\n",
    "\n",
    "classifiers = [knn, mpl, tree, forest]"
   ]
  },
  {
   "cell_type": "markdown",
   "metadata": {
    "id": "li65OncoJWM7"
   },
   "source": [
    "# Scale Data"
   ]
  },
  {
   "cell_type": "code",
   "execution_count": null,
   "metadata": {
    "id": "d7zbQjLIJJrA"
   },
   "outputs": [],
   "source": [
    "scaler = StandardScaler()\n",
    "scaler.fit(X_train)\n",
    "X_train_scaled = scaler.transform(X_train)\n",
    "X_test_scaled = scaler.transform(X_test)"
   ]
  },
  {
   "cell_type": "markdown",
   "metadata": {
    "id": "ox8FPv4cHwKV"
   },
   "source": [
    "## 'applyModel' function"
   ]
  },
  {
   "cell_type": "code",
   "execution_count": null,
   "metadata": {
    "id": "lNeaS8FeHwKW"
   },
   "outputs": [],
   "source": [
    "def applyModel(model,name,X_train, y_train, X_test, y_test):\n",
    "    m = model.fit(X_train,y_train)\n",
    "    print(name, '- Training accuracy:', m.score(X_train, y_train))\n",
    "    print(name, '- Testing accuracy:', m.score(X_test, y_test))\n",
    "    \n",
    "    X_new = np.array([user_inputs]) \n",
    "    prediction = knn.predict(X_new) \n",
    "    print(\"The prediction: \", prediction)"
   ]
  },
  {
   "cell_type": "markdown",
   "metadata": {
    "id": "wzEJ0-aXHwKX"
   },
   "source": [
    "## Train & test with the different models"
   ]
  },
  {
   "cell_type": "code",
   "execution_count": null,
   "metadata": {
    "colab": {
     "base_uri": "https://localhost:8080/"
    },
    "id": "NwxiWbfBHwKX",
    "outputId": "29594e1c-2987-4217-922c-a67e2a173357"
   },
   "outputs": [],
   "source": [
    "for c in classifiers:\n",
    "    n = str(c)\n",
    "    applyModel(c, n, X_train, y_train, X_test, y_test)\n",
    "    print('')\n",
    "    \n",
    "warnings.filterwarnings(\"ignore\")"
   ]
  },
  {
   "cell_type": "markdown",
   "metadata": {
    "id": "erocWenSHwKZ"
   },
   "source": [
    "## Play around with KNN"
   ]
  },
  {
   "cell_type": "code",
   "execution_count": null,
   "metadata": {
    "colab": {
     "base_uri": "https://localhost:8080/"
    },
    "id": "Tc4PyH1bHwKa",
    "outputId": "f100fbb6-9816-457c-ecd1-ac6d5b4de424"
   },
   "outputs": [],
   "source": [
    "training_accuracy = []\n",
    "testing_accuracy = []\n",
    "number_of_neighbors =[]\n",
    "weighting_choice = []\n",
    "\n",
    "weight_values = ['distance', 'uniform']\n",
    "\n",
    "for n_neighbors in range(1,100):\n",
    "    for weights in weight_values:\n",
    "        clf = KNeighborsClassifier(n_neighbors = n_neighbors, weights = weights)\n",
    "        clf.fit(X_train, y_train)\n",
    "        training_accuracy.append(clf.score(X_train, y_train))\n",
    "        testing_accuracy.append(clf.score(X_test, y_test))\n",
    "        number_of_neighbors.append(n_neighbors)\n",
    "        weighting_choice.append(weights)\n",
    "      \n",
    "     \n",
    "combinations_sorted_knn = sorted(list(zip(number_of_neighbors, weighting_choice, training_accuracy, testing_accuracy)), key = lambda e:e[3], reverse = True)\n",
    "\n",
    "print('Top 5 results, sorted by test accuracy:\\n')\n",
    "print(*combinations_sorted_knn[0:5], sep = \"\\n\")\n",
    "\n",
    "# save the best variables\n",
    "knn_best_n_neighbors = combinations_sorted_knn[0][0]\n",
    "knn_best_weights = combinations_sorted_knn[0][1]"
   ]
  },
  {
   "cell_type": "markdown",
   "metadata": {
    "id": "VniH_BMtHwKd"
   },
   "source": [
    "## Play around with Neural Network"
   ]
  },
  {
   "cell_type": "code",
   "execution_count": null,
   "metadata": {
    "colab": {
     "base_uri": "https://localhost:8080/"
    },
    "id": "EDYj0DOvHwKd",
    "outputId": "146f9081-0916-42b9-f2b0-95e1e9071db2"
   },
   "outputs": [],
   "source": [
    "train_acc = []\n",
    "test_acc = []\n",
    "alpha_value = []\n",
    "learning_rate_value = []\n",
    "\n",
    "\n",
    "alphas = (0.0001, 0.001, 0.1, 0, 1, 5, 100)\n",
    "learning_rates = ('constant', 'invscaling', 'adaptive')\n",
    "\n",
    "for a in alphas:\n",
    "    for l in learning_rates:\n",
    "        mpl = MLPClassifier(alpha=a, learning_rate = l)\n",
    "        mpl.fit(X_train, y_train)\n",
    "        train_acc.append(accuracy_score(mpl.predict(X_train), y_train))\n",
    "        test_acc.append(accuracy_score(mpl.predict(X_test), y_test))\n",
    "        alpha_value.append(a)\n",
    "        learning_rate_value.append(l)\n",
    "        \n",
    "\n",
    "combinations_sorted_mpl = sorted(list(zip(alpha_value, learning_rate_value, train_acc, test_acc)), key = lambda e:e[3], reverse = True)\n",
    "\n",
    "print('Top 5 results, sorted by test accuracy:\\n')\n",
    "print(*combinations_sorted_mpl[0:5], sep = \"\\n\")\n",
    "\n",
    "# save the best variables\n",
    "mpl_best_alpha = combinations_sorted_knn[0][0]\n",
    "mpl_best_learning_rate = combinations_sorted_knn[0][1]"
   ]
  },
  {
   "cell_type": "markdown",
   "metadata": {
    "id": "T5yzkEX1HwKf"
   },
   "source": [
    "## Play around with Decision Tree"
   ]
  },
  {
   "cell_type": "code",
   "execution_count": null,
   "metadata": {
    "colab": {
     "base_uri": "https://localhost:8080/"
    },
    "id": "WnOTRm4lHwKg",
    "outputId": "837a0d92-16e8-4b04-faa9-eb76c4c5fd03"
   },
   "outputs": [],
   "source": [
    "train_acc = []\n",
    "test_acc = []\n",
    "max_depth_value = []\n",
    "\n",
    "for i in range(1,30):\n",
    "    dt = DecisionTreeClassifier(max_depth = i, random_state=0)\n",
    "    dt.fit(X_train, y_train)\n",
    "    train_acc.append(accuracy_score(dt.predict(X_train), y_train))\n",
    "    test_acc.append(accuracy_score(dt.predict(X_test), y_test))\n",
    "    max_depth_value.append(i)\n",
    "\n",
    "combinations_sorted_tree = sorted(list(zip(max_depth_value, train_acc, test_acc)), key = lambda e:e[2], reverse = True)\n",
    "\n",
    "print('Top 5 results, sorted by test accuracy:\\n   (Values: depth, training accracy, test accuracy)\\n')\n",
    "print(*combinations_sorted_tree[0:5], sep = \"\\n\")\n",
    "\n",
    "# save the best variable\n",
    "tree_best_max_depth = combinations_sorted_tree[0][0]"
   ]
  },
  {
   "cell_type": "markdown",
   "metadata": {
    "id": "7JGWX9YsHwKi"
   },
   "source": [
    "## Play around with Random Forest"
   ]
  },
  {
   "cell_type": "code",
   "execution_count": null,
   "metadata": {
    "colab": {
     "base_uri": "https://localhost:8080/"
    },
    "id": "bn6_IktiHwKk",
    "outputId": "280e7efe-f30b-4195-93ed-7af72c22e3af"
   },
   "outputs": [],
   "source": [
    "train_acc = []\n",
    "test_acc = []\n",
    "max_depth_value = []\n",
    "criterion_value = []\n",
    "max_features_value = []\n",
    "\n",
    "criterions = ('gini', 'entropy')\n",
    "number_of_features = range(1,6)\n",
    "\n",
    "for i in range(1,9):\n",
    "    for c in criterions:\n",
    "        for f in number_of_features:\n",
    "                rf = RandomForestClassifier(criterion = c, max_depth = i, max_features = f, random_state=0)\n",
    "                rf.fit(X_train, y_train)\n",
    "                train_acc.append(accuracy_score(rf.predict(X_train), y_train))\n",
    "                test_acc.append(accuracy_score(rf.predict(X_test), y_test))\n",
    "                max_depth_value.append(i)\n",
    "                criterion_value.append(c)\n",
    "                max_features_value.append(f)\n",
    "\n",
    "combinations_sorted_forest = sorted(list(zip(max_features_value, criterion_value, max_depth_value, train_acc, test_acc)), key = lambda e:e[3], reverse = True)\n",
    "\n",
    "print('Top 5 results, sorted by test accuracy:\\n   (Values: depth, training accracy, test accuracy)\\n')\n",
    "print(*combinations_sorted_forest[0:5], sep = \"\\n\")\n",
    "\n",
    "# save the best variable\n"
   ]
  },
  {
   "cell_type": "code",
   "execution_count": null,
   "metadata": {},
   "outputs": [],
   "source": []
  },
  {
   "cell_type": "markdown",
   "metadata": {
    "id": "3mykQcJHHwKm"
   },
   "source": [
    "## *Here we should try XGBoost too*"
   ]
  },
  {
   "cell_type": "code",
   "execution_count": 8,
   "metadata": {},
   "outputs": [
    {
     "name": "stdout",
     "output_type": "stream",
     "text": [
      "            R_fighter             B_fighter  R_odds  B_odds        R_ev  \\\n",
      "0         Jessica Eye      Cynthia Calvillo     120    -130  120.000000   \n",
      "1       Karl Roberson        Marvin Vettori     210    -230  210.000000   \n",
      "2        Charles Rosa         Kevin Aguilar     170    -185  170.000000   \n",
      "3          Andre Fili      Charles Jourdain    -220     200   45.454545   \n",
      "4     Jordan Espinosa       Mark De La Rosa    -167     157   59.880240   \n",
      "...               ...                   ...     ...     ...         ...   \n",
      "4296   Alessio Sakara           James Irvin    -120     100   83.333333   \n",
      "4297       Clay Guida       Shannon Gugerty    -420     335   23.809524   \n",
      "4298   Eliot Marshall  Vladimir Matyushenko     145    -165  145.000000   \n",
      "4301   Brendan Schaub         Chase Gormley    -260     220   38.461538   \n",
      "4303     Eric Schafer           Jason Brilz     140    -160  140.000000   \n",
      "\n",
      "            B_ev       date                   location country Winner  ...  \\\n",
      "0      76.923077 2020-06-13     Las Vegas, Nevada, USA     USA   Blue  ...   \n",
      "1      43.478261 2020-06-13     Las Vegas, Nevada, USA     USA   Blue  ...   \n",
      "2      54.054054 2020-06-13     Las Vegas, Nevada, USA     USA    Red  ...   \n",
      "3     200.000000 2020-06-13     Las Vegas, Nevada, USA     USA    Red  ...   \n",
      "4     157.000000 2020-06-13     Las Vegas, Nevada, USA     USA    Red  ...   \n",
      "...          ...        ...                        ...     ...    ...  ...   \n",
      "4296  100.000000 2010-03-21  Broomfield, Colorado, USA     USA    Red  ...   \n",
      "4297  335.000000 2010-03-21  Broomfield, Colorado, USA     USA    Red  ...   \n",
      "4298   60.606061 2010-03-21  Broomfield, Colorado, USA     USA   Blue  ...   \n",
      "4301  220.000000 2010-03-21  Broomfield, Colorado, USA     USA    Red  ...   \n",
      "4303   62.500000 2010-03-21  Broomfield, Colorado, USA     USA   Blue  ...   \n",
      "\n",
      "      ko_dif sub_dif height_dif  reach_dif  age_dif  sig_str_dif  \\\n",
      "0         -1       3      -5.08      -5.08       -1     0.330000   \n",
      "1          0      -1      -2.54       0.00       -3     0.890000   \n",
      "2          0      -2      -5.08      10.16       -2     0.520000   \n",
      "3         -2       0      -5.08     -12.70       -5     0.850000   \n",
      "4          0       1       0.00     -10.16       -5    -0.970000   \n",
      "...      ...     ...        ...        ...      ...          ...   \n",
      "4296       0       0       5.08       7.62       -3   -15.550000   \n",
      "4297      -1       1       7.62       2.54        0   -22.350000   \n",
      "4298       1      -1      -5.08      -7.62      -10    -4.833333   \n",
      "4301       0       0      -2.54      -2.12        0    -4.000000   \n",
      "4303       0      -2     -10.16     -10.16       -2    16.000000   \n",
      "\n",
      "      avg_sub_att_dif  avg_td_dif  empty_arena  constant_1  \n",
      "0            0.900000    1.370000            1           1  \n",
      "1           -0.200000    0.360000            1           1  \n",
      "2           -1.000000   -2.110000            1           1  \n",
      "3           -0.200000   -2.490000            1           1  \n",
      "4           -0.200000   -0.190000            1           1  \n",
      "...               ...         ...          ...         ...  \n",
      "4296         0.125000   -1.000000            0           1  \n",
      "4297         0.650000   -2.150000            0           1  \n",
      "4298        -0.500000    2.166667            0           1  \n",
      "4301         1.000000    1.000000            0           1  \n",
      "4303        -0.666667    0.833333            0           1  \n",
      "\n",
      "[3243 rows x 79 columns]\n"
     ]
    },
    {
     "data": {
      "text/html": [
       "<div>\n",
       "<style scoped>\n",
       "    .dataframe tbody tr th:only-of-type {\n",
       "        vertical-align: middle;\n",
       "    }\n",
       "\n",
       "    .dataframe tbody tr th {\n",
       "        vertical-align: top;\n",
       "    }\n",
       "\n",
       "    .dataframe thead th {\n",
       "        text-align: right;\n",
       "    }\n",
       "</style>\n",
       "<table border=\"1\" class=\"dataframe\">\n",
       "  <thead>\n",
       "    <tr style=\"text-align: right;\">\n",
       "      <th></th>\n",
       "      <th>R_odds</th>\n",
       "      <th>B_odds</th>\n",
       "      <th>R_ev</th>\n",
       "      <th>B_ev</th>\n",
       "      <th>date</th>\n",
       "      <th>title_bout</th>\n",
       "      <th>no_of_rounds</th>\n",
       "      <th>B_current_lose_streak</th>\n",
       "      <th>B_current_win_streak</th>\n",
       "      <th>B_draw</th>\n",
       "      <th>...</th>\n",
       "      <th>gender_FEMALE</th>\n",
       "      <th>gender_MALE</th>\n",
       "      <th>B_Stance_Open Stance</th>\n",
       "      <th>B_Stance_Orthodox</th>\n",
       "      <th>B_Stance_Southpaw</th>\n",
       "      <th>B_Stance_Switch</th>\n",
       "      <th>R_Stance_Open Stance</th>\n",
       "      <th>R_Stance_Orthodox</th>\n",
       "      <th>R_Stance_Southpaw</th>\n",
       "      <th>R_Stance_Switch</th>\n",
       "    </tr>\n",
       "  </thead>\n",
       "  <tbody>\n",
       "    <tr>\n",
       "      <th>0</th>\n",
       "      <td>120</td>\n",
       "      <td>-130</td>\n",
       "      <td>120.000000</td>\n",
       "      <td>76.923077</td>\n",
       "      <td>2020-06-13</td>\n",
       "      <td>False</td>\n",
       "      <td>5</td>\n",
       "      <td>0</td>\n",
       "      <td>2</td>\n",
       "      <td>1</td>\n",
       "      <td>...</td>\n",
       "      <td>1</td>\n",
       "      <td>0</td>\n",
       "      <td>0</td>\n",
       "      <td>1</td>\n",
       "      <td>0</td>\n",
       "      <td>0</td>\n",
       "      <td>0</td>\n",
       "      <td>1</td>\n",
       "      <td>0</td>\n",
       "      <td>0</td>\n",
       "    </tr>\n",
       "    <tr>\n",
       "      <th>1</th>\n",
       "      <td>210</td>\n",
       "      <td>-230</td>\n",
       "      <td>210.000000</td>\n",
       "      <td>43.478261</td>\n",
       "      <td>2020-06-13</td>\n",
       "      <td>False</td>\n",
       "      <td>3</td>\n",
       "      <td>0</td>\n",
       "      <td>2</td>\n",
       "      <td>1</td>\n",
       "      <td>...</td>\n",
       "      <td>0</td>\n",
       "      <td>1</td>\n",
       "      <td>0</td>\n",
       "      <td>0</td>\n",
       "      <td>1</td>\n",
       "      <td>0</td>\n",
       "      <td>0</td>\n",
       "      <td>0</td>\n",
       "      <td>1</td>\n",
       "      <td>0</td>\n",
       "    </tr>\n",
       "    <tr>\n",
       "      <th>2</th>\n",
       "      <td>170</td>\n",
       "      <td>-185</td>\n",
       "      <td>170.000000</td>\n",
       "      <td>54.054054</td>\n",
       "      <td>2020-06-13</td>\n",
       "      <td>False</td>\n",
       "      <td>3</td>\n",
       "      <td>2</td>\n",
       "      <td>0</td>\n",
       "      <td>0</td>\n",
       "      <td>...</td>\n",
       "      <td>0</td>\n",
       "      <td>1</td>\n",
       "      <td>0</td>\n",
       "      <td>1</td>\n",
       "      <td>0</td>\n",
       "      <td>0</td>\n",
       "      <td>0</td>\n",
       "      <td>0</td>\n",
       "      <td>0</td>\n",
       "      <td>1</td>\n",
       "    </tr>\n",
       "    <tr>\n",
       "      <th>3</th>\n",
       "      <td>-220</td>\n",
       "      <td>200</td>\n",
       "      <td>45.454545</td>\n",
       "      <td>200.000000</td>\n",
       "      <td>2020-06-13</td>\n",
       "      <td>False</td>\n",
       "      <td>3</td>\n",
       "      <td>0</td>\n",
       "      <td>1</td>\n",
       "      <td>0</td>\n",
       "      <td>...</td>\n",
       "      <td>0</td>\n",
       "      <td>1</td>\n",
       "      <td>0</td>\n",
       "      <td>0</td>\n",
       "      <td>0</td>\n",
       "      <td>1</td>\n",
       "      <td>0</td>\n",
       "      <td>1</td>\n",
       "      <td>0</td>\n",
       "      <td>0</td>\n",
       "    </tr>\n",
       "    <tr>\n",
       "      <th>4</th>\n",
       "      <td>-167</td>\n",
       "      <td>157</td>\n",
       "      <td>59.880240</td>\n",
       "      <td>157.000000</td>\n",
       "      <td>2020-06-13</td>\n",
       "      <td>False</td>\n",
       "      <td>3</td>\n",
       "      <td>3</td>\n",
       "      <td>0</td>\n",
       "      <td>0</td>\n",
       "      <td>...</td>\n",
       "      <td>0</td>\n",
       "      <td>1</td>\n",
       "      <td>0</td>\n",
       "      <td>1</td>\n",
       "      <td>0</td>\n",
       "      <td>0</td>\n",
       "      <td>0</td>\n",
       "      <td>1</td>\n",
       "      <td>0</td>\n",
       "      <td>0</td>\n",
       "    </tr>\n",
       "  </tbody>\n",
       "</table>\n",
       "<p>5 rows × 2465 columns</p>\n",
       "</div>"
      ],
      "text/plain": [
       "   R_odds  B_odds        R_ev        B_ev       date  title_bout  \\\n",
       "0     120    -130  120.000000   76.923077 2020-06-13       False   \n",
       "1     210    -230  210.000000   43.478261 2020-06-13       False   \n",
       "2     170    -185  170.000000   54.054054 2020-06-13       False   \n",
       "3    -220     200   45.454545  200.000000 2020-06-13       False   \n",
       "4    -167     157   59.880240  157.000000 2020-06-13       False   \n",
       "\n",
       "   no_of_rounds  B_current_lose_streak  B_current_win_streak  B_draw  ...  \\\n",
       "0             5                      0                     2       1  ...   \n",
       "1             3                      0                     2       1  ...   \n",
       "2             3                      2                     0       0  ...   \n",
       "3             3                      0                     1       0  ...   \n",
       "4             3                      3                     0       0  ...   \n",
       "\n",
       "   gender_FEMALE  gender_MALE  B_Stance_Open Stance  B_Stance_Orthodox  \\\n",
       "0              1            0                     0                  1   \n",
       "1              0            1                     0                  0   \n",
       "2              0            1                     0                  1   \n",
       "3              0            1                     0                  0   \n",
       "4              0            1                     0                  1   \n",
       "\n",
       "   B_Stance_Southpaw  B_Stance_Switch  R_Stance_Open Stance  \\\n",
       "0                  0                0                     0   \n",
       "1                  1                0                     0   \n",
       "2                  0                0                     0   \n",
       "3                  0                1                     0   \n",
       "4                  0                0                     0   \n",
       "\n",
       "   R_Stance_Orthodox  R_Stance_Southpaw  R_Stance_Switch  \n",
       "0                  1                  0                0  \n",
       "1                  0                  1                0  \n",
       "2                  0                  0                1  \n",
       "3                  1                  0                0  \n",
       "4                  1                  0                0  \n",
       "\n",
       "[5 rows x 2465 columns]"
      ]
     },
     "execution_count": 8,
     "metadata": {},
     "output_type": "execute_result"
    }
   ],
   "source": [
    "#First we create dummy variables. \n",
    "# create dataset\n",
    "df = pd.DataFrame(ufc_df)\n",
    "  \n",
    "# display dataset\n",
    "print(df)\n",
    "  \n",
    "# create dymmy variables\n",
    "df.drop([\"R_fighter\", \"B_fighter\", \"location\", \"country\"], axis=1)\n",
    "df = pd.get_dummies(df)\n",
    "\n",
    "df.head()"
   ]
  },
  {
   "cell_type": "code",
   "execution_count": 10,
   "metadata": {},
   "outputs": [
    {
     "ename": "KeyError",
     "evalue": "'Red'",
     "output_type": "error",
     "traceback": [
      "\u001b[1;31m---------------------------------------------------------------------------\u001b[0m",
      "\u001b[1;31mKeyError\u001b[0m                                  Traceback (most recent call last)",
      "\u001b[1;32m~\\anaconda3\\lib\\site-packages\\pandas\\core\\indexes\\base.py\u001b[0m in \u001b[0;36mget_loc\u001b[1;34m(self, key, method, tolerance)\u001b[0m\n\u001b[0;32m   2894\u001b[0m             \u001b[1;32mtry\u001b[0m\u001b[1;33m:\u001b[0m\u001b[1;33m\u001b[0m\u001b[1;33m\u001b[0m\u001b[0m\n\u001b[1;32m-> 2895\u001b[1;33m                 \u001b[1;32mreturn\u001b[0m \u001b[0mself\u001b[0m\u001b[1;33m.\u001b[0m\u001b[0m_engine\u001b[0m\u001b[1;33m.\u001b[0m\u001b[0mget_loc\u001b[0m\u001b[1;33m(\u001b[0m\u001b[0mcasted_key\u001b[0m\u001b[1;33m)\u001b[0m\u001b[1;33m\u001b[0m\u001b[1;33m\u001b[0m\u001b[0m\n\u001b[0m\u001b[0;32m   2896\u001b[0m             \u001b[1;32mexcept\u001b[0m \u001b[0mKeyError\u001b[0m \u001b[1;32mas\u001b[0m \u001b[0merr\u001b[0m\u001b[1;33m:\u001b[0m\u001b[1;33m\u001b[0m\u001b[1;33m\u001b[0m\u001b[0m\n",
      "\u001b[1;32mpandas\\_libs\\index.pyx\u001b[0m in \u001b[0;36mpandas._libs.index.IndexEngine.get_loc\u001b[1;34m()\u001b[0m\n",
      "\u001b[1;32mpandas\\_libs\\index.pyx\u001b[0m in \u001b[0;36mpandas._libs.index.IndexEngine.get_loc\u001b[1;34m()\u001b[0m\n",
      "\u001b[1;32mpandas\\_libs\\hashtable_class_helper.pxi\u001b[0m in \u001b[0;36mpandas._libs.hashtable.PyObjectHashTable.get_item\u001b[1;34m()\u001b[0m\n",
      "\u001b[1;32mpandas\\_libs\\hashtable_class_helper.pxi\u001b[0m in \u001b[0;36mpandas._libs.hashtable.PyObjectHashTable.get_item\u001b[1;34m()\u001b[0m\n",
      "\u001b[1;31mKeyError\u001b[0m: 'Red'",
      "\nThe above exception was the direct cause of the following exception:\n",
      "\u001b[1;31mKeyError\u001b[0m                                  Traceback (most recent call last)",
      "\u001b[1;32m<ipython-input-10-4a7d827869bd>\u001b[0m in \u001b[0;36m<module>\u001b[1;34m\u001b[0m\n\u001b[0;32m      1\u001b[0m \u001b[0mX\u001b[0m \u001b[1;33m=\u001b[0m \u001b[0mdf\u001b[0m\u001b[1;33m[\u001b[0m\u001b[1;33m[\u001b[0m\u001b[1;34m'R_Height_cms'\u001b[0m\u001b[1;33m,\u001b[0m \u001b[1;34m'B_Height_cms'\u001b[0m\u001b[1;33m,\u001b[0m \u001b[1;34m'R_Reach_cms'\u001b[0m\u001b[1;33m,\u001b[0m \u001b[1;34m'B_Reach_cms'\u001b[0m\u001b[1;33m,\u001b[0m \u001b[1;34m'R_Weight_lbs'\u001b[0m\u001b[1;33m,\u001b[0m \u001b[1;34m'B_Weight_lbs'\u001b[0m\u001b[1;33m,\u001b[0m \u001b[1;34m'R_age'\u001b[0m\u001b[1;33m,\u001b[0m \u001b[1;34m'B_age'\u001b[0m\u001b[1;33m,\u001b[0m \u001b[1;34m'R_current_win_streak'\u001b[0m\u001b[1;33m,\u001b[0m \u001b[1;34m'B_current_win_streak'\u001b[0m\u001b[1;33m,\u001b[0m \u001b[1;34m'R_avg_SIG_STR_landed'\u001b[0m\u001b[1;33m,\u001b[0m \u001b[1;34m'B_avg_SIG_STR_landed'\u001b[0m\u001b[1;33m]\u001b[0m\u001b[1;33m]\u001b[0m\u001b[1;33m\u001b[0m\u001b[1;33m\u001b[0m\u001b[0m\n\u001b[1;32m----> 2\u001b[1;33m \u001b[0my\u001b[0m \u001b[1;33m=\u001b[0m \u001b[0mdf\u001b[0m\u001b[1;33m[\u001b[0m\u001b[1;34m'Red'\u001b[0m\u001b[1;33m]\u001b[0m\u001b[1;33m\u001b[0m\u001b[1;33m\u001b[0m\u001b[0m\n\u001b[0m",
      "\u001b[1;32m~\\anaconda3\\lib\\site-packages\\pandas\\core\\frame.py\u001b[0m in \u001b[0;36m__getitem__\u001b[1;34m(self, key)\u001b[0m\n\u001b[0;32m   2900\u001b[0m             \u001b[1;32mif\u001b[0m \u001b[0mself\u001b[0m\u001b[1;33m.\u001b[0m\u001b[0mcolumns\u001b[0m\u001b[1;33m.\u001b[0m\u001b[0mnlevels\u001b[0m \u001b[1;33m>\u001b[0m \u001b[1;36m1\u001b[0m\u001b[1;33m:\u001b[0m\u001b[1;33m\u001b[0m\u001b[1;33m\u001b[0m\u001b[0m\n\u001b[0;32m   2901\u001b[0m                 \u001b[1;32mreturn\u001b[0m \u001b[0mself\u001b[0m\u001b[1;33m.\u001b[0m\u001b[0m_getitem_multilevel\u001b[0m\u001b[1;33m(\u001b[0m\u001b[0mkey\u001b[0m\u001b[1;33m)\u001b[0m\u001b[1;33m\u001b[0m\u001b[1;33m\u001b[0m\u001b[0m\n\u001b[1;32m-> 2902\u001b[1;33m             \u001b[0mindexer\u001b[0m \u001b[1;33m=\u001b[0m \u001b[0mself\u001b[0m\u001b[1;33m.\u001b[0m\u001b[0mcolumns\u001b[0m\u001b[1;33m.\u001b[0m\u001b[0mget_loc\u001b[0m\u001b[1;33m(\u001b[0m\u001b[0mkey\u001b[0m\u001b[1;33m)\u001b[0m\u001b[1;33m\u001b[0m\u001b[1;33m\u001b[0m\u001b[0m\n\u001b[0m\u001b[0;32m   2903\u001b[0m             \u001b[1;32mif\u001b[0m \u001b[0mis_integer\u001b[0m\u001b[1;33m(\u001b[0m\u001b[0mindexer\u001b[0m\u001b[1;33m)\u001b[0m\u001b[1;33m:\u001b[0m\u001b[1;33m\u001b[0m\u001b[1;33m\u001b[0m\u001b[0m\n\u001b[0;32m   2904\u001b[0m                 \u001b[0mindexer\u001b[0m \u001b[1;33m=\u001b[0m \u001b[1;33m[\u001b[0m\u001b[0mindexer\u001b[0m\u001b[1;33m]\u001b[0m\u001b[1;33m\u001b[0m\u001b[1;33m\u001b[0m\u001b[0m\n",
      "\u001b[1;32m~\\anaconda3\\lib\\site-packages\\pandas\\core\\indexes\\base.py\u001b[0m in \u001b[0;36mget_loc\u001b[1;34m(self, key, method, tolerance)\u001b[0m\n\u001b[0;32m   2895\u001b[0m                 \u001b[1;32mreturn\u001b[0m \u001b[0mself\u001b[0m\u001b[1;33m.\u001b[0m\u001b[0m_engine\u001b[0m\u001b[1;33m.\u001b[0m\u001b[0mget_loc\u001b[0m\u001b[1;33m(\u001b[0m\u001b[0mcasted_key\u001b[0m\u001b[1;33m)\u001b[0m\u001b[1;33m\u001b[0m\u001b[1;33m\u001b[0m\u001b[0m\n\u001b[0;32m   2896\u001b[0m             \u001b[1;32mexcept\u001b[0m \u001b[0mKeyError\u001b[0m \u001b[1;32mas\u001b[0m \u001b[0merr\u001b[0m\u001b[1;33m:\u001b[0m\u001b[1;33m\u001b[0m\u001b[1;33m\u001b[0m\u001b[0m\n\u001b[1;32m-> 2897\u001b[1;33m                 \u001b[1;32mraise\u001b[0m \u001b[0mKeyError\u001b[0m\u001b[1;33m(\u001b[0m\u001b[0mkey\u001b[0m\u001b[1;33m)\u001b[0m \u001b[1;32mfrom\u001b[0m \u001b[0merr\u001b[0m\u001b[1;33m\u001b[0m\u001b[1;33m\u001b[0m\u001b[0m\n\u001b[0m\u001b[0;32m   2898\u001b[0m \u001b[1;33m\u001b[0m\u001b[0m\n\u001b[0;32m   2899\u001b[0m         \u001b[1;32mif\u001b[0m \u001b[0mtolerance\u001b[0m \u001b[1;32mis\u001b[0m \u001b[1;32mnot\u001b[0m \u001b[1;32mNone\u001b[0m\u001b[1;33m:\u001b[0m\u001b[1;33m\u001b[0m\u001b[1;33m\u001b[0m\u001b[0m\n",
      "\u001b[1;31mKeyError\u001b[0m: 'Red'"
     ]
    }
   ],
   "source": [
    "X = df[['R_Height_cms', 'B_Height_cms', 'R_Reach_cms', 'B_Reach_cms', 'R_Weight_lbs', 'B_Weight_lbs', 'R_age', 'B_age', 'R_current_win_streak', 'B_current_win_streak', 'R_avg_SIG_STR_landed', 'B_avg_SIG_STR_landed']]\n",
    "y = df['Red']"
   ]
  },
  {
   "cell_type": "code",
   "execution_count": null,
   "metadata": {},
   "outputs": [],
   "source": [
    "D_train = xgb.DMatrix(X_train, label=y_train)\n",
    "D_test = xgb.DMatrix(X_test, label=y_test)"
   ]
  },
  {
   "cell_type": "markdown",
   "metadata": {
    "id": "d0rIpvWCHwKn"
   },
   "source": [
    "## Best combinations with each model"
   ]
  },
  {
   "cell_type": "markdown",
   "metadata": {
    "colab": {
     "base_uri": "https://localhost:8080/"
    },
    "id": "DHS3QOe3HwKo",
    "outputId": "9cd64fe3-d0f0-4b87-abdc-1c5301607175"
   },
   "source": [
    "# print('KNN:', combinations_sorted_knn[0])\n",
    "print('Neural Network:', combinations_sorted_mpl[0])\n",
    "print('Decision Tree:', combinations_sorted_tree[0])\n",
    "print('Random Forest:', combinations_sorted_forest[0])\n",
    "\n",
    "# for now, neural network model has the highest test accuracy"
   ]
  }
 ],
 "metadata": {
  "colab": {
   "collapsed_sections": [],
   "name": "BDA_final_project_UFC.ipynb",
   "provenance": [],
   "toc_visible": true
  },
  "kernelspec": {
   "display_name": "Python 3",
   "language": "python",
   "name": "python3"
  },
  "language_info": {
   "codemirror_mode": {
    "name": "ipython",
    "version": 3
   },
   "file_extension": ".py",
   "mimetype": "text/x-python",
   "name": "python",
   "nbconvert_exporter": "python",
   "pygments_lexer": "ipython3",
   "version": "3.8.5"
  }
 },
 "nbformat": 4,
 "nbformat_minor": 1
}
